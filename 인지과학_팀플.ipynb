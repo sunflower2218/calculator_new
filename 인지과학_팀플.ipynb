{
  "cells": [
    {
      "cell_type": "markdown",
      "metadata": {
        "id": "view-in-github",
        "colab_type": "text"
      },
      "source": [
        "<a href=\"https://colab.research.google.com/github/sunflower2218/calculator_new/blob/master/%EC%9D%B8%EC%A7%80%EA%B3%BC%ED%95%99_%ED%8C%80%ED%94%8C.ipynb\" target=\"_parent\"><img src=\"https://colab.research.google.com/assets/colab-badge.svg\" alt=\"Open In Colab\"/></a>"
      ]
    },
    {
      "cell_type": "code",
      "execution_count": 1,
      "metadata": {
        "colab": {
          "base_uri": "https://localhost:8080/"
        },
        "id": "COocBLvEim1U",
        "outputId": "cc9f9fd0-ed89-4dee-fbdb-c5c76e826dab"
      },
      "outputs": [
        {
          "output_type": "stream",
          "name": "stdout",
          "text": [
            "Looking in indexes: https://pypi.org/simple, https://us-python.pkg.dev/colab-wheels/public/simple/\n",
            "Requirement already satisfied: tensorflow in /usr/local/lib/python3.10/dist-packages (2.12.0)\n",
            "Requirement already satisfied: keras in /usr/local/lib/python3.10/dist-packages (2.12.0)\n",
            "Requirement already satisfied: absl-py>=1.0.0 in /usr/local/lib/python3.10/dist-packages (from tensorflow) (1.4.0)\n",
            "Requirement already satisfied: astunparse>=1.6.0 in /usr/local/lib/python3.10/dist-packages (from tensorflow) (1.6.3)\n",
            "Requirement already satisfied: flatbuffers>=2.0 in /usr/local/lib/python3.10/dist-packages (from tensorflow) (23.3.3)\n",
            "Requirement already satisfied: gast<=0.4.0,>=0.2.1 in /usr/local/lib/python3.10/dist-packages (from tensorflow) (0.4.0)\n",
            "Requirement already satisfied: google-pasta>=0.1.1 in /usr/local/lib/python3.10/dist-packages (from tensorflow) (0.2.0)\n",
            "Requirement already satisfied: grpcio<2.0,>=1.24.3 in /usr/local/lib/python3.10/dist-packages (from tensorflow) (1.54.0)\n",
            "Requirement already satisfied: h5py>=2.9.0 in /usr/local/lib/python3.10/dist-packages (from tensorflow) (3.8.0)\n",
            "Requirement already satisfied: jax>=0.3.15 in /usr/local/lib/python3.10/dist-packages (from tensorflow) (0.4.10)\n",
            "Requirement already satisfied: libclang>=13.0.0 in /usr/local/lib/python3.10/dist-packages (from tensorflow) (16.0.0)\n",
            "Requirement already satisfied: numpy<1.24,>=1.22 in /usr/local/lib/python3.10/dist-packages (from tensorflow) (1.22.4)\n",
            "Requirement already satisfied: opt-einsum>=2.3.2 in /usr/local/lib/python3.10/dist-packages (from tensorflow) (3.3.0)\n",
            "Requirement already satisfied: packaging in /usr/local/lib/python3.10/dist-packages (from tensorflow) (23.1)\n",
            "Requirement already satisfied: protobuf!=4.21.0,!=4.21.1,!=4.21.2,!=4.21.3,!=4.21.4,!=4.21.5,<5.0.0dev,>=3.20.3 in /usr/local/lib/python3.10/dist-packages (from tensorflow) (3.20.3)\n",
            "Requirement already satisfied: setuptools in /usr/local/lib/python3.10/dist-packages (from tensorflow) (67.7.2)\n",
            "Requirement already satisfied: six>=1.12.0 in /usr/local/lib/python3.10/dist-packages (from tensorflow) (1.16.0)\n",
            "Requirement already satisfied: tensorboard<2.13,>=2.12 in /usr/local/lib/python3.10/dist-packages (from tensorflow) (2.12.2)\n",
            "Requirement already satisfied: tensorflow-estimator<2.13,>=2.12.0 in /usr/local/lib/python3.10/dist-packages (from tensorflow) (2.12.0)\n",
            "Requirement already satisfied: termcolor>=1.1.0 in /usr/local/lib/python3.10/dist-packages (from tensorflow) (2.3.0)\n",
            "Requirement already satisfied: typing-extensions>=3.6.6 in /usr/local/lib/python3.10/dist-packages (from tensorflow) (4.5.0)\n",
            "Requirement already satisfied: wrapt<1.15,>=1.11.0 in /usr/local/lib/python3.10/dist-packages (from tensorflow) (1.14.1)\n",
            "Requirement already satisfied: tensorflow-io-gcs-filesystem>=0.23.1 in /usr/local/lib/python3.10/dist-packages (from tensorflow) (0.32.0)\n",
            "Requirement already satisfied: wheel<1.0,>=0.23.0 in /usr/local/lib/python3.10/dist-packages (from astunparse>=1.6.0->tensorflow) (0.40.0)\n",
            "Requirement already satisfied: ml-dtypes>=0.1.0 in /usr/local/lib/python3.10/dist-packages (from jax>=0.3.15->tensorflow) (0.1.0)\n",
            "Requirement already satisfied: scipy>=1.7 in /usr/local/lib/python3.10/dist-packages (from jax>=0.3.15->tensorflow) (1.10.1)\n",
            "Requirement already satisfied: google-auth<3,>=1.6.3 in /usr/local/lib/python3.10/dist-packages (from tensorboard<2.13,>=2.12->tensorflow) (2.17.3)\n",
            "Requirement already satisfied: google-auth-oauthlib<1.1,>=0.5 in /usr/local/lib/python3.10/dist-packages (from tensorboard<2.13,>=2.12->tensorflow) (1.0.0)\n",
            "Requirement already satisfied: markdown>=2.6.8 in /usr/local/lib/python3.10/dist-packages (from tensorboard<2.13,>=2.12->tensorflow) (3.4.3)\n",
            "Requirement already satisfied: requests<3,>=2.21.0 in /usr/local/lib/python3.10/dist-packages (from tensorboard<2.13,>=2.12->tensorflow) (2.27.1)\n",
            "Requirement already satisfied: tensorboard-data-server<0.8.0,>=0.7.0 in /usr/local/lib/python3.10/dist-packages (from tensorboard<2.13,>=2.12->tensorflow) (0.7.0)\n",
            "Requirement already satisfied: tensorboard-plugin-wit>=1.6.0 in /usr/local/lib/python3.10/dist-packages (from tensorboard<2.13,>=2.12->tensorflow) (1.8.1)\n",
            "Requirement already satisfied: werkzeug>=1.0.1 in /usr/local/lib/python3.10/dist-packages (from tensorboard<2.13,>=2.12->tensorflow) (2.3.0)\n",
            "Requirement already satisfied: cachetools<6.0,>=2.0.0 in /usr/local/lib/python3.10/dist-packages (from google-auth<3,>=1.6.3->tensorboard<2.13,>=2.12->tensorflow) (5.3.0)\n",
            "Requirement already satisfied: pyasn1-modules>=0.2.1 in /usr/local/lib/python3.10/dist-packages (from google-auth<3,>=1.6.3->tensorboard<2.13,>=2.12->tensorflow) (0.3.0)\n",
            "Requirement already satisfied: rsa<5,>=3.1.4 in /usr/local/lib/python3.10/dist-packages (from google-auth<3,>=1.6.3->tensorboard<2.13,>=2.12->tensorflow) (4.9)\n",
            "Requirement already satisfied: requests-oauthlib>=0.7.0 in /usr/local/lib/python3.10/dist-packages (from google-auth-oauthlib<1.1,>=0.5->tensorboard<2.13,>=2.12->tensorflow) (1.3.1)\n",
            "Requirement already satisfied: urllib3<1.27,>=1.21.1 in /usr/local/lib/python3.10/dist-packages (from requests<3,>=2.21.0->tensorboard<2.13,>=2.12->tensorflow) (1.26.15)\n",
            "Requirement already satisfied: certifi>=2017.4.17 in /usr/local/lib/python3.10/dist-packages (from requests<3,>=2.21.0->tensorboard<2.13,>=2.12->tensorflow) (2022.12.7)\n",
            "Requirement already satisfied: charset-normalizer~=2.0.0 in /usr/local/lib/python3.10/dist-packages (from requests<3,>=2.21.0->tensorboard<2.13,>=2.12->tensorflow) (2.0.12)\n",
            "Requirement already satisfied: idna<4,>=2.5 in /usr/local/lib/python3.10/dist-packages (from requests<3,>=2.21.0->tensorboard<2.13,>=2.12->tensorflow) (3.4)\n",
            "Requirement already satisfied: MarkupSafe>=2.1.1 in /usr/local/lib/python3.10/dist-packages (from werkzeug>=1.0.1->tensorboard<2.13,>=2.12->tensorflow) (2.1.2)\n",
            "Requirement already satisfied: pyasn1<0.6.0,>=0.4.6 in /usr/local/lib/python3.10/dist-packages (from pyasn1-modules>=0.2.1->google-auth<3,>=1.6.3->tensorboard<2.13,>=2.12->tensorflow) (0.5.0)\n",
            "Requirement already satisfied: oauthlib>=3.0.0 in /usr/local/lib/python3.10/dist-packages (from requests-oauthlib>=0.7.0->google-auth-oauthlib<1.1,>=0.5->tensorboard<2.13,>=2.12->tensorflow) (3.2.2)\n"
          ]
        }
      ],
      "source": [
        "!pip install tensorflow keras"
      ]
    },
    {
      "cell_type": "code",
      "execution_count": 2,
      "metadata": {
        "id": "tJUGqf2dcBW5"
      },
      "outputs": [],
      "source": [
        "import tensorflow as tf\n",
        "import cv2 # 이미지 증강 관련 모듈"
      ]
    },
    {
      "cell_type": "code",
      "execution_count": 3,
      "metadata": {
        "id": "VST3PU9KxDfO"
      },
      "outputs": [],
      "source": [
        "import os\n",
        "import numpy as np\n",
        "import matplotlib.pyplot as plt\n",
        "from PIL import Image\n",
        "import shutil\n",
        "import random"
      ]
    },
    {
      "cell_type": "code",
      "execution_count": 4,
      "metadata": {
        "id": "8j4h4XlFCcAP"
      },
      "outputs": [],
      "source": [
        "def label_images(image_folders):\n",
        "    image_extensions = (\".jpg\")  # 이미지 파일 확장자 목록\n",
        "\n",
        "    labeled_images = []\n",
        "    for folder_path, label in image_folders:\n",
        "        for root, dirs, files in os.walk(folder_path):\n",
        "            for file in files:\n",
        "                if any(file.lower().endswith(ext) for ext in image_extensions):\n",
        "                    image_path = os.path.join(root, file)\n",
        "                    labeled_images.append((image_path, label))\n",
        "\n",
        "    return labeled_images\n",
        "\n",
        "# 이미지 폴더 경로와 라벨 정보\n",
        "image_folders = [\n",
        "    (\"/content/drive/MyDrive/철쭉/normal\", \"normal\"),\n",
        "    (\"/content/drive/MyDrive/철쭉/abnormal\", \"abnormal\")\n",
        "]\n",
        "\n",
        "# 이미지 파일 라벨링\n",
        "labeled_images = label_images(image_folders)\n",
        "\n",
        "# 라벨링된 이미지 출력\n",
        "#for image_path, label in labeled_images:\n",
        "#    print(f\"Image Path: {image_path}  Label: {label}\")"
      ]
    },
    {
      "cell_type": "code",
      "execution_count": 5,
      "metadata": {
        "id": "tNgClk8NY8tS"
      },
      "outputs": [],
      "source": [
        "# 데이터 경로 설정\n",
        "data_dir = '/content/drive/MyDrive/철쭉'\n",
        "\n",
        "# train과 test 비율 설정\n",
        "train_ratio = 0.7\n",
        "test_ratio = 0.3\n",
        "\n",
        "# abnormal 폴더 내부의 데이터 분할\n",
        "abnormal_dir = os.path.join(data_dir, 'abnormal')\n",
        "abnormal_files = os.listdir(abnormal_dir)\n",
        "random.shuffle(abnormal_files)\n",
        "\n",
        "abnormal_train_count = int(len(abnormal_files) * train_ratio)\n",
        "abnormal_train_files = abnormal_files[:abnormal_train_count]\n",
        "abnormal_test_files = abnormal_files[abnormal_train_count:]\n",
        "\n",
        "train_dir = '/content/train'\n",
        "test_dir = '/content/test'\n",
        "\n",
        "# train 폴더에 파일 복사\n",
        "os.makedirs(train_dir, exist_ok=True)\n",
        "for file in abnormal_train_files:\n",
        "    src_path = os.path.join(abnormal_dir, file)\n",
        "    label = 'abnormal'\n",
        "    dst_path = os.path.join(train_dir, f'{label}_{file}')\n",
        "    shutil.copy(src_path, dst_path)\n",
        "\n",
        "# test 폴더에 파일 복사\n",
        "os.makedirs(test_dir, exist_ok=True)\n",
        "for file in abnormal_test_files:\n",
        "    src_path = os.path.join(abnormal_dir, file)\n",
        "    label = 'abnormal'\n",
        "    dst_path = os.path.join(test_dir, f'{label}_{file}')\n",
        "    shutil.copy(src_path, dst_path)\n",
        "\n",
        "\n",
        "# normal 폴더 내부의 데이터 분할\n",
        "normal_dir = os.path.join(data_dir, 'normal')\n",
        "normal_files = os.listdir(normal_dir)\n",
        "random.shuffle(normal_files)\n",
        "\n",
        "normal_train_count = int(len(normal_files) * train_ratio)\n",
        "normal_train_files = normal_files[:normal_train_count]\n",
        "normal_test_files = normal_files[normal_train_count:]\n",
        "\n",
        "# train 폴더에 파일 복사\n",
        "for file in normal_train_files:\n",
        "    src_path = os.path.join(normal_dir, file)\n",
        "    label = 'normal'\n",
        "    dst_path = os.path.join(train_dir, f'{label}_{file}')\n",
        "    shutil.copy(src_path, dst_path)\n",
        "\n",
        "# test 폴더에 파일 복사\n",
        "for file in normal_test_files:\n",
        "    src_path = os.path.join(normal_dir, file)\n",
        "    label = 'normal'\n",
        "    dst_path = os.path.join(test_dir, f'{label}_{file}')\n",
        "    shutil.copy(src_path, dst_path)\n"
      ]
    },
    {
      "cell_type": "code",
      "source": [
        "input_directory = \"/content/train\"  # argumentation을 수행할 이미지가 있는 디렉토리 경로\n",
        "output_directory = \"/content/augmentation\"  # argumentation된 이미지를 저장할 디렉토리 경로\n",
        "\n",
        "# 폴더 생성\n",
        "os.makedirs(output_directory, exist_ok=True)\n",
        "\n",
        "# 라벨링된 이미지를 순회하며 augmentation 수행\n",
        "for image_filename in os.listdir(input_directory):\n",
        "    image_path = os.path.join(input_directory, image_filename)\n",
        "    img = cv2.imread(image_path)\n",
        "\n",
        "    if img is None:  # 이미지를 로드할 수 없는 경우\n",
        "        continue\n",
        "\n",
        "    # 이미지를 원하는 augmentation 방식으로 변형\n",
        "    augmented_images = []\n",
        "    for i in range(3):  # 각 원본 이미지마다 3개의 augmentation 이미지 생성\n",
        "        # 이미지 회전을 위한 augmentation 방식을 선택하고 적용\n",
        "        angle = np.random.randint(-20, 20)  # -20도부터 20도 사이에서 무작위로 회전 각도 선택\n",
        "        M = cv2.getRotationMatrix2D((img.shape[1] / 2, img.shape[0] / 2), angle, 1.0)\n",
        "        augmented_img = cv2.warpAffine(img, M, (img.shape[1], img.shape[0]))\n",
        "        augmented_images.append(augmented_img)\n",
        "\n",
        "    # augmentation된 이미지를 저장\n",
        "    for i, augmented_img in enumerate(augmented_images):\n",
        "        filename = f\"{os.path.splitext(image_filename)[0]}_augmented_{i}.jpg\"\n",
        "        output_path = os.path.join(output_directory, filename)\n",
        "        cv2.imwrite(output_path, augmented_img)"
      ],
      "metadata": {
        "id": "zzCwViZ5KL3E"
      },
      "execution_count": 6,
      "outputs": []
    },
    {
      "cell_type": "code",
      "execution_count": 7,
      "metadata": {
        "id": "3Li-aFCuqBYo",
        "colab": {
          "base_uri": "https://localhost:8080/"
        },
        "outputId": "346760e0-958a-4798-c9ec-69827ff25a6e"
      },
      "outputs": [
        {
          "output_type": "stream",
          "name": "stdout",
          "text": [
            "Epoch 1/400\n"
          ]
        },
        {
          "output_type": "stream",
          "name": "stderr",
          "text": [
            "WARNING:tensorflow:Can save best model only with val_loss available, skipping.\n"
          ]
        },
        {
          "output_type": "stream",
          "name": "stdout",
          "text": [
            "34/34 - 12s - loss: 0.7714 - accuracy: 0.5796 - 12s/epoch - 352ms/step\n",
            "Epoch 2/400\n"
          ]
        },
        {
          "output_type": "stream",
          "name": "stderr",
          "text": [
            "WARNING:tensorflow:Can save best model only with val_loss available, skipping.\n"
          ]
        },
        {
          "output_type": "stream",
          "name": "stdout",
          "text": [
            "34/34 - 0s - loss: 0.5175 - accuracy: 0.7378 - 485ms/epoch - 14ms/step\n",
            "Epoch 3/400\n"
          ]
        },
        {
          "output_type": "stream",
          "name": "stderr",
          "text": [
            "WARNING:tensorflow:Can save best model only with val_loss available, skipping.\n"
          ]
        },
        {
          "output_type": "stream",
          "name": "stdout",
          "text": [
            "34/34 - 0s - loss: 0.3756 - accuracy: 0.8380 - 476ms/epoch - 14ms/step\n",
            "Epoch 4/400\n"
          ]
        },
        {
          "output_type": "stream",
          "name": "stderr",
          "text": [
            "WARNING:tensorflow:Can save best model only with val_loss available, skipping.\n"
          ]
        },
        {
          "output_type": "stream",
          "name": "stdout",
          "text": [
            "34/34 - 0s - loss: 0.3015 - accuracy: 0.8773 - 469ms/epoch - 14ms/step\n",
            "Epoch 5/400\n"
          ]
        },
        {
          "output_type": "stream",
          "name": "stderr",
          "text": [
            "WARNING:tensorflow:Can save best model only with val_loss available, skipping.\n"
          ]
        },
        {
          "output_type": "stream",
          "name": "stdout",
          "text": [
            "34/34 - 0s - loss: 0.2124 - accuracy: 0.9139 - 472ms/epoch - 14ms/step\n",
            "Epoch 6/400\n"
          ]
        },
        {
          "output_type": "stream",
          "name": "stderr",
          "text": [
            "WARNING:tensorflow:Can save best model only with val_loss available, skipping.\n"
          ]
        },
        {
          "output_type": "stream",
          "name": "stdout",
          "text": [
            "34/34 - 0s - loss: 0.1209 - accuracy: 0.9588 - 470ms/epoch - 14ms/step\n",
            "Epoch 7/400\n"
          ]
        },
        {
          "output_type": "stream",
          "name": "stderr",
          "text": [
            "WARNING:tensorflow:Can save best model only with val_loss available, skipping.\n"
          ]
        },
        {
          "output_type": "stream",
          "name": "stdout",
          "text": [
            "34/34 - 0s - loss: 0.0607 - accuracy: 0.9813 - 468ms/epoch - 14ms/step\n",
            "Epoch 8/400\n"
          ]
        },
        {
          "output_type": "stream",
          "name": "stderr",
          "text": [
            "WARNING:tensorflow:Can save best model only with val_loss available, skipping.\n"
          ]
        },
        {
          "output_type": "stream",
          "name": "stdout",
          "text": [
            "34/34 - 0s - loss: 0.0186 - accuracy: 0.9981 - 466ms/epoch - 14ms/step\n",
            "Epoch 9/400\n"
          ]
        },
        {
          "output_type": "stream",
          "name": "stderr",
          "text": [
            "WARNING:tensorflow:Can save best model only with val_loss available, skipping.\n"
          ]
        },
        {
          "output_type": "stream",
          "name": "stdout",
          "text": [
            "34/34 - 0s - loss: 0.0104 - accuracy: 1.0000 - 472ms/epoch - 14ms/step\n",
            "Epoch 10/400\n"
          ]
        },
        {
          "output_type": "stream",
          "name": "stderr",
          "text": [
            "WARNING:tensorflow:Can save best model only with val_loss available, skipping.\n"
          ]
        },
        {
          "output_type": "stream",
          "name": "stdout",
          "text": [
            "34/34 - 0s - loss: 0.0039 - accuracy: 1.0000 - 465ms/epoch - 14ms/step\n",
            "Epoch 11/400\n"
          ]
        },
        {
          "output_type": "stream",
          "name": "stderr",
          "text": [
            "WARNING:tensorflow:Can save best model only with val_loss available, skipping.\n"
          ]
        },
        {
          "output_type": "stream",
          "name": "stdout",
          "text": [
            "34/34 - 0s - loss: 0.0019 - accuracy: 1.0000 - 462ms/epoch - 14ms/step\n",
            "Epoch 12/400\n"
          ]
        },
        {
          "output_type": "stream",
          "name": "stderr",
          "text": [
            "WARNING:tensorflow:Can save best model only with val_loss available, skipping.\n"
          ]
        },
        {
          "output_type": "stream",
          "name": "stdout",
          "text": [
            "34/34 - 0s - loss: 9.0413e-04 - accuracy: 1.0000 - 467ms/epoch - 14ms/step\n",
            "Epoch 13/400\n"
          ]
        },
        {
          "output_type": "stream",
          "name": "stderr",
          "text": [
            "WARNING:tensorflow:Can save best model only with val_loss available, skipping.\n"
          ]
        },
        {
          "output_type": "stream",
          "name": "stdout",
          "text": [
            "34/34 - 0s - loss: 6.3166e-04 - accuracy: 1.0000 - 470ms/epoch - 14ms/step\n",
            "Epoch 14/400\n"
          ]
        },
        {
          "output_type": "stream",
          "name": "stderr",
          "text": [
            "WARNING:tensorflow:Can save best model only with val_loss available, skipping.\n"
          ]
        },
        {
          "output_type": "stream",
          "name": "stdout",
          "text": [
            "34/34 - 0s - loss: 4.7805e-04 - accuracy: 1.0000 - 463ms/epoch - 14ms/step\n",
            "Epoch 15/400\n"
          ]
        },
        {
          "output_type": "stream",
          "name": "stderr",
          "text": [
            "WARNING:tensorflow:Can save best model only with val_loss available, skipping.\n"
          ]
        },
        {
          "output_type": "stream",
          "name": "stdout",
          "text": [
            "34/34 - 0s - loss: 3.8886e-04 - accuracy: 1.0000 - 471ms/epoch - 14ms/step\n",
            "Epoch 16/400\n"
          ]
        },
        {
          "output_type": "stream",
          "name": "stderr",
          "text": [
            "WARNING:tensorflow:Can save best model only with val_loss available, skipping.\n"
          ]
        },
        {
          "output_type": "stream",
          "name": "stdout",
          "text": [
            "34/34 - 0s - loss: 3.2400e-04 - accuracy: 1.0000 - 477ms/epoch - 14ms/step\n",
            "Epoch 17/400\n"
          ]
        },
        {
          "output_type": "stream",
          "name": "stderr",
          "text": [
            "WARNING:tensorflow:Can save best model only with val_loss available, skipping.\n"
          ]
        },
        {
          "output_type": "stream",
          "name": "stdout",
          "text": [
            "34/34 - 0s - loss: 2.8035e-04 - accuracy: 1.0000 - 469ms/epoch - 14ms/step\n",
            "Epoch 18/400\n"
          ]
        },
        {
          "output_type": "stream",
          "name": "stderr",
          "text": [
            "WARNING:tensorflow:Can save best model only with val_loss available, skipping.\n"
          ]
        },
        {
          "output_type": "stream",
          "name": "stdout",
          "text": [
            "34/34 - 0s - loss: 2.4117e-04 - accuracy: 1.0000 - 471ms/epoch - 14ms/step\n",
            "Epoch 19/400\n"
          ]
        },
        {
          "output_type": "stream",
          "name": "stderr",
          "text": [
            "WARNING:tensorflow:Can save best model only with val_loss available, skipping.\n"
          ]
        },
        {
          "output_type": "stream",
          "name": "stdout",
          "text": [
            "34/34 - 0s - loss: 2.1608e-04 - accuracy: 1.0000 - 471ms/epoch - 14ms/step\n",
            "Epoch 20/400\n"
          ]
        },
        {
          "output_type": "stream",
          "name": "stderr",
          "text": [
            "WARNING:tensorflow:Can save best model only with val_loss available, skipping.\n"
          ]
        },
        {
          "output_type": "stream",
          "name": "stdout",
          "text": [
            "34/34 - 1s - loss: 1.8548e-04 - accuracy: 1.0000 - 504ms/epoch - 15ms/step\n",
            "Epoch 21/400\n"
          ]
        },
        {
          "output_type": "stream",
          "name": "stderr",
          "text": [
            "WARNING:tensorflow:Can save best model only with val_loss available, skipping.\n"
          ]
        },
        {
          "output_type": "stream",
          "name": "stdout",
          "text": [
            "34/34 - 1s - loss: 1.6973e-04 - accuracy: 1.0000 - 529ms/epoch - 16ms/step\n",
            "Epoch 22/400\n"
          ]
        },
        {
          "output_type": "stream",
          "name": "stderr",
          "text": [
            "WARNING:tensorflow:Can save best model only with val_loss available, skipping.\n"
          ]
        },
        {
          "output_type": "stream",
          "name": "stdout",
          "text": [
            "34/34 - 1s - loss: 1.5057e-04 - accuracy: 1.0000 - 525ms/epoch - 15ms/step\n",
            "Epoch 23/400\n"
          ]
        },
        {
          "output_type": "stream",
          "name": "stderr",
          "text": [
            "WARNING:tensorflow:Can save best model only with val_loss available, skipping.\n"
          ]
        },
        {
          "output_type": "stream",
          "name": "stdout",
          "text": [
            "34/34 - 1s - loss: 1.3803e-04 - accuracy: 1.0000 - 550ms/epoch - 16ms/step\n",
            "Epoch 24/400\n"
          ]
        },
        {
          "output_type": "stream",
          "name": "stderr",
          "text": [
            "WARNING:tensorflow:Can save best model only with val_loss available, skipping.\n"
          ]
        },
        {
          "output_type": "stream",
          "name": "stdout",
          "text": [
            "34/34 - 1s - loss: 1.2255e-04 - accuracy: 1.0000 - 522ms/epoch - 15ms/step\n",
            "Epoch 25/400\n"
          ]
        },
        {
          "output_type": "stream",
          "name": "stderr",
          "text": [
            "WARNING:tensorflow:Can save best model only with val_loss available, skipping.\n"
          ]
        },
        {
          "output_type": "stream",
          "name": "stdout",
          "text": [
            "34/34 - 1s - loss: 1.1099e-04 - accuracy: 1.0000 - 517ms/epoch - 15ms/step\n",
            "Epoch 26/400\n"
          ]
        },
        {
          "output_type": "stream",
          "name": "stderr",
          "text": [
            "WARNING:tensorflow:Can save best model only with val_loss available, skipping.\n"
          ]
        },
        {
          "output_type": "stream",
          "name": "stdout",
          "text": [
            "34/34 - 1s - loss: 1.0037e-04 - accuracy: 1.0000 - 516ms/epoch - 15ms/step\n",
            "Epoch 27/400\n"
          ]
        },
        {
          "output_type": "stream",
          "name": "stderr",
          "text": [
            "WARNING:tensorflow:Can save best model only with val_loss available, skipping.\n"
          ]
        },
        {
          "output_type": "stream",
          "name": "stdout",
          "text": [
            "34/34 - 1s - loss: 9.2307e-05 - accuracy: 1.0000 - 504ms/epoch - 15ms/step\n",
            "Epoch 28/400\n"
          ]
        },
        {
          "output_type": "stream",
          "name": "stderr",
          "text": [
            "WARNING:tensorflow:Can save best model only with val_loss available, skipping.\n"
          ]
        },
        {
          "output_type": "stream",
          "name": "stdout",
          "text": [
            "34/34 - 0s - loss: 8.7268e-05 - accuracy: 1.0000 - 479ms/epoch - 14ms/step\n",
            "Epoch 29/400\n"
          ]
        },
        {
          "output_type": "stream",
          "name": "stderr",
          "text": [
            "WARNING:tensorflow:Can save best model only with val_loss available, skipping.\n"
          ]
        },
        {
          "output_type": "stream",
          "name": "stdout",
          "text": [
            "34/34 - 0s - loss: 7.8627e-05 - accuracy: 1.0000 - 458ms/epoch - 13ms/step\n",
            "Epoch 30/400\n"
          ]
        },
        {
          "output_type": "stream",
          "name": "stderr",
          "text": [
            "WARNING:tensorflow:Can save best model only with val_loss available, skipping.\n"
          ]
        },
        {
          "output_type": "stream",
          "name": "stdout",
          "text": [
            "34/34 - 0s - loss: 7.4471e-05 - accuracy: 1.0000 - 478ms/epoch - 14ms/step\n",
            "Epoch 31/400\n"
          ]
        },
        {
          "output_type": "stream",
          "name": "stderr",
          "text": [
            "WARNING:tensorflow:Can save best model only with val_loss available, skipping.\n"
          ]
        },
        {
          "output_type": "stream",
          "name": "stdout",
          "text": [
            "34/34 - 0s - loss: 6.7325e-05 - accuracy: 1.0000 - 467ms/epoch - 14ms/step\n",
            "Epoch 32/400\n"
          ]
        },
        {
          "output_type": "stream",
          "name": "stderr",
          "text": [
            "WARNING:tensorflow:Can save best model only with val_loss available, skipping.\n"
          ]
        },
        {
          "output_type": "stream",
          "name": "stdout",
          "text": [
            "34/34 - 0s - loss: 6.2318e-05 - accuracy: 1.0000 - 477ms/epoch - 14ms/step\n",
            "Epoch 33/400\n"
          ]
        },
        {
          "output_type": "stream",
          "name": "stderr",
          "text": [
            "WARNING:tensorflow:Can save best model only with val_loss available, skipping.\n"
          ]
        },
        {
          "output_type": "stream",
          "name": "stdout",
          "text": [
            "34/34 - 0s - loss: 5.9026e-05 - accuracy: 1.0000 - 470ms/epoch - 14ms/step\n",
            "Epoch 34/400\n"
          ]
        },
        {
          "output_type": "stream",
          "name": "stderr",
          "text": [
            "WARNING:tensorflow:Can save best model only with val_loss available, skipping.\n"
          ]
        },
        {
          "output_type": "stream",
          "name": "stdout",
          "text": [
            "34/34 - 0s - loss: 5.4412e-05 - accuracy: 1.0000 - 469ms/epoch - 14ms/step\n",
            "Epoch 35/400\n"
          ]
        },
        {
          "output_type": "stream",
          "name": "stderr",
          "text": [
            "WARNING:tensorflow:Can save best model only with val_loss available, skipping.\n"
          ]
        },
        {
          "output_type": "stream",
          "name": "stdout",
          "text": [
            "34/34 - 0s - loss: 5.0487e-05 - accuracy: 1.0000 - 471ms/epoch - 14ms/step\n",
            "Epoch 36/400\n"
          ]
        },
        {
          "output_type": "stream",
          "name": "stderr",
          "text": [
            "WARNING:tensorflow:Can save best model only with val_loss available, skipping.\n"
          ]
        },
        {
          "output_type": "stream",
          "name": "stdout",
          "text": [
            "34/34 - 0s - loss: 4.7735e-05 - accuracy: 1.0000 - 473ms/epoch - 14ms/step\n",
            "Epoch 37/400\n"
          ]
        },
        {
          "output_type": "stream",
          "name": "stderr",
          "text": [
            "WARNING:tensorflow:Can save best model only with val_loss available, skipping.\n"
          ]
        },
        {
          "output_type": "stream",
          "name": "stdout",
          "text": [
            "34/34 - 0s - loss: 4.5061e-05 - accuracy: 1.0000 - 487ms/epoch - 14ms/step\n",
            "Epoch 38/400\n"
          ]
        },
        {
          "output_type": "stream",
          "name": "stderr",
          "text": [
            "WARNING:tensorflow:Can save best model only with val_loss available, skipping.\n"
          ]
        },
        {
          "output_type": "stream",
          "name": "stdout",
          "text": [
            "34/34 - 0s - loss: 4.1230e-05 - accuracy: 1.0000 - 474ms/epoch - 14ms/step\n",
            "Epoch 39/400\n"
          ]
        },
        {
          "output_type": "stream",
          "name": "stderr",
          "text": [
            "WARNING:tensorflow:Can save best model only with val_loss available, skipping.\n"
          ]
        },
        {
          "output_type": "stream",
          "name": "stdout",
          "text": [
            "34/34 - 0s - loss: 3.9429e-05 - accuracy: 1.0000 - 472ms/epoch - 14ms/step\n",
            "Epoch 40/400\n"
          ]
        },
        {
          "output_type": "stream",
          "name": "stderr",
          "text": [
            "WARNING:tensorflow:Can save best model only with val_loss available, skipping.\n"
          ]
        },
        {
          "output_type": "stream",
          "name": "stdout",
          "text": [
            "34/34 - 0s - loss: 3.6575e-05 - accuracy: 1.0000 - 464ms/epoch - 14ms/step\n",
            "Epoch 41/400\n"
          ]
        },
        {
          "output_type": "stream",
          "name": "stderr",
          "text": [
            "WARNING:tensorflow:Can save best model only with val_loss available, skipping.\n"
          ]
        },
        {
          "output_type": "stream",
          "name": "stdout",
          "text": [
            "34/34 - 0s - loss: 3.4645e-05 - accuracy: 1.0000 - 463ms/epoch - 14ms/step\n",
            "Epoch 42/400\n"
          ]
        },
        {
          "output_type": "stream",
          "name": "stderr",
          "text": [
            "WARNING:tensorflow:Can save best model only with val_loss available, skipping.\n"
          ]
        },
        {
          "output_type": "stream",
          "name": "stdout",
          "text": [
            "34/34 - 0s - loss: 3.2706e-05 - accuracy: 1.0000 - 464ms/epoch - 14ms/step\n",
            "Epoch 43/400\n"
          ]
        },
        {
          "output_type": "stream",
          "name": "stderr",
          "text": [
            "WARNING:tensorflow:Can save best model only with val_loss available, skipping.\n"
          ]
        },
        {
          "output_type": "stream",
          "name": "stdout",
          "text": [
            "34/34 - 0s - loss: 3.0886e-05 - accuracy: 1.0000 - 475ms/epoch - 14ms/step\n",
            "Epoch 44/400\n"
          ]
        },
        {
          "output_type": "stream",
          "name": "stderr",
          "text": [
            "WARNING:tensorflow:Can save best model only with val_loss available, skipping.\n"
          ]
        },
        {
          "output_type": "stream",
          "name": "stdout",
          "text": [
            "34/34 - 0s - loss: 2.9440e-05 - accuracy: 1.0000 - 468ms/epoch - 14ms/step\n",
            "Epoch 45/400\n"
          ]
        },
        {
          "output_type": "stream",
          "name": "stderr",
          "text": [
            "WARNING:tensorflow:Can save best model only with val_loss available, skipping.\n"
          ]
        },
        {
          "output_type": "stream",
          "name": "stdout",
          "text": [
            "34/34 - 0s - loss: 2.7557e-05 - accuracy: 1.0000 - 500ms/epoch - 15ms/step\n",
            "Epoch 46/400\n"
          ]
        },
        {
          "output_type": "stream",
          "name": "stderr",
          "text": [
            "WARNING:tensorflow:Can save best model only with val_loss available, skipping.\n"
          ]
        },
        {
          "output_type": "stream",
          "name": "stdout",
          "text": [
            "34/34 - 0s - loss: 2.6208e-05 - accuracy: 1.0000 - 472ms/epoch - 14ms/step\n",
            "Epoch 47/400\n"
          ]
        },
        {
          "output_type": "stream",
          "name": "stderr",
          "text": [
            "WARNING:tensorflow:Can save best model only with val_loss available, skipping.\n"
          ]
        },
        {
          "output_type": "stream",
          "name": "stdout",
          "text": [
            "34/34 - 0s - loss: 2.4992e-05 - accuracy: 1.0000 - 486ms/epoch - 14ms/step\n",
            "Epoch 48/400\n"
          ]
        },
        {
          "output_type": "stream",
          "name": "stderr",
          "text": [
            "WARNING:tensorflow:Can save best model only with val_loss available, skipping.\n"
          ]
        },
        {
          "output_type": "stream",
          "name": "stdout",
          "text": [
            "34/34 - 1s - loss: 2.3566e-05 - accuracy: 1.0000 - 500ms/epoch - 15ms/step\n",
            "Epoch 49/400\n"
          ]
        },
        {
          "output_type": "stream",
          "name": "stderr",
          "text": [
            "WARNING:tensorflow:Can save best model only with val_loss available, skipping.\n"
          ]
        },
        {
          "output_type": "stream",
          "name": "stdout",
          "text": [
            "34/34 - 1s - loss: 2.2463e-05 - accuracy: 1.0000 - 531ms/epoch - 16ms/step\n",
            "Epoch 50/400\n"
          ]
        },
        {
          "output_type": "stream",
          "name": "stderr",
          "text": [
            "WARNING:tensorflow:Can save best model only with val_loss available, skipping.\n"
          ]
        },
        {
          "output_type": "stream",
          "name": "stdout",
          "text": [
            "34/34 - 1s - loss: 2.1263e-05 - accuracy: 1.0000 - 522ms/epoch - 15ms/step\n",
            "Epoch 51/400\n"
          ]
        },
        {
          "output_type": "stream",
          "name": "stderr",
          "text": [
            "WARNING:tensorflow:Can save best model only with val_loss available, skipping.\n"
          ]
        },
        {
          "output_type": "stream",
          "name": "stdout",
          "text": [
            "34/34 - 1s - loss: 2.0150e-05 - accuracy: 1.0000 - 537ms/epoch - 16ms/step\n",
            "Epoch 52/400\n"
          ]
        },
        {
          "output_type": "stream",
          "name": "stderr",
          "text": [
            "WARNING:tensorflow:Can save best model only with val_loss available, skipping.\n"
          ]
        },
        {
          "output_type": "stream",
          "name": "stdout",
          "text": [
            "34/34 - 1s - loss: 1.9338e-05 - accuracy: 1.0000 - 518ms/epoch - 15ms/step\n",
            "Epoch 53/400\n"
          ]
        },
        {
          "output_type": "stream",
          "name": "stderr",
          "text": [
            "WARNING:tensorflow:Can save best model only with val_loss available, skipping.\n"
          ]
        },
        {
          "output_type": "stream",
          "name": "stdout",
          "text": [
            "34/34 - 1s - loss: 1.8430e-05 - accuracy: 1.0000 - 521ms/epoch - 15ms/step\n",
            "Epoch 54/400\n"
          ]
        },
        {
          "output_type": "stream",
          "name": "stderr",
          "text": [
            "WARNING:tensorflow:Can save best model only with val_loss available, skipping.\n"
          ]
        },
        {
          "output_type": "stream",
          "name": "stdout",
          "text": [
            "34/34 - 1s - loss: 1.7480e-05 - accuracy: 1.0000 - 531ms/epoch - 16ms/step\n",
            "Epoch 55/400\n"
          ]
        },
        {
          "output_type": "stream",
          "name": "stderr",
          "text": [
            "WARNING:tensorflow:Can save best model only with val_loss available, skipping.\n"
          ]
        },
        {
          "output_type": "stream",
          "name": "stdout",
          "text": [
            "34/34 - 1s - loss: 1.6627e-05 - accuracy: 1.0000 - 509ms/epoch - 15ms/step\n",
            "Epoch 56/400\n"
          ]
        },
        {
          "output_type": "stream",
          "name": "stderr",
          "text": [
            "WARNING:tensorflow:Can save best model only with val_loss available, skipping.\n"
          ]
        },
        {
          "output_type": "stream",
          "name": "stdout",
          "text": [
            "34/34 - 0s - loss: 1.5936e-05 - accuracy: 1.0000 - 463ms/epoch - 14ms/step\n",
            "Epoch 57/400\n"
          ]
        },
        {
          "output_type": "stream",
          "name": "stderr",
          "text": [
            "WARNING:tensorflow:Can save best model only with val_loss available, skipping.\n"
          ]
        },
        {
          "output_type": "stream",
          "name": "stdout",
          "text": [
            "34/34 - 0s - loss: 1.5347e-05 - accuracy: 1.0000 - 480ms/epoch - 14ms/step\n",
            "Epoch 58/400\n"
          ]
        },
        {
          "output_type": "stream",
          "name": "stderr",
          "text": [
            "WARNING:tensorflow:Can save best model only with val_loss available, skipping.\n"
          ]
        },
        {
          "output_type": "stream",
          "name": "stdout",
          "text": [
            "34/34 - 0s - loss: 1.4576e-05 - accuracy: 1.0000 - 461ms/epoch - 14ms/step\n",
            "Epoch 59/400\n"
          ]
        },
        {
          "output_type": "stream",
          "name": "stderr",
          "text": [
            "WARNING:tensorflow:Can save best model only with val_loss available, skipping.\n"
          ]
        },
        {
          "output_type": "stream",
          "name": "stdout",
          "text": [
            "34/34 - 0s - loss: 1.3969e-05 - accuracy: 1.0000 - 473ms/epoch - 14ms/step\n",
            "Epoch 60/400\n"
          ]
        },
        {
          "output_type": "stream",
          "name": "stderr",
          "text": [
            "WARNING:tensorflow:Can save best model only with val_loss available, skipping.\n"
          ]
        },
        {
          "output_type": "stream",
          "name": "stdout",
          "text": [
            "34/34 - 0s - loss: 1.3398e-05 - accuracy: 1.0000 - 480ms/epoch - 14ms/step\n",
            "Epoch 61/400\n"
          ]
        },
        {
          "output_type": "stream",
          "name": "stderr",
          "text": [
            "WARNING:tensorflow:Can save best model only with val_loss available, skipping.\n"
          ]
        },
        {
          "output_type": "stream",
          "name": "stdout",
          "text": [
            "34/34 - 0s - loss: 1.2854e-05 - accuracy: 1.0000 - 466ms/epoch - 14ms/step\n",
            "Epoch 62/400\n"
          ]
        },
        {
          "output_type": "stream",
          "name": "stderr",
          "text": [
            "WARNING:tensorflow:Can save best model only with val_loss available, skipping.\n"
          ]
        },
        {
          "output_type": "stream",
          "name": "stdout",
          "text": [
            "34/34 - 0s - loss: 1.2188e-05 - accuracy: 1.0000 - 474ms/epoch - 14ms/step\n",
            "Epoch 63/400\n"
          ]
        },
        {
          "output_type": "stream",
          "name": "stderr",
          "text": [
            "WARNING:tensorflow:Can save best model only with val_loss available, skipping.\n"
          ]
        },
        {
          "output_type": "stream",
          "name": "stdout",
          "text": [
            "34/34 - 0s - loss: 1.1820e-05 - accuracy: 1.0000 - 470ms/epoch - 14ms/step\n",
            "Epoch 64/400\n"
          ]
        },
        {
          "output_type": "stream",
          "name": "stderr",
          "text": [
            "WARNING:tensorflow:Can save best model only with val_loss available, skipping.\n"
          ]
        },
        {
          "output_type": "stream",
          "name": "stdout",
          "text": [
            "34/34 - 0s - loss: 1.1337e-05 - accuracy: 1.0000 - 469ms/epoch - 14ms/step\n",
            "Epoch 65/400\n"
          ]
        },
        {
          "output_type": "stream",
          "name": "stderr",
          "text": [
            "WARNING:tensorflow:Can save best model only with val_loss available, skipping.\n"
          ]
        },
        {
          "output_type": "stream",
          "name": "stdout",
          "text": [
            "34/34 - 0s - loss: 1.0874e-05 - accuracy: 1.0000 - 479ms/epoch - 14ms/step\n",
            "Epoch 66/400\n"
          ]
        },
        {
          "output_type": "stream",
          "name": "stderr",
          "text": [
            "WARNING:tensorflow:Can save best model only with val_loss available, skipping.\n"
          ]
        },
        {
          "output_type": "stream",
          "name": "stdout",
          "text": [
            "34/34 - 0s - loss: 1.0472e-05 - accuracy: 1.0000 - 470ms/epoch - 14ms/step\n",
            "Epoch 67/400\n"
          ]
        },
        {
          "output_type": "stream",
          "name": "stderr",
          "text": [
            "WARNING:tensorflow:Can save best model only with val_loss available, skipping.\n"
          ]
        },
        {
          "output_type": "stream",
          "name": "stdout",
          "text": [
            "34/34 - 0s - loss: 9.9768e-06 - accuracy: 1.0000 - 480ms/epoch - 14ms/step\n",
            "Epoch 68/400\n"
          ]
        },
        {
          "output_type": "stream",
          "name": "stderr",
          "text": [
            "WARNING:tensorflow:Can save best model only with val_loss available, skipping.\n"
          ]
        },
        {
          "output_type": "stream",
          "name": "stdout",
          "text": [
            "34/34 - 0s - loss: 9.6557e-06 - accuracy: 1.0000 - 477ms/epoch - 14ms/step\n",
            "Epoch 69/400\n"
          ]
        },
        {
          "output_type": "stream",
          "name": "stderr",
          "text": [
            "WARNING:tensorflow:Can save best model only with val_loss available, skipping.\n"
          ]
        },
        {
          "output_type": "stream",
          "name": "stdout",
          "text": [
            "34/34 - 0s - loss: 9.1762e-06 - accuracy: 1.0000 - 471ms/epoch - 14ms/step\n",
            "Epoch 70/400\n"
          ]
        },
        {
          "output_type": "stream",
          "name": "stderr",
          "text": [
            "WARNING:tensorflow:Can save best model only with val_loss available, skipping.\n"
          ]
        },
        {
          "output_type": "stream",
          "name": "stdout",
          "text": [
            "34/34 - 0s - loss: 8.8428e-06 - accuracy: 1.0000 - 471ms/epoch - 14ms/step\n",
            "Epoch 71/400\n"
          ]
        },
        {
          "output_type": "stream",
          "name": "stderr",
          "text": [
            "WARNING:tensorflow:Can save best model only with val_loss available, skipping.\n"
          ]
        },
        {
          "output_type": "stream",
          "name": "stdout",
          "text": [
            "34/34 - 0s - loss: 8.4999e-06 - accuracy: 1.0000 - 484ms/epoch - 14ms/step\n",
            "Epoch 72/400\n"
          ]
        },
        {
          "output_type": "stream",
          "name": "stderr",
          "text": [
            "WARNING:tensorflow:Can save best model only with val_loss available, skipping.\n"
          ]
        },
        {
          "output_type": "stream",
          "name": "stdout",
          "text": [
            "34/34 - 0s - loss: 8.3137e-06 - accuracy: 1.0000 - 475ms/epoch - 14ms/step\n",
            "Epoch 73/400\n"
          ]
        },
        {
          "output_type": "stream",
          "name": "stderr",
          "text": [
            "WARNING:tensorflow:Can save best model only with val_loss available, skipping.\n"
          ]
        },
        {
          "output_type": "stream",
          "name": "stdout",
          "text": [
            "34/34 - 0s - loss: 7.9845e-06 - accuracy: 1.0000 - 480ms/epoch - 14ms/step\n",
            "Epoch 74/400\n"
          ]
        },
        {
          "output_type": "stream",
          "name": "stderr",
          "text": [
            "WARNING:tensorflow:Can save best model only with val_loss available, skipping.\n"
          ]
        },
        {
          "output_type": "stream",
          "name": "stdout",
          "text": [
            "34/34 - 0s - loss: 7.8851e-06 - accuracy: 1.0000 - 472ms/epoch - 14ms/step\n",
            "Epoch 75/400\n"
          ]
        },
        {
          "output_type": "stream",
          "name": "stderr",
          "text": [
            "WARNING:tensorflow:Can save best model only with val_loss available, skipping.\n"
          ]
        },
        {
          "output_type": "stream",
          "name": "stdout",
          "text": [
            "34/34 - 0s - loss: 7.3039e-06 - accuracy: 1.0000 - 490ms/epoch - 14ms/step\n",
            "Epoch 76/400\n"
          ]
        },
        {
          "output_type": "stream",
          "name": "stderr",
          "text": [
            "WARNING:tensorflow:Can save best model only with val_loss available, skipping.\n"
          ]
        },
        {
          "output_type": "stream",
          "name": "stdout",
          "text": [
            "34/34 - 1s - loss: 7.2154e-06 - accuracy: 1.0000 - 537ms/epoch - 16ms/step\n",
            "Epoch 77/400\n"
          ]
        },
        {
          "output_type": "stream",
          "name": "stderr",
          "text": [
            "WARNING:tensorflow:Can save best model only with val_loss available, skipping.\n"
          ]
        },
        {
          "output_type": "stream",
          "name": "stdout",
          "text": [
            "34/34 - 1s - loss: 6.8431e-06 - accuracy: 1.0000 - 570ms/epoch - 17ms/step\n",
            "Epoch 78/400\n"
          ]
        },
        {
          "output_type": "stream",
          "name": "stderr",
          "text": [
            "WARNING:tensorflow:Can save best model only with val_loss available, skipping.\n"
          ]
        },
        {
          "output_type": "stream",
          "name": "stdout",
          "text": [
            "34/34 - 1s - loss: 6.5426e-06 - accuracy: 1.0000 - 531ms/epoch - 16ms/step\n",
            "Epoch 79/400\n"
          ]
        },
        {
          "output_type": "stream",
          "name": "stderr",
          "text": [
            "WARNING:tensorflow:Can save best model only with val_loss available, skipping.\n"
          ]
        },
        {
          "output_type": "stream",
          "name": "stdout",
          "text": [
            "34/34 - 1s - loss: 6.3218e-06 - accuracy: 1.0000 - 537ms/epoch - 16ms/step\n",
            "Epoch 80/400\n"
          ]
        },
        {
          "output_type": "stream",
          "name": "stderr",
          "text": [
            "WARNING:tensorflow:Can save best model only with val_loss available, skipping.\n"
          ]
        },
        {
          "output_type": "stream",
          "name": "stdout",
          "text": [
            "34/34 - 1s - loss: 6.1266e-06 - accuracy: 1.0000 - 525ms/epoch - 15ms/step\n",
            "Epoch 81/400\n"
          ]
        },
        {
          "output_type": "stream",
          "name": "stderr",
          "text": [
            "WARNING:tensorflow:Can save best model only with val_loss available, skipping.\n"
          ]
        },
        {
          "output_type": "stream",
          "name": "stdout",
          "text": [
            "34/34 - 1s - loss: 5.9788e-06 - accuracy: 1.0000 - 520ms/epoch - 15ms/step\n",
            "Epoch 82/400\n"
          ]
        },
        {
          "output_type": "stream",
          "name": "stderr",
          "text": [
            "WARNING:tensorflow:Can save best model only with val_loss available, skipping.\n"
          ]
        },
        {
          "output_type": "stream",
          "name": "stdout",
          "text": [
            "34/34 - 0s - loss: 5.9786e-06 - accuracy: 1.0000 - 493ms/epoch - 15ms/step\n",
            "Epoch 83/400\n"
          ]
        },
        {
          "output_type": "stream",
          "name": "stderr",
          "text": [
            "WARNING:tensorflow:Can save best model only with val_loss available, skipping.\n"
          ]
        },
        {
          "output_type": "stream",
          "name": "stdout",
          "text": [
            "34/34 - 0s - loss: 5.5004e-06 - accuracy: 1.0000 - 470ms/epoch - 14ms/step\n",
            "Epoch 84/400\n"
          ]
        },
        {
          "output_type": "stream",
          "name": "stderr",
          "text": [
            "WARNING:tensorflow:Can save best model only with val_loss available, skipping.\n"
          ]
        },
        {
          "output_type": "stream",
          "name": "stdout",
          "text": [
            "34/34 - 0s - loss: 5.3178e-06 - accuracy: 1.0000 - 473ms/epoch - 14ms/step\n",
            "Epoch 85/400\n"
          ]
        },
        {
          "output_type": "stream",
          "name": "stderr",
          "text": [
            "WARNING:tensorflow:Can save best model only with val_loss available, skipping.\n"
          ]
        },
        {
          "output_type": "stream",
          "name": "stdout",
          "text": [
            "34/34 - 0s - loss: 5.1312e-06 - accuracy: 1.0000 - 477ms/epoch - 14ms/step\n",
            "Epoch 86/400\n"
          ]
        },
        {
          "output_type": "stream",
          "name": "stderr",
          "text": [
            "WARNING:tensorflow:Can save best model only with val_loss available, skipping.\n"
          ]
        },
        {
          "output_type": "stream",
          "name": "stdout",
          "text": [
            "34/34 - 0s - loss: 4.9939e-06 - accuracy: 1.0000 - 476ms/epoch - 14ms/step\n",
            "Epoch 87/400\n"
          ]
        },
        {
          "output_type": "stream",
          "name": "stderr",
          "text": [
            "WARNING:tensorflow:Can save best model only with val_loss available, skipping.\n"
          ]
        },
        {
          "output_type": "stream",
          "name": "stdout",
          "text": [
            "34/34 - 0s - loss: 4.8580e-06 - accuracy: 1.0000 - 475ms/epoch - 14ms/step\n",
            "Epoch 88/400\n"
          ]
        },
        {
          "output_type": "stream",
          "name": "stderr",
          "text": [
            "WARNING:tensorflow:Can save best model only with val_loss available, skipping.\n"
          ]
        },
        {
          "output_type": "stream",
          "name": "stdout",
          "text": [
            "34/34 - 0s - loss: 4.6809e-06 - accuracy: 1.0000 - 477ms/epoch - 14ms/step\n",
            "Epoch 89/400\n"
          ]
        },
        {
          "output_type": "stream",
          "name": "stderr",
          "text": [
            "WARNING:tensorflow:Can save best model only with val_loss available, skipping.\n"
          ]
        },
        {
          "output_type": "stream",
          "name": "stdout",
          "text": [
            "34/34 - 0s - loss: 4.6153e-06 - accuracy: 1.0000 - 465ms/epoch - 14ms/step\n",
            "Epoch 90/400\n"
          ]
        },
        {
          "output_type": "stream",
          "name": "stderr",
          "text": [
            "WARNING:tensorflow:Can save best model only with val_loss available, skipping.\n"
          ]
        },
        {
          "output_type": "stream",
          "name": "stdout",
          "text": [
            "34/34 - 0s - loss: 4.3425e-06 - accuracy: 1.0000 - 473ms/epoch - 14ms/step\n",
            "Epoch 91/400\n"
          ]
        },
        {
          "output_type": "stream",
          "name": "stderr",
          "text": [
            "WARNING:tensorflow:Can save best model only with val_loss available, skipping.\n"
          ]
        },
        {
          "output_type": "stream",
          "name": "stdout",
          "text": [
            "34/34 - 0s - loss: 4.2019e-06 - accuracy: 1.0000 - 477ms/epoch - 14ms/step\n",
            "Epoch 92/400\n"
          ]
        },
        {
          "output_type": "stream",
          "name": "stderr",
          "text": [
            "WARNING:tensorflow:Can save best model only with val_loss available, skipping.\n"
          ]
        },
        {
          "output_type": "stream",
          "name": "stdout",
          "text": [
            "34/34 - 0s - loss: 4.1290e-06 - accuracy: 1.0000 - 488ms/epoch - 14ms/step\n",
            "Epoch 93/400\n"
          ]
        },
        {
          "output_type": "stream",
          "name": "stderr",
          "text": [
            "WARNING:tensorflow:Can save best model only with val_loss available, skipping.\n"
          ]
        },
        {
          "output_type": "stream",
          "name": "stdout",
          "text": [
            "34/34 - 0s - loss: 3.9512e-06 - accuracy: 1.0000 - 472ms/epoch - 14ms/step\n",
            "Epoch 94/400\n"
          ]
        },
        {
          "output_type": "stream",
          "name": "stderr",
          "text": [
            "WARNING:tensorflow:Can save best model only with val_loss available, skipping.\n"
          ]
        },
        {
          "output_type": "stream",
          "name": "stdout",
          "text": [
            "34/34 - 0s - loss: 3.8423e-06 - accuracy: 1.0000 - 473ms/epoch - 14ms/step\n",
            "Epoch 95/400\n"
          ]
        },
        {
          "output_type": "stream",
          "name": "stderr",
          "text": [
            "WARNING:tensorflow:Can save best model only with val_loss available, skipping.\n"
          ]
        },
        {
          "output_type": "stream",
          "name": "stdout",
          "text": [
            "34/34 - 0s - loss: 3.7179e-06 - accuracy: 1.0000 - 476ms/epoch - 14ms/step\n",
            "Epoch 96/400\n"
          ]
        },
        {
          "output_type": "stream",
          "name": "stderr",
          "text": [
            "WARNING:tensorflow:Can save best model only with val_loss available, skipping.\n"
          ]
        },
        {
          "output_type": "stream",
          "name": "stdout",
          "text": [
            "34/34 - 0s - loss: 3.6571e-06 - accuracy: 1.0000 - 476ms/epoch - 14ms/step\n",
            "Epoch 97/400\n"
          ]
        },
        {
          "output_type": "stream",
          "name": "stderr",
          "text": [
            "WARNING:tensorflow:Can save best model only with val_loss available, skipping.\n"
          ]
        },
        {
          "output_type": "stream",
          "name": "stdout",
          "text": [
            "34/34 - 0s - loss: 3.4950e-06 - accuracy: 1.0000 - 487ms/epoch - 14ms/step\n",
            "Epoch 98/400\n"
          ]
        },
        {
          "output_type": "stream",
          "name": "stderr",
          "text": [
            "WARNING:tensorflow:Can save best model only with val_loss available, skipping.\n"
          ]
        },
        {
          "output_type": "stream",
          "name": "stdout",
          "text": [
            "34/34 - 0s - loss: 3.3728e-06 - accuracy: 1.0000 - 486ms/epoch - 14ms/step\n",
            "Epoch 99/400\n"
          ]
        },
        {
          "output_type": "stream",
          "name": "stderr",
          "text": [
            "WARNING:tensorflow:Can save best model only with val_loss available, skipping.\n"
          ]
        },
        {
          "output_type": "stream",
          "name": "stdout",
          "text": [
            "34/34 - 0s - loss: 3.2831e-06 - accuracy: 1.0000 - 475ms/epoch - 14ms/step\n",
            "Epoch 100/400\n"
          ]
        },
        {
          "output_type": "stream",
          "name": "stderr",
          "text": [
            "WARNING:tensorflow:Can save best model only with val_loss available, skipping.\n"
          ]
        },
        {
          "output_type": "stream",
          "name": "stdout",
          "text": [
            "34/34 - 0s - loss: 3.1746e-06 - accuracy: 1.0000 - 470ms/epoch - 14ms/step\n",
            "Epoch 101/400\n"
          ]
        },
        {
          "output_type": "stream",
          "name": "stderr",
          "text": [
            "WARNING:tensorflow:Can save best model only with val_loss available, skipping.\n"
          ]
        },
        {
          "output_type": "stream",
          "name": "stdout",
          "text": [
            "34/34 - 0s - loss: 3.0774e-06 - accuracy: 1.0000 - 473ms/epoch - 14ms/step\n",
            "Epoch 102/400\n"
          ]
        },
        {
          "output_type": "stream",
          "name": "stderr",
          "text": [
            "WARNING:tensorflow:Can save best model only with val_loss available, skipping.\n"
          ]
        },
        {
          "output_type": "stream",
          "name": "stdout",
          "text": [
            "34/34 - 0s - loss: 3.0020e-06 - accuracy: 1.0000 - 466ms/epoch - 14ms/step\n",
            "Epoch 103/400\n"
          ]
        },
        {
          "output_type": "stream",
          "name": "stderr",
          "text": [
            "WARNING:tensorflow:Can save best model only with val_loss available, skipping.\n"
          ]
        },
        {
          "output_type": "stream",
          "name": "stdout",
          "text": [
            "34/34 - 1s - loss: 2.8842e-06 - accuracy: 1.0000 - 577ms/epoch - 17ms/step\n",
            "Epoch 104/400\n"
          ]
        },
        {
          "output_type": "stream",
          "name": "stderr",
          "text": [
            "WARNING:tensorflow:Can save best model only with val_loss available, skipping.\n"
          ]
        },
        {
          "output_type": "stream",
          "name": "stdout",
          "text": [
            "34/34 - 1s - loss: 2.8712e-06 - accuracy: 1.0000 - 507ms/epoch - 15ms/step\n",
            "Epoch 105/400\n"
          ]
        },
        {
          "output_type": "stream",
          "name": "stderr",
          "text": [
            "WARNING:tensorflow:Can save best model only with val_loss available, skipping.\n"
          ]
        },
        {
          "output_type": "stream",
          "name": "stdout",
          "text": [
            "34/34 - 1s - loss: 2.7143e-06 - accuracy: 1.0000 - 530ms/epoch - 16ms/step\n",
            "Epoch 106/400\n"
          ]
        },
        {
          "output_type": "stream",
          "name": "stderr",
          "text": [
            "WARNING:tensorflow:Can save best model only with val_loss available, skipping.\n"
          ]
        },
        {
          "output_type": "stream",
          "name": "stdout",
          "text": [
            "34/34 - 1s - loss: 2.6986e-06 - accuracy: 1.0000 - 527ms/epoch - 15ms/step\n",
            "Epoch 107/400\n"
          ]
        },
        {
          "output_type": "stream",
          "name": "stderr",
          "text": [
            "WARNING:tensorflow:Can save best model only with val_loss available, skipping.\n"
          ]
        },
        {
          "output_type": "stream",
          "name": "stdout",
          "text": [
            "34/34 - 1s - loss: 2.5926e-06 - accuracy: 1.0000 - 522ms/epoch - 15ms/step\n",
            "Epoch 108/400\n"
          ]
        },
        {
          "output_type": "stream",
          "name": "stderr",
          "text": [
            "WARNING:tensorflow:Can save best model only with val_loss available, skipping.\n"
          ]
        },
        {
          "output_type": "stream",
          "name": "stdout",
          "text": [
            "34/34 - 1s - loss: 2.5000e-06 - accuracy: 1.0000 - 521ms/epoch - 15ms/step\n",
            "Epoch 109/400\n"
          ]
        },
        {
          "output_type": "stream",
          "name": "stderr",
          "text": [
            "WARNING:tensorflow:Can save best model only with val_loss available, skipping.\n"
          ]
        },
        {
          "output_type": "stream",
          "name": "stdout",
          "text": [
            "34/34 - 1s - loss: 2.4593e-06 - accuracy: 1.0000 - 524ms/epoch - 15ms/step\n",
            "Epoch 110/400\n"
          ]
        },
        {
          "output_type": "stream",
          "name": "stderr",
          "text": [
            "WARNING:tensorflow:Can save best model only with val_loss available, skipping.\n"
          ]
        },
        {
          "output_type": "stream",
          "name": "stdout",
          "text": [
            "34/34 - 0s - loss: 2.3768e-06 - accuracy: 1.0000 - 475ms/epoch - 14ms/step\n",
            "Epoch 111/400\n"
          ]
        },
        {
          "output_type": "stream",
          "name": "stderr",
          "text": [
            "WARNING:tensorflow:Can save best model only with val_loss available, skipping.\n"
          ]
        },
        {
          "output_type": "stream",
          "name": "stdout",
          "text": [
            "34/34 - 0s - loss: 2.3114e-06 - accuracy: 1.0000 - 466ms/epoch - 14ms/step\n",
            "Epoch 112/400\n"
          ]
        },
        {
          "output_type": "stream",
          "name": "stderr",
          "text": [
            "WARNING:tensorflow:Can save best model only with val_loss available, skipping.\n"
          ]
        },
        {
          "output_type": "stream",
          "name": "stdout",
          "text": [
            "34/34 - 0s - loss: 2.2656e-06 - accuracy: 1.0000 - 468ms/epoch - 14ms/step\n",
            "Epoch 113/400\n"
          ]
        },
        {
          "output_type": "stream",
          "name": "stderr",
          "text": [
            "WARNING:tensorflow:Can save best model only with val_loss available, skipping.\n"
          ]
        },
        {
          "output_type": "stream",
          "name": "stdout",
          "text": [
            "34/34 - 0s - loss: 2.1625e-06 - accuracy: 1.0000 - 478ms/epoch - 14ms/step\n",
            "Epoch 114/400\n"
          ]
        },
        {
          "output_type": "stream",
          "name": "stderr",
          "text": [
            "WARNING:tensorflow:Can save best model only with val_loss available, skipping.\n"
          ]
        },
        {
          "output_type": "stream",
          "name": "stdout",
          "text": [
            "34/34 - 0s - loss: 2.1051e-06 - accuracy: 1.0000 - 480ms/epoch - 14ms/step\n",
            "Epoch 115/400\n"
          ]
        },
        {
          "output_type": "stream",
          "name": "stderr",
          "text": [
            "WARNING:tensorflow:Can save best model only with val_loss available, skipping.\n"
          ]
        },
        {
          "output_type": "stream",
          "name": "stdout",
          "text": [
            "34/34 - 0s - loss: 2.0555e-06 - accuracy: 1.0000 - 467ms/epoch - 14ms/step\n",
            "Epoch 116/400\n"
          ]
        },
        {
          "output_type": "stream",
          "name": "stderr",
          "text": [
            "WARNING:tensorflow:Can save best model only with val_loss available, skipping.\n"
          ]
        },
        {
          "output_type": "stream",
          "name": "stdout",
          "text": [
            "34/34 - 0s - loss: 2.0034e-06 - accuracy: 1.0000 - 475ms/epoch - 14ms/step\n",
            "Epoch 117/400\n"
          ]
        },
        {
          "output_type": "stream",
          "name": "stderr",
          "text": [
            "WARNING:tensorflow:Can save best model only with val_loss available, skipping.\n"
          ]
        },
        {
          "output_type": "stream",
          "name": "stdout",
          "text": [
            "34/34 - 0s - loss: 1.9512e-06 - accuracy: 1.0000 - 484ms/epoch - 14ms/step\n",
            "Epoch 118/400\n"
          ]
        },
        {
          "output_type": "stream",
          "name": "stderr",
          "text": [
            "WARNING:tensorflow:Can save best model only with val_loss available, skipping.\n"
          ]
        },
        {
          "output_type": "stream",
          "name": "stdout",
          "text": [
            "34/34 - 0s - loss: 1.8841e-06 - accuracy: 1.0000 - 487ms/epoch - 14ms/step\n",
            "Epoch 119/400\n"
          ]
        },
        {
          "output_type": "stream",
          "name": "stderr",
          "text": [
            "WARNING:tensorflow:Can save best model only with val_loss available, skipping.\n"
          ]
        },
        {
          "output_type": "stream",
          "name": "stdout",
          "text": [
            "34/34 - 0s - loss: 1.8249e-06 - accuracy: 1.0000 - 480ms/epoch - 14ms/step\n",
            "Epoch 120/400\n"
          ]
        },
        {
          "output_type": "stream",
          "name": "stderr",
          "text": [
            "WARNING:tensorflow:Can save best model only with val_loss available, skipping.\n"
          ]
        },
        {
          "output_type": "stream",
          "name": "stdout",
          "text": [
            "34/34 - 0s - loss: 1.7780e-06 - accuracy: 1.0000 - 472ms/epoch - 14ms/step\n",
            "Epoch 121/400\n"
          ]
        },
        {
          "output_type": "stream",
          "name": "stderr",
          "text": [
            "WARNING:tensorflow:Can save best model only with val_loss available, skipping.\n"
          ]
        },
        {
          "output_type": "stream",
          "name": "stdout",
          "text": [
            "34/34 - 0s - loss: 1.7459e-06 - accuracy: 1.0000 - 476ms/epoch - 14ms/step\n",
            "Epoch 122/400\n"
          ]
        },
        {
          "output_type": "stream",
          "name": "stderr",
          "text": [
            "WARNING:tensorflow:Can save best model only with val_loss available, skipping.\n"
          ]
        },
        {
          "output_type": "stream",
          "name": "stdout",
          "text": [
            "34/34 - 0s - loss: 1.6931e-06 - accuracy: 1.0000 - 481ms/epoch - 14ms/step\n",
            "Epoch 123/400\n"
          ]
        },
        {
          "output_type": "stream",
          "name": "stderr",
          "text": [
            "WARNING:tensorflow:Can save best model only with val_loss available, skipping.\n"
          ]
        },
        {
          "output_type": "stream",
          "name": "stdout",
          "text": [
            "34/34 - 0s - loss: 1.6437e-06 - accuracy: 1.0000 - 472ms/epoch - 14ms/step\n",
            "Epoch 124/400\n"
          ]
        },
        {
          "output_type": "stream",
          "name": "stderr",
          "text": [
            "WARNING:tensorflow:Can save best model only with val_loss available, skipping.\n"
          ]
        },
        {
          "output_type": "stream",
          "name": "stdout",
          "text": [
            "34/34 - 0s - loss: 1.6006e-06 - accuracy: 1.0000 - 472ms/epoch - 14ms/step\n",
            "Epoch 125/400\n"
          ]
        },
        {
          "output_type": "stream",
          "name": "stderr",
          "text": [
            "WARNING:tensorflow:Can save best model only with val_loss available, skipping.\n"
          ]
        },
        {
          "output_type": "stream",
          "name": "stdout",
          "text": [
            "34/34 - 0s - loss: 1.5785e-06 - accuracy: 1.0000 - 484ms/epoch - 14ms/step\n",
            "Epoch 126/400\n"
          ]
        },
        {
          "output_type": "stream",
          "name": "stderr",
          "text": [
            "WARNING:tensorflow:Can save best model only with val_loss available, skipping.\n"
          ]
        },
        {
          "output_type": "stream",
          "name": "stdout",
          "text": [
            "34/34 - 0s - loss: 1.5192e-06 - accuracy: 1.0000 - 481ms/epoch - 14ms/step\n",
            "Epoch 127/400\n"
          ]
        },
        {
          "output_type": "stream",
          "name": "stderr",
          "text": [
            "WARNING:tensorflow:Can save best model only with val_loss available, skipping.\n"
          ]
        },
        {
          "output_type": "stream",
          "name": "stdout",
          "text": [
            "34/34 - 0s - loss: 1.4686e-06 - accuracy: 1.0000 - 486ms/epoch - 14ms/step\n",
            "Epoch 128/400\n"
          ]
        },
        {
          "output_type": "stream",
          "name": "stderr",
          "text": [
            "WARNING:tensorflow:Can save best model only with val_loss available, skipping.\n"
          ]
        },
        {
          "output_type": "stream",
          "name": "stdout",
          "text": [
            "34/34 - 0s - loss: 1.4368e-06 - accuracy: 1.0000 - 496ms/epoch - 15ms/step\n",
            "Epoch 129/400\n"
          ]
        },
        {
          "output_type": "stream",
          "name": "stderr",
          "text": [
            "WARNING:tensorflow:Can save best model only with val_loss available, skipping.\n"
          ]
        },
        {
          "output_type": "stream",
          "name": "stdout",
          "text": [
            "34/34 - 0s - loss: 1.4045e-06 - accuracy: 1.0000 - 484ms/epoch - 14ms/step\n",
            "Epoch 130/400\n"
          ]
        },
        {
          "output_type": "stream",
          "name": "stderr",
          "text": [
            "WARNING:tensorflow:Can save best model only with val_loss available, skipping.\n"
          ]
        },
        {
          "output_type": "stream",
          "name": "stdout",
          "text": [
            "34/34 - 1s - loss: 1.3679e-06 - accuracy: 1.0000 - 514ms/epoch - 15ms/step\n",
            "Epoch 131/400\n"
          ]
        },
        {
          "output_type": "stream",
          "name": "stderr",
          "text": [
            "WARNING:tensorflow:Can save best model only with val_loss available, skipping.\n"
          ]
        },
        {
          "output_type": "stream",
          "name": "stdout",
          "text": [
            "34/34 - 1s - loss: 1.3221e-06 - accuracy: 1.0000 - 537ms/epoch - 16ms/step\n",
            "Epoch 132/400\n"
          ]
        },
        {
          "output_type": "stream",
          "name": "stderr",
          "text": [
            "WARNING:tensorflow:Can save best model only with val_loss available, skipping.\n"
          ]
        },
        {
          "output_type": "stream",
          "name": "stdout",
          "text": [
            "34/34 - 1s - loss: 1.2929e-06 - accuracy: 1.0000 - 532ms/epoch - 16ms/step\n",
            "Epoch 133/400\n"
          ]
        },
        {
          "output_type": "stream",
          "name": "stderr",
          "text": [
            "WARNING:tensorflow:Can save best model only with val_loss available, skipping.\n"
          ]
        },
        {
          "output_type": "stream",
          "name": "stdout",
          "text": [
            "34/34 - 1s - loss: 1.2518e-06 - accuracy: 1.0000 - 519ms/epoch - 15ms/step\n",
            "Epoch 134/400\n"
          ]
        },
        {
          "output_type": "stream",
          "name": "stderr",
          "text": [
            "WARNING:tensorflow:Can save best model only with val_loss available, skipping.\n"
          ]
        },
        {
          "output_type": "stream",
          "name": "stdout",
          "text": [
            "34/34 - 1s - loss: 1.2324e-06 - accuracy: 1.0000 - 526ms/epoch - 15ms/step\n",
            "Epoch 135/400\n"
          ]
        },
        {
          "output_type": "stream",
          "name": "stderr",
          "text": [
            "WARNING:tensorflow:Can save best model only with val_loss available, skipping.\n"
          ]
        },
        {
          "output_type": "stream",
          "name": "stdout",
          "text": [
            "34/34 - 1s - loss: 1.1910e-06 - accuracy: 1.0000 - 512ms/epoch - 15ms/step\n",
            "Epoch 136/400\n"
          ]
        },
        {
          "output_type": "stream",
          "name": "stderr",
          "text": [
            "WARNING:tensorflow:Can save best model only with val_loss available, skipping.\n"
          ]
        },
        {
          "output_type": "stream",
          "name": "stdout",
          "text": [
            "34/34 - 1s - loss: 1.1704e-06 - accuracy: 1.0000 - 522ms/epoch - 15ms/step\n",
            "Epoch 137/400\n"
          ]
        },
        {
          "output_type": "stream",
          "name": "stderr",
          "text": [
            "WARNING:tensorflow:Can save best model only with val_loss available, skipping.\n"
          ]
        },
        {
          "output_type": "stream",
          "name": "stdout",
          "text": [
            "34/34 - 1s - loss: 1.1277e-06 - accuracy: 1.0000 - 509ms/epoch - 15ms/step\n",
            "Epoch 138/400\n"
          ]
        },
        {
          "output_type": "stream",
          "name": "stderr",
          "text": [
            "WARNING:tensorflow:Can save best model only with val_loss available, skipping.\n"
          ]
        },
        {
          "output_type": "stream",
          "name": "stdout",
          "text": [
            "34/34 - 0s - loss: 1.1068e-06 - accuracy: 1.0000 - 475ms/epoch - 14ms/step\n",
            "Epoch 139/400\n"
          ]
        },
        {
          "output_type": "stream",
          "name": "stderr",
          "text": [
            "WARNING:tensorflow:Can save best model only with val_loss available, skipping.\n"
          ]
        },
        {
          "output_type": "stream",
          "name": "stdout",
          "text": [
            "34/34 - 0s - loss: 1.0859e-06 - accuracy: 1.0000 - 479ms/epoch - 14ms/step\n",
            "Epoch 140/400\n"
          ]
        },
        {
          "output_type": "stream",
          "name": "stderr",
          "text": [
            "WARNING:tensorflow:Can save best model only with val_loss available, skipping.\n"
          ]
        },
        {
          "output_type": "stream",
          "name": "stdout",
          "text": [
            "34/34 - 0s - loss: 1.0500e-06 - accuracy: 1.0000 - 483ms/epoch - 14ms/step\n",
            "Epoch 141/400\n"
          ]
        },
        {
          "output_type": "stream",
          "name": "stderr",
          "text": [
            "WARNING:tensorflow:Can save best model only with val_loss available, skipping.\n"
          ]
        },
        {
          "output_type": "stream",
          "name": "stdout",
          "text": [
            "34/34 - 0s - loss: 1.0191e-06 - accuracy: 1.0000 - 467ms/epoch - 14ms/step\n",
            "Epoch 142/400\n"
          ]
        },
        {
          "output_type": "stream",
          "name": "stderr",
          "text": [
            "WARNING:tensorflow:Can save best model only with val_loss available, skipping.\n"
          ]
        },
        {
          "output_type": "stream",
          "name": "stdout",
          "text": [
            "34/34 - 0s - loss: 9.9598e-07 - accuracy: 1.0000 - 477ms/epoch - 14ms/step\n",
            "Epoch 143/400\n"
          ]
        },
        {
          "output_type": "stream",
          "name": "stderr",
          "text": [
            "WARNING:tensorflow:Can save best model only with val_loss available, skipping.\n"
          ]
        },
        {
          "output_type": "stream",
          "name": "stdout",
          "text": [
            "34/34 - 0s - loss: 9.7354e-07 - accuracy: 1.0000 - 474ms/epoch - 14ms/step\n",
            "Epoch 144/400\n"
          ]
        },
        {
          "output_type": "stream",
          "name": "stderr",
          "text": [
            "WARNING:tensorflow:Can save best model only with val_loss available, skipping.\n"
          ]
        },
        {
          "output_type": "stream",
          "name": "stdout",
          "text": [
            "34/34 - 0s - loss: 9.4474e-07 - accuracy: 1.0000 - 479ms/epoch - 14ms/step\n",
            "Epoch 145/400\n"
          ]
        },
        {
          "output_type": "stream",
          "name": "stderr",
          "text": [
            "WARNING:tensorflow:Can save best model only with val_loss available, skipping.\n"
          ]
        },
        {
          "output_type": "stream",
          "name": "stdout",
          "text": [
            "34/34 - 0s - loss: 9.2789e-07 - accuracy: 1.0000 - 465ms/epoch - 14ms/step\n",
            "Epoch 146/400\n"
          ]
        },
        {
          "output_type": "stream",
          "name": "stderr",
          "text": [
            "WARNING:tensorflow:Can save best model only with val_loss available, skipping.\n"
          ]
        },
        {
          "output_type": "stream",
          "name": "stdout",
          "text": [
            "34/34 - 0s - loss: 9.0746e-07 - accuracy: 1.0000 - 492ms/epoch - 14ms/step\n",
            "Epoch 147/400\n"
          ]
        },
        {
          "output_type": "stream",
          "name": "stderr",
          "text": [
            "WARNING:tensorflow:Can save best model only with val_loss available, skipping.\n"
          ]
        },
        {
          "output_type": "stream",
          "name": "stdout",
          "text": [
            "34/34 - 0s - loss: 8.9072e-07 - accuracy: 1.0000 - 476ms/epoch - 14ms/step\n",
            "Epoch 148/400\n"
          ]
        },
        {
          "output_type": "stream",
          "name": "stderr",
          "text": [
            "WARNING:tensorflow:Can save best model only with val_loss available, skipping.\n"
          ]
        },
        {
          "output_type": "stream",
          "name": "stdout",
          "text": [
            "34/34 - 0s - loss: 8.6382e-07 - accuracy: 1.0000 - 469ms/epoch - 14ms/step\n",
            "Epoch 149/400\n"
          ]
        },
        {
          "output_type": "stream",
          "name": "stderr",
          "text": [
            "WARNING:tensorflow:Can save best model only with val_loss available, skipping.\n"
          ]
        },
        {
          "output_type": "stream",
          "name": "stdout",
          "text": [
            "34/34 - 0s - loss: 8.4272e-07 - accuracy: 1.0000 - 476ms/epoch - 14ms/step\n",
            "Epoch 150/400\n"
          ]
        },
        {
          "output_type": "stream",
          "name": "stderr",
          "text": [
            "WARNING:tensorflow:Can save best model only with val_loss available, skipping.\n"
          ]
        },
        {
          "output_type": "stream",
          "name": "stdout",
          "text": [
            "34/34 - 0s - loss: 8.1549e-07 - accuracy: 1.0000 - 487ms/epoch - 14ms/step\n",
            "Epoch 151/400\n"
          ]
        },
        {
          "output_type": "stream",
          "name": "stderr",
          "text": [
            "WARNING:tensorflow:Can save best model only with val_loss available, skipping.\n"
          ]
        },
        {
          "output_type": "stream",
          "name": "stdout",
          "text": [
            "34/34 - 0s - loss: 7.9540e-07 - accuracy: 1.0000 - 475ms/epoch - 14ms/step\n",
            "Epoch 152/400\n"
          ]
        },
        {
          "output_type": "stream",
          "name": "stderr",
          "text": [
            "WARNING:tensorflow:Can save best model only with val_loss available, skipping.\n"
          ]
        },
        {
          "output_type": "stream",
          "name": "stdout",
          "text": [
            "34/34 - 0s - loss: 7.7966e-07 - accuracy: 1.0000 - 475ms/epoch - 14ms/step\n",
            "Epoch 153/400\n"
          ]
        },
        {
          "output_type": "stream",
          "name": "stderr",
          "text": [
            "WARNING:tensorflow:Can save best model only with val_loss available, skipping.\n"
          ]
        },
        {
          "output_type": "stream",
          "name": "stdout",
          "text": [
            "34/34 - 0s - loss: 7.7062e-07 - accuracy: 1.0000 - 480ms/epoch - 14ms/step\n",
            "Epoch 154/400\n"
          ]
        },
        {
          "output_type": "stream",
          "name": "stderr",
          "text": [
            "WARNING:tensorflow:Can save best model only with val_loss available, skipping.\n"
          ]
        },
        {
          "output_type": "stream",
          "name": "stdout",
          "text": [
            "34/34 - 0s - loss: 7.5164e-07 - accuracy: 1.0000 - 477ms/epoch - 14ms/step\n",
            "Epoch 155/400\n"
          ]
        },
        {
          "output_type": "stream",
          "name": "stderr",
          "text": [
            "WARNING:tensorflow:Can save best model only with val_loss available, skipping.\n"
          ]
        },
        {
          "output_type": "stream",
          "name": "stdout",
          "text": [
            "34/34 - 0s - loss: 7.2686e-07 - accuracy: 1.0000 - 484ms/epoch - 14ms/step\n",
            "Epoch 156/400\n"
          ]
        },
        {
          "output_type": "stream",
          "name": "stderr",
          "text": [
            "WARNING:tensorflow:Can save best model only with val_loss available, skipping.\n"
          ]
        },
        {
          "output_type": "stream",
          "name": "stdout",
          "text": [
            "34/34 - 0s - loss: 7.0331e-07 - accuracy: 1.0000 - 468ms/epoch - 14ms/step\n",
            "Epoch 157/400\n"
          ]
        },
        {
          "output_type": "stream",
          "name": "stderr",
          "text": [
            "WARNING:tensorflow:Can save best model only with val_loss available, skipping.\n"
          ]
        },
        {
          "output_type": "stream",
          "name": "stdout",
          "text": [
            "34/34 - 0s - loss: 6.8579e-07 - accuracy: 1.0000 - 493ms/epoch - 14ms/step\n",
            "Epoch 158/400\n"
          ]
        },
        {
          "output_type": "stream",
          "name": "stderr",
          "text": [
            "WARNING:tensorflow:Can save best model only with val_loss available, skipping.\n"
          ]
        },
        {
          "output_type": "stream",
          "name": "stdout",
          "text": [
            "34/34 - 1s - loss: 6.8746e-07 - accuracy: 1.0000 - 561ms/epoch - 17ms/step\n",
            "Epoch 159/400\n"
          ]
        },
        {
          "output_type": "stream",
          "name": "stderr",
          "text": [
            "WARNING:tensorflow:Can save best model only with val_loss available, skipping.\n"
          ]
        },
        {
          "output_type": "stream",
          "name": "stdout",
          "text": [
            "34/34 - 1s - loss: 6.5956e-07 - accuracy: 1.0000 - 533ms/epoch - 16ms/step\n",
            "Epoch 160/400\n"
          ]
        },
        {
          "output_type": "stream",
          "name": "stderr",
          "text": [
            "WARNING:tensorflow:Can save best model only with val_loss available, skipping.\n"
          ]
        },
        {
          "output_type": "stream",
          "name": "stdout",
          "text": [
            "34/34 - 1s - loss: 6.5520e-07 - accuracy: 1.0000 - 520ms/epoch - 15ms/step\n",
            "Epoch 161/400\n"
          ]
        },
        {
          "output_type": "stream",
          "name": "stderr",
          "text": [
            "WARNING:tensorflow:Can save best model only with val_loss available, skipping.\n"
          ]
        },
        {
          "output_type": "stream",
          "name": "stdout",
          "text": [
            "34/34 - 1s - loss: 6.2250e-07 - accuracy: 1.0000 - 524ms/epoch - 15ms/step\n",
            "Epoch 162/400\n"
          ]
        },
        {
          "output_type": "stream",
          "name": "stderr",
          "text": [
            "WARNING:tensorflow:Can save best model only with val_loss available, skipping.\n"
          ]
        },
        {
          "output_type": "stream",
          "name": "stdout",
          "text": [
            "34/34 - 1s - loss: 6.1167e-07 - accuracy: 1.0000 - 537ms/epoch - 16ms/step\n",
            "Epoch 163/400\n"
          ]
        },
        {
          "output_type": "stream",
          "name": "stderr",
          "text": [
            "WARNING:tensorflow:Can save best model only with val_loss available, skipping.\n"
          ]
        },
        {
          "output_type": "stream",
          "name": "stdout",
          "text": [
            "34/34 - 1s - loss: 5.9549e-07 - accuracy: 1.0000 - 527ms/epoch - 16ms/step\n",
            "Epoch 164/400\n"
          ]
        },
        {
          "output_type": "stream",
          "name": "stderr",
          "text": [
            "WARNING:tensorflow:Can save best model only with val_loss available, skipping.\n"
          ]
        },
        {
          "output_type": "stream",
          "name": "stdout",
          "text": [
            "34/34 - 1s - loss: 5.8444e-07 - accuracy: 1.0000 - 524ms/epoch - 15ms/step\n",
            "Epoch 165/400\n"
          ]
        },
        {
          "output_type": "stream",
          "name": "stderr",
          "text": [
            "WARNING:tensorflow:Can save best model only with val_loss available, skipping.\n"
          ]
        },
        {
          "output_type": "stream",
          "name": "stdout",
          "text": [
            "34/34 - 0s - loss: 5.8020e-07 - accuracy: 1.0000 - 485ms/epoch - 14ms/step\n",
            "Epoch 166/400\n"
          ]
        },
        {
          "output_type": "stream",
          "name": "stderr",
          "text": [
            "WARNING:tensorflow:Can save best model only with val_loss available, skipping.\n"
          ]
        },
        {
          "output_type": "stream",
          "name": "stdout",
          "text": [
            "34/34 - 0s - loss: 5.5207e-07 - accuracy: 1.0000 - 482ms/epoch - 14ms/step\n",
            "Epoch 167/400\n"
          ]
        },
        {
          "output_type": "stream",
          "name": "stderr",
          "text": [
            "WARNING:tensorflow:Can save best model only with val_loss available, skipping.\n"
          ]
        },
        {
          "output_type": "stream",
          "name": "stdout",
          "text": [
            "34/34 - 0s - loss: 5.4537e-07 - accuracy: 1.0000 - 481ms/epoch - 14ms/step\n",
            "Epoch 168/400\n"
          ]
        },
        {
          "output_type": "stream",
          "name": "stderr",
          "text": [
            "WARNING:tensorflow:Can save best model only with val_loss available, skipping.\n"
          ]
        },
        {
          "output_type": "stream",
          "name": "stdout",
          "text": [
            "34/34 - 0s - loss: 5.3053e-07 - accuracy: 1.0000 - 470ms/epoch - 14ms/step\n",
            "Epoch 169/400\n"
          ]
        },
        {
          "output_type": "stream",
          "name": "stderr",
          "text": [
            "WARNING:tensorflow:Can save best model only with val_loss available, skipping.\n"
          ]
        },
        {
          "output_type": "stream",
          "name": "stdout",
          "text": [
            "34/34 - 0s - loss: 5.3644e-07 - accuracy: 1.0000 - 479ms/epoch - 14ms/step\n",
            "Epoch 170/400\n"
          ]
        },
        {
          "output_type": "stream",
          "name": "stderr",
          "text": [
            "WARNING:tensorflow:Can save best model only with val_loss available, skipping.\n"
          ]
        },
        {
          "output_type": "stream",
          "name": "stdout",
          "text": [
            "34/34 - 0s - loss: 5.1066e-07 - accuracy: 1.0000 - 470ms/epoch - 14ms/step\n",
            "Epoch 171/400\n"
          ]
        },
        {
          "output_type": "stream",
          "name": "stderr",
          "text": [
            "WARNING:tensorflow:Can save best model only with val_loss available, skipping.\n"
          ]
        },
        {
          "output_type": "stream",
          "name": "stdout",
          "text": [
            "34/34 - 0s - loss: 4.9235e-07 - accuracy: 1.0000 - 498ms/epoch - 15ms/step\n",
            "Epoch 172/400\n"
          ]
        },
        {
          "output_type": "stream",
          "name": "stderr",
          "text": [
            "WARNING:tensorflow:Can save best model only with val_loss available, skipping.\n"
          ]
        },
        {
          "output_type": "stream",
          "name": "stdout",
          "text": [
            "34/34 - 0s - loss: 4.7929e-07 - accuracy: 1.0000 - 473ms/epoch - 14ms/step\n",
            "Epoch 173/400\n"
          ]
        },
        {
          "output_type": "stream",
          "name": "stderr",
          "text": [
            "WARNING:tensorflow:Can save best model only with val_loss available, skipping.\n"
          ]
        },
        {
          "output_type": "stream",
          "name": "stdout",
          "text": [
            "34/34 - 0s - loss: 4.7081e-07 - accuracy: 1.0000 - 475ms/epoch - 14ms/step\n",
            "Epoch 174/400\n"
          ]
        },
        {
          "output_type": "stream",
          "name": "stderr",
          "text": [
            "WARNING:tensorflow:Can save best model only with val_loss available, skipping.\n"
          ]
        },
        {
          "output_type": "stream",
          "name": "stdout",
          "text": [
            "34/34 - 0s - loss: 4.5976e-07 - accuracy: 1.0000 - 472ms/epoch - 14ms/step\n",
            "Epoch 175/400\n"
          ]
        },
        {
          "output_type": "stream",
          "name": "stderr",
          "text": [
            "WARNING:tensorflow:Can save best model only with val_loss available, skipping.\n"
          ]
        },
        {
          "output_type": "stream",
          "name": "stdout",
          "text": [
            "34/34 - 0s - loss: 4.4782e-07 - accuracy: 1.0000 - 481ms/epoch - 14ms/step\n",
            "Epoch 176/400\n"
          ]
        },
        {
          "output_type": "stream",
          "name": "stderr",
          "text": [
            "WARNING:tensorflow:Can save best model only with val_loss available, skipping.\n"
          ]
        },
        {
          "output_type": "stream",
          "name": "stdout",
          "text": [
            "34/34 - 0s - loss: 4.3833e-07 - accuracy: 1.0000 - 480ms/epoch - 14ms/step\n",
            "Epoch 177/400\n"
          ]
        },
        {
          "output_type": "stream",
          "name": "stderr",
          "text": [
            "WARNING:tensorflow:Can save best model only with val_loss available, skipping.\n"
          ]
        },
        {
          "output_type": "stream",
          "name": "stdout",
          "text": [
            "34/34 - 0s - loss: 4.3275e-07 - accuracy: 1.0000 - 498ms/epoch - 15ms/step\n",
            "Epoch 178/400\n"
          ]
        },
        {
          "output_type": "stream",
          "name": "stderr",
          "text": [
            "WARNING:tensorflow:Can save best model only with val_loss available, skipping.\n"
          ]
        },
        {
          "output_type": "stream",
          "name": "stdout",
          "text": [
            "34/34 - 0s - loss: 4.2114e-07 - accuracy: 1.0000 - 477ms/epoch - 14ms/step\n",
            "Epoch 179/400\n"
          ]
        },
        {
          "output_type": "stream",
          "name": "stderr",
          "text": [
            "WARNING:tensorflow:Can save best model only with val_loss available, skipping.\n"
          ]
        },
        {
          "output_type": "stream",
          "name": "stdout",
          "text": [
            "34/34 - 0s - loss: 4.0886e-07 - accuracy: 1.0000 - 471ms/epoch - 14ms/step\n",
            "Epoch 180/400\n"
          ]
        },
        {
          "output_type": "stream",
          "name": "stderr",
          "text": [
            "WARNING:tensorflow:Can save best model only with val_loss available, skipping.\n"
          ]
        },
        {
          "output_type": "stream",
          "name": "stdout",
          "text": [
            "34/34 - 0s - loss: 3.9848e-07 - accuracy: 1.0000 - 487ms/epoch - 14ms/step\n",
            "Epoch 181/400\n"
          ]
        },
        {
          "output_type": "stream",
          "name": "stderr",
          "text": [
            "WARNING:tensorflow:Can save best model only with val_loss available, skipping.\n"
          ]
        },
        {
          "output_type": "stream",
          "name": "stdout",
          "text": [
            "34/34 - 0s - loss: 3.9022e-07 - accuracy: 1.0000 - 482ms/epoch - 14ms/step\n",
            "Epoch 182/400\n"
          ]
        },
        {
          "output_type": "stream",
          "name": "stderr",
          "text": [
            "WARNING:tensorflow:Can save best model only with val_loss available, skipping.\n"
          ]
        },
        {
          "output_type": "stream",
          "name": "stdout",
          "text": [
            "34/34 - 0s - loss: 3.7962e-07 - accuracy: 1.0000 - 473ms/epoch - 14ms/step\n",
            "Epoch 183/400\n"
          ]
        },
        {
          "output_type": "stream",
          "name": "stderr",
          "text": [
            "WARNING:tensorflow:Can save best model only with val_loss available, skipping.\n"
          ]
        },
        {
          "output_type": "stream",
          "name": "stdout",
          "text": [
            "34/34 - 0s - loss: 3.7772e-07 - accuracy: 1.0000 - 483ms/epoch - 14ms/step\n",
            "Epoch 184/400\n"
          ]
        },
        {
          "output_type": "stream",
          "name": "stderr",
          "text": [
            "WARNING:tensorflow:Can save best model only with val_loss available, skipping.\n"
          ]
        },
        {
          "output_type": "stream",
          "name": "stdout",
          "text": [
            "34/34 - 0s - loss: 3.6310e-07 - accuracy: 1.0000 - 484ms/epoch - 14ms/step\n",
            "Epoch 185/400\n"
          ]
        },
        {
          "output_type": "stream",
          "name": "stderr",
          "text": [
            "WARNING:tensorflow:Can save best model only with val_loss available, skipping.\n"
          ]
        },
        {
          "output_type": "stream",
          "name": "stdout",
          "text": [
            "34/34 - 1s - loss: 3.5696e-07 - accuracy: 1.0000 - 542ms/epoch - 16ms/step\n",
            "Epoch 186/400\n"
          ]
        },
        {
          "output_type": "stream",
          "name": "stderr",
          "text": [
            "WARNING:tensorflow:Can save best model only with val_loss available, skipping.\n"
          ]
        },
        {
          "output_type": "stream",
          "name": "stdout",
          "text": [
            "34/34 - 1s - loss: 3.5060e-07 - accuracy: 1.0000 - 522ms/epoch - 15ms/step\n",
            "Epoch 187/400\n"
          ]
        },
        {
          "output_type": "stream",
          "name": "stderr",
          "text": [
            "WARNING:tensorflow:Can save best model only with val_loss available, skipping.\n"
          ]
        },
        {
          "output_type": "stream",
          "name": "stdout",
          "text": [
            "34/34 - 1s - loss: 3.3899e-07 - accuracy: 1.0000 - 535ms/epoch - 16ms/step\n",
            "Epoch 188/400\n"
          ]
        },
        {
          "output_type": "stream",
          "name": "stderr",
          "text": [
            "WARNING:tensorflow:Can save best model only with val_loss available, skipping.\n"
          ]
        },
        {
          "output_type": "stream",
          "name": "stdout",
          "text": [
            "34/34 - 1s - loss: 3.3497e-07 - accuracy: 1.0000 - 557ms/epoch - 16ms/step\n",
            "Epoch 189/400\n"
          ]
        },
        {
          "output_type": "stream",
          "name": "stderr",
          "text": [
            "WARNING:tensorflow:Can save best model only with val_loss available, skipping.\n"
          ]
        },
        {
          "output_type": "stream",
          "name": "stdout",
          "text": [
            "34/34 - 1s - loss: 3.2693e-07 - accuracy: 1.0000 - 741ms/epoch - 22ms/step\n",
            "Epoch 190/400\n"
          ]
        },
        {
          "output_type": "stream",
          "name": "stderr",
          "text": [
            "WARNING:tensorflow:Can save best model only with val_loss available, skipping.\n"
          ]
        },
        {
          "output_type": "stream",
          "name": "stdout",
          "text": [
            "34/34 - 1s - loss: 3.1934e-07 - accuracy: 1.0000 - 761ms/epoch - 22ms/step\n",
            "Epoch 191/400\n"
          ]
        },
        {
          "output_type": "stream",
          "name": "stderr",
          "text": [
            "WARNING:tensorflow:Can save best model only with val_loss available, skipping.\n"
          ]
        },
        {
          "output_type": "stream",
          "name": "stdout",
          "text": [
            "34/34 - 1s - loss: 3.1198e-07 - accuracy: 1.0000 - 602ms/epoch - 18ms/step\n",
            "Epoch 192/400\n"
          ]
        },
        {
          "output_type": "stream",
          "name": "stderr",
          "text": [
            "WARNING:tensorflow:Can save best model only with val_loss available, skipping.\n"
          ]
        },
        {
          "output_type": "stream",
          "name": "stdout",
          "text": [
            "34/34 - 0s - loss: 3.0070e-07 - accuracy: 1.0000 - 490ms/epoch - 14ms/step\n",
            "Epoch 193/400\n"
          ]
        },
        {
          "output_type": "stream",
          "name": "stderr",
          "text": [
            "WARNING:tensorflow:Can save best model only with val_loss available, skipping.\n"
          ]
        },
        {
          "output_type": "stream",
          "name": "stdout",
          "text": [
            "34/34 - 0s - loss: 2.9858e-07 - accuracy: 1.0000 - 486ms/epoch - 14ms/step\n",
            "Epoch 194/400\n"
          ]
        },
        {
          "output_type": "stream",
          "name": "stderr",
          "text": [
            "WARNING:tensorflow:Can save best model only with val_loss available, skipping.\n"
          ]
        },
        {
          "output_type": "stream",
          "name": "stdout",
          "text": [
            "34/34 - 0s - loss: 2.9066e-07 - accuracy: 1.0000 - 488ms/epoch - 14ms/step\n",
            "Epoch 195/400\n"
          ]
        },
        {
          "output_type": "stream",
          "name": "stderr",
          "text": [
            "WARNING:tensorflow:Can save best model only with val_loss available, skipping.\n"
          ]
        },
        {
          "output_type": "stream",
          "name": "stdout",
          "text": [
            "34/34 - 0s - loss: 2.8731e-07 - accuracy: 1.0000 - 478ms/epoch - 14ms/step\n",
            "Epoch 196/400\n"
          ]
        },
        {
          "output_type": "stream",
          "name": "stderr",
          "text": [
            "WARNING:tensorflow:Can save best model only with val_loss available, skipping.\n"
          ]
        },
        {
          "output_type": "stream",
          "name": "stdout",
          "text": [
            "34/34 - 0s - loss: 2.7492e-07 - accuracy: 1.0000 - 489ms/epoch - 14ms/step\n",
            "Epoch 197/400\n"
          ]
        },
        {
          "output_type": "stream",
          "name": "stderr",
          "text": [
            "WARNING:tensorflow:Can save best model only with val_loss available, skipping.\n"
          ]
        },
        {
          "output_type": "stream",
          "name": "stdout",
          "text": [
            "34/34 - 0s - loss: 2.7146e-07 - accuracy: 1.0000 - 473ms/epoch - 14ms/step\n",
            "Epoch 198/400\n"
          ]
        },
        {
          "output_type": "stream",
          "name": "stderr",
          "text": [
            "WARNING:tensorflow:Can save best model only with val_loss available, skipping.\n"
          ]
        },
        {
          "output_type": "stream",
          "name": "stdout",
          "text": [
            "34/34 - 0s - loss: 2.6610e-07 - accuracy: 1.0000 - 476ms/epoch - 14ms/step\n",
            "Epoch 199/400\n"
          ]
        },
        {
          "output_type": "stream",
          "name": "stderr",
          "text": [
            "WARNING:tensorflow:Can save best model only with val_loss available, skipping.\n"
          ]
        },
        {
          "output_type": "stream",
          "name": "stdout",
          "text": [
            "34/34 - 0s - loss: 2.6632e-07 - accuracy: 1.0000 - 478ms/epoch - 14ms/step\n",
            "Epoch 200/400\n"
          ]
        },
        {
          "output_type": "stream",
          "name": "stderr",
          "text": [
            "WARNING:tensorflow:Can save best model only with val_loss available, skipping.\n"
          ]
        },
        {
          "output_type": "stream",
          "name": "stdout",
          "text": [
            "34/34 - 0s - loss: 2.5293e-07 - accuracy: 1.0000 - 486ms/epoch - 14ms/step\n",
            "Epoch 201/400\n"
          ]
        },
        {
          "output_type": "stream",
          "name": "stderr",
          "text": [
            "WARNING:tensorflow:Can save best model only with val_loss available, skipping.\n"
          ]
        },
        {
          "output_type": "stream",
          "name": "stdout",
          "text": [
            "34/34 - 0s - loss: 2.4668e-07 - accuracy: 1.0000 - 493ms/epoch - 15ms/step\n",
            "Epoch 202/400\n"
          ]
        },
        {
          "output_type": "stream",
          "name": "stderr",
          "text": [
            "WARNING:tensorflow:Can save best model only with val_loss available, skipping.\n"
          ]
        },
        {
          "output_type": "stream",
          "name": "stdout",
          "text": [
            "34/34 - 0s - loss: 2.4177e-07 - accuracy: 1.0000 - 485ms/epoch - 14ms/step\n",
            "Epoch 203/400\n"
          ]
        },
        {
          "output_type": "stream",
          "name": "stderr",
          "text": [
            "WARNING:tensorflow:Can save best model only with val_loss available, skipping.\n"
          ]
        },
        {
          "output_type": "stream",
          "name": "stdout",
          "text": [
            "34/34 - 0s - loss: 2.3797e-07 - accuracy: 1.0000 - 484ms/epoch - 14ms/step\n",
            "Epoch 204/400\n"
          ]
        },
        {
          "output_type": "stream",
          "name": "stderr",
          "text": [
            "WARNING:tensorflow:Can save best model only with val_loss available, skipping.\n"
          ]
        },
        {
          "output_type": "stream",
          "name": "stdout",
          "text": [
            "34/34 - 0s - loss: 2.3161e-07 - accuracy: 1.0000 - 481ms/epoch - 14ms/step\n",
            "Epoch 205/400\n"
          ]
        },
        {
          "output_type": "stream",
          "name": "stderr",
          "text": [
            "WARNING:tensorflow:Can save best model only with val_loss available, skipping.\n"
          ]
        },
        {
          "output_type": "stream",
          "name": "stdout",
          "text": [
            "34/34 - 0s - loss: 2.2882e-07 - accuracy: 1.0000 - 483ms/epoch - 14ms/step\n",
            "Epoch 206/400\n"
          ]
        },
        {
          "output_type": "stream",
          "name": "stderr",
          "text": [
            "WARNING:tensorflow:Can save best model only with val_loss available, skipping.\n"
          ]
        },
        {
          "output_type": "stream",
          "name": "stdout",
          "text": [
            "34/34 - 0s - loss: 2.2179e-07 - accuracy: 1.0000 - 486ms/epoch - 14ms/step\n",
            "Epoch 207/400\n"
          ]
        },
        {
          "output_type": "stream",
          "name": "stderr",
          "text": [
            "WARNING:tensorflow:Can save best model only with val_loss available, skipping.\n"
          ]
        },
        {
          "output_type": "stream",
          "name": "stdout",
          "text": [
            "34/34 - 0s - loss: 2.2101e-07 - accuracy: 1.0000 - 484ms/epoch - 14ms/step\n",
            "Epoch 208/400\n"
          ]
        },
        {
          "output_type": "stream",
          "name": "stderr",
          "text": [
            "WARNING:tensorflow:Can save best model only with val_loss available, skipping.\n"
          ]
        },
        {
          "output_type": "stream",
          "name": "stdout",
          "text": [
            "34/34 - 0s - loss: 2.1487e-07 - accuracy: 1.0000 - 486ms/epoch - 14ms/step\n",
            "Epoch 209/400\n"
          ]
        },
        {
          "output_type": "stream",
          "name": "stderr",
          "text": [
            "WARNING:tensorflow:Can save best model only with val_loss available, skipping.\n"
          ]
        },
        {
          "output_type": "stream",
          "name": "stdout",
          "text": [
            "34/34 - 0s - loss: 2.0839e-07 - accuracy: 1.0000 - 485ms/epoch - 14ms/step\n",
            "Epoch 210/400\n"
          ]
        },
        {
          "output_type": "stream",
          "name": "stderr",
          "text": [
            "WARNING:tensorflow:Can save best model only with val_loss available, skipping.\n"
          ]
        },
        {
          "output_type": "stream",
          "name": "stdout",
          "text": [
            "34/34 - 0s - loss: 2.0538e-07 - accuracy: 1.0000 - 477ms/epoch - 14ms/step\n",
            "Epoch 211/400\n"
          ]
        },
        {
          "output_type": "stream",
          "name": "stderr",
          "text": [
            "WARNING:tensorflow:Can save best model only with val_loss available, skipping.\n"
          ]
        },
        {
          "output_type": "stream",
          "name": "stdout",
          "text": [
            "34/34 - 1s - loss: 1.9891e-07 - accuracy: 1.0000 - 506ms/epoch - 15ms/step\n",
            "Epoch 212/400\n"
          ]
        },
        {
          "output_type": "stream",
          "name": "stderr",
          "text": [
            "WARNING:tensorflow:Can save best model only with val_loss available, skipping.\n"
          ]
        },
        {
          "output_type": "stream",
          "name": "stdout",
          "text": [
            "34/34 - 1s - loss: 1.9634e-07 - accuracy: 1.0000 - 556ms/epoch - 16ms/step\n",
            "Epoch 213/400\n"
          ]
        },
        {
          "output_type": "stream",
          "name": "stderr",
          "text": [
            "WARNING:tensorflow:Can save best model only with val_loss available, skipping.\n"
          ]
        },
        {
          "output_type": "stream",
          "name": "stdout",
          "text": [
            "34/34 - 1s - loss: 1.9511e-07 - accuracy: 1.0000 - 536ms/epoch - 16ms/step\n",
            "Epoch 214/400\n"
          ]
        },
        {
          "output_type": "stream",
          "name": "stderr",
          "text": [
            "WARNING:tensorflow:Can save best model only with val_loss available, skipping.\n"
          ]
        },
        {
          "output_type": "stream",
          "name": "stdout",
          "text": [
            "34/34 - 1s - loss: 1.8919e-07 - accuracy: 1.0000 - 536ms/epoch - 16ms/step\n",
            "Epoch 215/400\n"
          ]
        },
        {
          "output_type": "stream",
          "name": "stderr",
          "text": [
            "WARNING:tensorflow:Can save best model only with val_loss available, skipping.\n"
          ]
        },
        {
          "output_type": "stream",
          "name": "stdout",
          "text": [
            "34/34 - 1s - loss: 1.8540e-07 - accuracy: 1.0000 - 549ms/epoch - 16ms/step\n",
            "Epoch 216/400\n"
          ]
        },
        {
          "output_type": "stream",
          "name": "stderr",
          "text": [
            "WARNING:tensorflow:Can save best model only with val_loss available, skipping.\n"
          ]
        },
        {
          "output_type": "stream",
          "name": "stdout",
          "text": [
            "34/34 - 1s - loss: 1.8183e-07 - accuracy: 1.0000 - 550ms/epoch - 16ms/step\n",
            "Epoch 217/400\n"
          ]
        },
        {
          "output_type": "stream",
          "name": "stderr",
          "text": [
            "WARNING:tensorflow:Can save best model only with val_loss available, skipping.\n"
          ]
        },
        {
          "output_type": "stream",
          "name": "stdout",
          "text": [
            "34/34 - 1s - loss: 1.7558e-07 - accuracy: 1.0000 - 567ms/epoch - 17ms/step\n",
            "Epoch 218/400\n"
          ]
        },
        {
          "output_type": "stream",
          "name": "stderr",
          "text": [
            "WARNING:tensorflow:Can save best model only with val_loss available, skipping.\n"
          ]
        },
        {
          "output_type": "stream",
          "name": "stdout",
          "text": [
            "34/34 - 0s - loss: 1.7323e-07 - accuracy: 1.0000 - 488ms/epoch - 14ms/step\n",
            "Epoch 219/400\n"
          ]
        },
        {
          "output_type": "stream",
          "name": "stderr",
          "text": [
            "WARNING:tensorflow:Can save best model only with val_loss available, skipping.\n"
          ]
        },
        {
          "output_type": "stream",
          "name": "stdout",
          "text": [
            "34/34 - 0s - loss: 1.6799e-07 - accuracy: 1.0000 - 478ms/epoch - 14ms/step\n",
            "Epoch 220/400\n"
          ]
        },
        {
          "output_type": "stream",
          "name": "stderr",
          "text": [
            "WARNING:tensorflow:Can save best model only with val_loss available, skipping.\n"
          ]
        },
        {
          "output_type": "stream",
          "name": "stdout",
          "text": [
            "34/34 - 0s - loss: 1.6430e-07 - accuracy: 1.0000 - 471ms/epoch - 14ms/step\n",
            "Epoch 221/400\n"
          ]
        },
        {
          "output_type": "stream",
          "name": "stderr",
          "text": [
            "WARNING:tensorflow:Can save best model only with val_loss available, skipping.\n"
          ]
        },
        {
          "output_type": "stream",
          "name": "stdout",
          "text": [
            "34/34 - 0s - loss: 1.6229e-07 - accuracy: 1.0000 - 482ms/epoch - 14ms/step\n",
            "Epoch 222/400\n"
          ]
        },
        {
          "output_type": "stream",
          "name": "stderr",
          "text": [
            "WARNING:tensorflow:Can save best model only with val_loss available, skipping.\n"
          ]
        },
        {
          "output_type": "stream",
          "name": "stdout",
          "text": [
            "34/34 - 0s - loss: 1.5761e-07 - accuracy: 1.0000 - 473ms/epoch - 14ms/step\n",
            "Epoch 223/400\n"
          ]
        },
        {
          "output_type": "stream",
          "name": "stderr",
          "text": [
            "WARNING:tensorflow:Can save best model only with val_loss available, skipping.\n"
          ]
        },
        {
          "output_type": "stream",
          "name": "stdout",
          "text": [
            "34/34 - 0s - loss: 1.5482e-07 - accuracy: 1.0000 - 473ms/epoch - 14ms/step\n",
            "Epoch 224/400\n"
          ]
        },
        {
          "output_type": "stream",
          "name": "stderr",
          "text": [
            "WARNING:tensorflow:Can save best model only with val_loss available, skipping.\n"
          ]
        },
        {
          "output_type": "stream",
          "name": "stdout",
          "text": [
            "34/34 - 0s - loss: 1.5113e-07 - accuracy: 1.0000 - 475ms/epoch - 14ms/step\n",
            "Epoch 225/400\n"
          ]
        },
        {
          "output_type": "stream",
          "name": "stderr",
          "text": [
            "WARNING:tensorflow:Can save best model only with val_loss available, skipping.\n"
          ]
        },
        {
          "output_type": "stream",
          "name": "stdout",
          "text": [
            "34/34 - 0s - loss: 1.4946e-07 - accuracy: 1.0000 - 485ms/epoch - 14ms/step\n",
            "Epoch 226/400\n"
          ]
        },
        {
          "output_type": "stream",
          "name": "stderr",
          "text": [
            "WARNING:tensorflow:Can save best model only with val_loss available, skipping.\n"
          ]
        },
        {
          "output_type": "stream",
          "name": "stdout",
          "text": [
            "34/34 - 1s - loss: 1.4611e-07 - accuracy: 1.0000 - 503ms/epoch - 15ms/step\n",
            "Epoch 227/400\n"
          ]
        },
        {
          "output_type": "stream",
          "name": "stderr",
          "text": [
            "WARNING:tensorflow:Can save best model only with val_loss available, skipping.\n"
          ]
        },
        {
          "output_type": "stream",
          "name": "stdout",
          "text": [
            "34/34 - 0s - loss: 1.4098e-07 - accuracy: 1.0000 - 491ms/epoch - 14ms/step\n",
            "Epoch 228/400\n"
          ]
        },
        {
          "output_type": "stream",
          "name": "stderr",
          "text": [
            "WARNING:tensorflow:Can save best model only with val_loss available, skipping.\n"
          ]
        },
        {
          "output_type": "stream",
          "name": "stdout",
          "text": [
            "34/34 - 0s - loss: 1.3830e-07 - accuracy: 1.0000 - 490ms/epoch - 14ms/step\n",
            "Epoch 229/400\n"
          ]
        },
        {
          "output_type": "stream",
          "name": "stderr",
          "text": [
            "WARNING:tensorflow:Can save best model only with val_loss available, skipping.\n"
          ]
        },
        {
          "output_type": "stream",
          "name": "stdout",
          "text": [
            "34/34 - 0s - loss: 1.3573e-07 - accuracy: 1.0000 - 477ms/epoch - 14ms/step\n",
            "Epoch 230/400\n"
          ]
        },
        {
          "output_type": "stream",
          "name": "stderr",
          "text": [
            "WARNING:tensorflow:Can save best model only with val_loss available, skipping.\n"
          ]
        },
        {
          "output_type": "stream",
          "name": "stdout",
          "text": [
            "34/34 - 0s - loss: 1.3260e-07 - accuracy: 1.0000 - 483ms/epoch - 14ms/step\n",
            "Epoch 231/400\n"
          ]
        },
        {
          "output_type": "stream",
          "name": "stderr",
          "text": [
            "WARNING:tensorflow:Can save best model only with val_loss available, skipping.\n"
          ]
        },
        {
          "output_type": "stream",
          "name": "stdout",
          "text": [
            "34/34 - 0s - loss: 1.3048e-07 - accuracy: 1.0000 - 485ms/epoch - 14ms/step\n",
            "Epoch 232/400\n"
          ]
        },
        {
          "output_type": "stream",
          "name": "stderr",
          "text": [
            "WARNING:tensorflow:Can save best model only with val_loss available, skipping.\n"
          ]
        },
        {
          "output_type": "stream",
          "name": "stdout",
          "text": [
            "34/34 - 0s - loss: 1.2635e-07 - accuracy: 1.0000 - 490ms/epoch - 14ms/step\n",
            "Epoch 233/400\n"
          ]
        },
        {
          "output_type": "stream",
          "name": "stderr",
          "text": [
            "WARNING:tensorflow:Can save best model only with val_loss available, skipping.\n"
          ]
        },
        {
          "output_type": "stream",
          "name": "stdout",
          "text": [
            "34/34 - 0s - loss: 1.2423e-07 - accuracy: 1.0000 - 482ms/epoch - 14ms/step\n",
            "Epoch 234/400\n"
          ]
        },
        {
          "output_type": "stream",
          "name": "stderr",
          "text": [
            "WARNING:tensorflow:Can save best model only with val_loss available, skipping.\n"
          ]
        },
        {
          "output_type": "stream",
          "name": "stdout",
          "text": [
            "34/34 - 0s - loss: 1.2345e-07 - accuracy: 1.0000 - 483ms/epoch - 14ms/step\n",
            "Epoch 235/400\n"
          ]
        },
        {
          "output_type": "stream",
          "name": "stderr",
          "text": [
            "WARNING:tensorflow:Can save best model only with val_loss available, skipping.\n"
          ]
        },
        {
          "output_type": "stream",
          "name": "stdout",
          "text": [
            "34/34 - 0s - loss: 1.1876e-07 - accuracy: 1.0000 - 480ms/epoch - 14ms/step\n",
            "Epoch 236/400\n"
          ]
        },
        {
          "output_type": "stream",
          "name": "stderr",
          "text": [
            "WARNING:tensorflow:Can save best model only with val_loss available, skipping.\n"
          ]
        },
        {
          "output_type": "stream",
          "name": "stdout",
          "text": [
            "34/34 - 0s - loss: 1.1675e-07 - accuracy: 1.0000 - 479ms/epoch - 14ms/step\n",
            "Epoch 237/400\n"
          ]
        },
        {
          "output_type": "stream",
          "name": "stderr",
          "text": [
            "WARNING:tensorflow:Can save best model only with val_loss available, skipping.\n"
          ]
        },
        {
          "output_type": "stream",
          "name": "stdout",
          "text": [
            "34/34 - 0s - loss: 1.1407e-07 - accuracy: 1.0000 - 479ms/epoch - 14ms/step\n",
            "Epoch 238/400\n"
          ]
        },
        {
          "output_type": "stream",
          "name": "stderr",
          "text": [
            "WARNING:tensorflow:Can save best model only with val_loss available, skipping.\n"
          ]
        },
        {
          "output_type": "stream",
          "name": "stdout",
          "text": [
            "34/34 - 1s - loss: 1.1274e-07 - accuracy: 1.0000 - 506ms/epoch - 15ms/step\n",
            "Epoch 239/400\n"
          ]
        },
        {
          "output_type": "stream",
          "name": "stderr",
          "text": [
            "WARNING:tensorflow:Can save best model only with val_loss available, skipping.\n"
          ]
        },
        {
          "output_type": "stream",
          "name": "stdout",
          "text": [
            "34/34 - 1s - loss: 1.1251e-07 - accuracy: 1.0000 - 538ms/epoch - 16ms/step\n",
            "Epoch 240/400\n"
          ]
        },
        {
          "output_type": "stream",
          "name": "stderr",
          "text": [
            "WARNING:tensorflow:Can save best model only with val_loss available, skipping.\n"
          ]
        },
        {
          "output_type": "stream",
          "name": "stdout",
          "text": [
            "34/34 - 1s - loss: 1.0715e-07 - accuracy: 1.0000 - 597ms/epoch - 18ms/step\n",
            "Epoch 241/400\n"
          ]
        },
        {
          "output_type": "stream",
          "name": "stderr",
          "text": [
            "WARNING:tensorflow:Can save best model only with val_loss available, skipping.\n"
          ]
        },
        {
          "output_type": "stream",
          "name": "stdout",
          "text": [
            "34/34 - 1s - loss: 1.0425e-07 - accuracy: 1.0000 - 622ms/epoch - 18ms/step\n",
            "Epoch 242/400\n"
          ]
        },
        {
          "output_type": "stream",
          "name": "stderr",
          "text": [
            "WARNING:tensorflow:Can save best model only with val_loss available, skipping.\n"
          ]
        },
        {
          "output_type": "stream",
          "name": "stdout",
          "text": [
            "34/34 - 1s - loss: 1.0392e-07 - accuracy: 1.0000 - 532ms/epoch - 16ms/step\n",
            "Epoch 243/400\n"
          ]
        },
        {
          "output_type": "stream",
          "name": "stderr",
          "text": [
            "WARNING:tensorflow:Can save best model only with val_loss available, skipping.\n"
          ]
        },
        {
          "output_type": "stream",
          "name": "stdout",
          "text": [
            "34/34 - 1s - loss: 1.0057e-07 - accuracy: 1.0000 - 532ms/epoch - 16ms/step\n",
            "Epoch 244/400\n"
          ]
        },
        {
          "output_type": "stream",
          "name": "stderr",
          "text": [
            "WARNING:tensorflow:Can save best model only with val_loss available, skipping.\n"
          ]
        },
        {
          "output_type": "stream",
          "name": "stdout",
          "text": [
            "34/34 - 1s - loss: 9.9453e-08 - accuracy: 1.0000 - 557ms/epoch - 16ms/step\n",
            "Epoch 245/400\n"
          ]
        },
        {
          "output_type": "stream",
          "name": "stderr",
          "text": [
            "WARNING:tensorflow:Can save best model only with val_loss available, skipping.\n"
          ]
        },
        {
          "output_type": "stream",
          "name": "stdout",
          "text": [
            "34/34 - 0s - loss: 9.5881e-08 - accuracy: 1.0000 - 499ms/epoch - 15ms/step\n",
            "Epoch 246/400\n"
          ]
        },
        {
          "output_type": "stream",
          "name": "stderr",
          "text": [
            "WARNING:tensorflow:Can save best model only with val_loss available, skipping.\n"
          ]
        },
        {
          "output_type": "stream",
          "name": "stdout",
          "text": [
            "34/34 - 0s - loss: 9.5881e-08 - accuracy: 1.0000 - 483ms/epoch - 14ms/step\n",
            "Epoch 247/400\n"
          ]
        },
        {
          "output_type": "stream",
          "name": "stderr",
          "text": [
            "WARNING:tensorflow:Can save best model only with val_loss available, skipping.\n"
          ]
        },
        {
          "output_type": "stream",
          "name": "stdout",
          "text": [
            "34/34 - 0s - loss: 9.3537e-08 - accuracy: 1.0000 - 471ms/epoch - 14ms/step\n",
            "Epoch 248/400\n"
          ]
        },
        {
          "output_type": "stream",
          "name": "stderr",
          "text": [
            "WARNING:tensorflow:Can save best model only with val_loss available, skipping.\n"
          ]
        },
        {
          "output_type": "stream",
          "name": "stdout",
          "text": [
            "34/34 - 0s - loss: 9.0746e-08 - accuracy: 1.0000 - 473ms/epoch - 14ms/step\n",
            "Epoch 249/400\n"
          ]
        },
        {
          "output_type": "stream",
          "name": "stderr",
          "text": [
            "WARNING:tensorflow:Can save best model only with val_loss available, skipping.\n"
          ]
        },
        {
          "output_type": "stream",
          "name": "stdout",
          "text": [
            "34/34 - 0s - loss: 8.9853e-08 - accuracy: 1.0000 - 485ms/epoch - 14ms/step\n",
            "Epoch 250/400\n"
          ]
        },
        {
          "output_type": "stream",
          "name": "stderr",
          "text": [
            "WARNING:tensorflow:Can save best model only with val_loss available, skipping.\n"
          ]
        },
        {
          "output_type": "stream",
          "name": "stdout",
          "text": [
            "34/34 - 0s - loss: 8.8068e-08 - accuracy: 1.0000 - 476ms/epoch - 14ms/step\n",
            "Epoch 251/400\n"
          ]
        },
        {
          "output_type": "stream",
          "name": "stderr",
          "text": [
            "WARNING:tensorflow:Can save best model only with val_loss available, skipping.\n"
          ]
        },
        {
          "output_type": "stream",
          "name": "stdout",
          "text": [
            "34/34 - 0s - loss: 8.5277e-08 - accuracy: 1.0000 - 480ms/epoch - 14ms/step\n",
            "Epoch 252/400\n"
          ]
        },
        {
          "output_type": "stream",
          "name": "stderr",
          "text": [
            "WARNING:tensorflow:Can save best model only with val_loss available, skipping.\n"
          ]
        },
        {
          "output_type": "stream",
          "name": "stdout",
          "text": [
            "34/34 - 0s - loss: 8.3268e-08 - accuracy: 1.0000 - 479ms/epoch - 14ms/step\n",
            "Epoch 253/400\n"
          ]
        },
        {
          "output_type": "stream",
          "name": "stderr",
          "text": [
            "WARNING:tensorflow:Can save best model only with val_loss available, skipping.\n"
          ]
        },
        {
          "output_type": "stream",
          "name": "stdout",
          "text": [
            "34/34 - 0s - loss: 8.3603e-08 - accuracy: 1.0000 - 478ms/epoch - 14ms/step\n",
            "Epoch 254/400\n"
          ]
        },
        {
          "output_type": "stream",
          "name": "stderr",
          "text": [
            "WARNING:tensorflow:Can save best model only with val_loss available, skipping.\n"
          ]
        },
        {
          "output_type": "stream",
          "name": "stdout",
          "text": [
            "34/34 - 0s - loss: 7.9808e-08 - accuracy: 1.0000 - 481ms/epoch - 14ms/step\n",
            "Epoch 255/400\n"
          ]
        },
        {
          "output_type": "stream",
          "name": "stderr",
          "text": [
            "WARNING:tensorflow:Can save best model only with val_loss available, skipping.\n"
          ]
        },
        {
          "output_type": "stream",
          "name": "stdout",
          "text": [
            "34/34 - 0s - loss: 7.8468e-08 - accuracy: 1.0000 - 492ms/epoch - 14ms/step\n",
            "Epoch 256/400\n"
          ]
        },
        {
          "output_type": "stream",
          "name": "stderr",
          "text": [
            "WARNING:tensorflow:Can save best model only with val_loss available, skipping.\n"
          ]
        },
        {
          "output_type": "stream",
          "name": "stdout",
          "text": [
            "34/34 - 0s - loss: 7.7910e-08 - accuracy: 1.0000 - 478ms/epoch - 14ms/step\n",
            "Epoch 257/400\n"
          ]
        },
        {
          "output_type": "stream",
          "name": "stderr",
          "text": [
            "WARNING:tensorflow:Can save best model only with val_loss available, skipping.\n"
          ]
        },
        {
          "output_type": "stream",
          "name": "stdout",
          "text": [
            "34/34 - 0s - loss: 7.5901e-08 - accuracy: 1.0000 - 471ms/epoch - 14ms/step\n",
            "Epoch 258/400\n"
          ]
        },
        {
          "output_type": "stream",
          "name": "stderr",
          "text": [
            "WARNING:tensorflow:Can save best model only with val_loss available, skipping.\n"
          ]
        },
        {
          "output_type": "stream",
          "name": "stdout",
          "text": [
            "34/34 - 0s - loss: 7.4896e-08 - accuracy: 1.0000 - 477ms/epoch - 14ms/step\n",
            "Epoch 259/400\n"
          ]
        },
        {
          "output_type": "stream",
          "name": "stderr",
          "text": [
            "WARNING:tensorflow:Can save best model only with val_loss available, skipping.\n"
          ]
        },
        {
          "output_type": "stream",
          "name": "stdout",
          "text": [
            "34/34 - 0s - loss: 7.2441e-08 - accuracy: 1.0000 - 483ms/epoch - 14ms/step\n",
            "Epoch 260/400\n"
          ]
        },
        {
          "output_type": "stream",
          "name": "stderr",
          "text": [
            "WARNING:tensorflow:Can save best model only with val_loss available, skipping.\n"
          ]
        },
        {
          "output_type": "stream",
          "name": "stdout",
          "text": [
            "34/34 - 0s - loss: 7.4115e-08 - accuracy: 1.0000 - 482ms/epoch - 14ms/step\n",
            "Epoch 261/400\n"
          ]
        },
        {
          "output_type": "stream",
          "name": "stderr",
          "text": [
            "WARNING:tensorflow:Can save best model only with val_loss available, skipping.\n"
          ]
        },
        {
          "output_type": "stream",
          "name": "stdout",
          "text": [
            "34/34 - 0s - loss: 6.9650e-08 - accuracy: 1.0000 - 480ms/epoch - 14ms/step\n",
            "Epoch 262/400\n"
          ]
        },
        {
          "output_type": "stream",
          "name": "stderr",
          "text": [
            "WARNING:tensorflow:Can save best model only with val_loss available, skipping.\n"
          ]
        },
        {
          "output_type": "stream",
          "name": "stdout",
          "text": [
            "34/34 - 0s - loss: 6.7753e-08 - accuracy: 1.0000 - 488ms/epoch - 14ms/step\n",
            "Epoch 263/400\n"
          ]
        },
        {
          "output_type": "stream",
          "name": "stderr",
          "text": [
            "WARNING:tensorflow:Can save best model only with val_loss available, skipping.\n"
          ]
        },
        {
          "output_type": "stream",
          "name": "stdout",
          "text": [
            "34/34 - 0s - loss: 6.7418e-08 - accuracy: 1.0000 - 474ms/epoch - 14ms/step\n",
            "Epoch 264/400\n"
          ]
        },
        {
          "output_type": "stream",
          "name": "stderr",
          "text": [
            "WARNING:tensorflow:Can save best model only with val_loss available, skipping.\n"
          ]
        },
        {
          "output_type": "stream",
          "name": "stdout",
          "text": [
            "34/34 - 0s - loss: 6.4962e-08 - accuracy: 1.0000 - 481ms/epoch - 14ms/step\n",
            "Epoch 265/400\n"
          ]
        },
        {
          "output_type": "stream",
          "name": "stderr",
          "text": [
            "WARNING:tensorflow:Can save best model only with val_loss available, skipping.\n"
          ]
        },
        {
          "output_type": "stream",
          "name": "stdout",
          "text": [
            "34/34 - 1s - loss: 6.3735e-08 - accuracy: 1.0000 - 508ms/epoch - 15ms/step\n",
            "Epoch 266/400\n"
          ]
        },
        {
          "output_type": "stream",
          "name": "stderr",
          "text": [
            "WARNING:tensorflow:Can save best model only with val_loss available, skipping.\n"
          ]
        },
        {
          "output_type": "stream",
          "name": "stdout",
          "text": [
            "34/34 - 1s - loss: 6.2842e-08 - accuracy: 1.0000 - 541ms/epoch - 16ms/step\n",
            "Epoch 267/400\n"
          ]
        },
        {
          "output_type": "stream",
          "name": "stderr",
          "text": [
            "WARNING:tensorflow:Can save best model only with val_loss available, skipping.\n"
          ]
        },
        {
          "output_type": "stream",
          "name": "stdout",
          "text": [
            "34/34 - 1s - loss: 6.0832e-08 - accuracy: 1.0000 - 527ms/epoch - 15ms/step\n",
            "Epoch 268/400\n"
          ]
        },
        {
          "output_type": "stream",
          "name": "stderr",
          "text": [
            "WARNING:tensorflow:Can save best model only with val_loss available, skipping.\n"
          ]
        },
        {
          "output_type": "stream",
          "name": "stdout",
          "text": [
            "34/34 - 1s - loss: 5.9493e-08 - accuracy: 1.0000 - 547ms/epoch - 16ms/step\n",
            "Epoch 269/400\n"
          ]
        },
        {
          "output_type": "stream",
          "name": "stderr",
          "text": [
            "WARNING:tensorflow:Can save best model only with val_loss available, skipping.\n"
          ]
        },
        {
          "output_type": "stream",
          "name": "stdout",
          "text": [
            "34/34 - 1s - loss: 5.8154e-08 - accuracy: 1.0000 - 540ms/epoch - 16ms/step\n",
            "Epoch 270/400\n"
          ]
        },
        {
          "output_type": "stream",
          "name": "stderr",
          "text": [
            "WARNING:tensorflow:Can save best model only with val_loss available, skipping.\n"
          ]
        },
        {
          "output_type": "stream",
          "name": "stdout",
          "text": [
            "34/34 - 1s - loss: 5.7149e-08 - accuracy: 1.0000 - 537ms/epoch - 16ms/step\n",
            "Epoch 271/400\n"
          ]
        },
        {
          "output_type": "stream",
          "name": "stderr",
          "text": [
            "WARNING:tensorflow:Can save best model only with val_loss available, skipping.\n"
          ]
        },
        {
          "output_type": "stream",
          "name": "stdout",
          "text": [
            "34/34 - 1s - loss: 5.6033e-08 - accuracy: 1.0000 - 524ms/epoch - 15ms/step\n",
            "Epoch 272/400\n"
          ]
        },
        {
          "output_type": "stream",
          "name": "stderr",
          "text": [
            "WARNING:tensorflow:Can save best model only with val_loss available, skipping.\n"
          ]
        },
        {
          "output_type": "stream",
          "name": "stdout",
          "text": [
            "34/34 - 1s - loss: 5.5028e-08 - accuracy: 1.0000 - 512ms/epoch - 15ms/step\n",
            "Epoch 273/400\n"
          ]
        },
        {
          "output_type": "stream",
          "name": "stderr",
          "text": [
            "WARNING:tensorflow:Can save best model only with val_loss available, skipping.\n"
          ]
        },
        {
          "output_type": "stream",
          "name": "stdout",
          "text": [
            "34/34 - 0s - loss: 5.3577e-08 - accuracy: 1.0000 - 472ms/epoch - 14ms/step\n",
            "Epoch 274/400\n"
          ]
        },
        {
          "output_type": "stream",
          "name": "stderr",
          "text": [
            "WARNING:tensorflow:Can save best model only with val_loss available, skipping.\n"
          ]
        },
        {
          "output_type": "stream",
          "name": "stdout",
          "text": [
            "34/34 - 0s - loss: 5.3242e-08 - accuracy: 1.0000 - 484ms/epoch - 14ms/step\n",
            "Epoch 275/400\n"
          ]
        },
        {
          "output_type": "stream",
          "name": "stderr",
          "text": [
            "WARNING:tensorflow:Can save best model only with val_loss available, skipping.\n"
          ]
        },
        {
          "output_type": "stream",
          "name": "stdout",
          "text": [
            "34/34 - 0s - loss: 5.2461e-08 - accuracy: 1.0000 - 491ms/epoch - 14ms/step\n",
            "Epoch 276/400\n"
          ]
        },
        {
          "output_type": "stream",
          "name": "stderr",
          "text": [
            "WARNING:tensorflow:Can save best model only with val_loss available, skipping.\n"
          ]
        },
        {
          "output_type": "stream",
          "name": "stdout",
          "text": [
            "34/34 - 0s - loss: 5.0117e-08 - accuracy: 1.0000 - 473ms/epoch - 14ms/step\n",
            "Epoch 277/400\n"
          ]
        },
        {
          "output_type": "stream",
          "name": "stderr",
          "text": [
            "WARNING:tensorflow:Can save best model only with val_loss available, skipping.\n"
          ]
        },
        {
          "output_type": "stream",
          "name": "stdout",
          "text": [
            "34/34 - 0s - loss: 4.9336e-08 - accuracy: 1.0000 - 484ms/epoch - 14ms/step\n",
            "Epoch 278/400\n"
          ]
        },
        {
          "output_type": "stream",
          "name": "stderr",
          "text": [
            "WARNING:tensorflow:Can save best model only with val_loss available, skipping.\n"
          ]
        },
        {
          "output_type": "stream",
          "name": "stdout",
          "text": [
            "34/34 - 0s - loss: 4.9112e-08 - accuracy: 1.0000 - 478ms/epoch - 14ms/step\n",
            "Epoch 279/400\n"
          ]
        },
        {
          "output_type": "stream",
          "name": "stderr",
          "text": [
            "WARNING:tensorflow:Can save best model only with val_loss available, skipping.\n"
          ]
        },
        {
          "output_type": "stream",
          "name": "stdout",
          "text": [
            "34/34 - 0s - loss: 4.7438e-08 - accuracy: 1.0000 - 473ms/epoch - 14ms/step\n",
            "Epoch 280/400\n"
          ]
        },
        {
          "output_type": "stream",
          "name": "stderr",
          "text": [
            "WARNING:tensorflow:Can save best model only with val_loss available, skipping.\n"
          ]
        },
        {
          "output_type": "stream",
          "name": "stdout",
          "text": [
            "34/34 - 0s - loss: 4.6322e-08 - accuracy: 1.0000 - 491ms/epoch - 14ms/step\n",
            "Epoch 281/400\n"
          ]
        },
        {
          "output_type": "stream",
          "name": "stderr",
          "text": [
            "WARNING:tensorflow:Can save best model only with val_loss available, skipping.\n"
          ]
        },
        {
          "output_type": "stream",
          "name": "stdout",
          "text": [
            "34/34 - 0s - loss: 4.6657e-08 - accuracy: 1.0000 - 479ms/epoch - 14ms/step\n",
            "Epoch 282/400\n"
          ]
        },
        {
          "output_type": "stream",
          "name": "stderr",
          "text": [
            "WARNING:tensorflow:Can save best model only with val_loss available, skipping.\n"
          ]
        },
        {
          "output_type": "stream",
          "name": "stdout",
          "text": [
            "34/34 - 0s - loss: 4.5317e-08 - accuracy: 1.0000 - 477ms/epoch - 14ms/step\n",
            "Epoch 283/400\n"
          ]
        },
        {
          "output_type": "stream",
          "name": "stderr",
          "text": [
            "WARNING:tensorflow:Can save best model only with val_loss available, skipping.\n"
          ]
        },
        {
          "output_type": "stream",
          "name": "stdout",
          "text": [
            "34/34 - 0s - loss: 4.4090e-08 - accuracy: 1.0000 - 489ms/epoch - 14ms/step\n",
            "Epoch 284/400\n"
          ]
        },
        {
          "output_type": "stream",
          "name": "stderr",
          "text": [
            "WARNING:tensorflow:Can save best model only with val_loss available, skipping.\n"
          ]
        },
        {
          "output_type": "stream",
          "name": "stdout",
          "text": [
            "34/34 - 0s - loss: 4.4424e-08 - accuracy: 1.0000 - 488ms/epoch - 14ms/step\n",
            "Epoch 285/400\n"
          ]
        },
        {
          "output_type": "stream",
          "name": "stderr",
          "text": [
            "WARNING:tensorflow:Can save best model only with val_loss available, skipping.\n"
          ]
        },
        {
          "output_type": "stream",
          "name": "stdout",
          "text": [
            "34/34 - 0s - loss: 4.2639e-08 - accuracy: 1.0000 - 484ms/epoch - 14ms/step\n",
            "Epoch 286/400\n"
          ]
        },
        {
          "output_type": "stream",
          "name": "stderr",
          "text": [
            "WARNING:tensorflow:Can save best model only with val_loss available, skipping.\n"
          ]
        },
        {
          "output_type": "stream",
          "name": "stdout",
          "text": [
            "34/34 - 0s - loss: 4.3085e-08 - accuracy: 1.0000 - 483ms/epoch - 14ms/step\n",
            "Epoch 287/400\n"
          ]
        },
        {
          "output_type": "stream",
          "name": "stderr",
          "text": [
            "WARNING:tensorflow:Can save best model only with val_loss available, skipping.\n"
          ]
        },
        {
          "output_type": "stream",
          "name": "stdout",
          "text": [
            "34/34 - 0s - loss: 4.1634e-08 - accuracy: 1.0000 - 476ms/epoch - 14ms/step\n",
            "Epoch 288/400\n"
          ]
        },
        {
          "output_type": "stream",
          "name": "stderr",
          "text": [
            "WARNING:tensorflow:Can save best model only with val_loss available, skipping.\n"
          ]
        },
        {
          "output_type": "stream",
          "name": "stdout",
          "text": [
            "34/34 - 0s - loss: 3.9625e-08 - accuracy: 1.0000 - 486ms/epoch - 14ms/step\n",
            "Epoch 289/400\n"
          ]
        },
        {
          "output_type": "stream",
          "name": "stderr",
          "text": [
            "WARNING:tensorflow:Can save best model only with val_loss available, skipping.\n"
          ]
        },
        {
          "output_type": "stream",
          "name": "stdout",
          "text": [
            "34/34 - 0s - loss: 3.9178e-08 - accuracy: 1.0000 - 481ms/epoch - 14ms/step\n",
            "Epoch 290/400\n"
          ]
        },
        {
          "output_type": "stream",
          "name": "stderr",
          "text": [
            "WARNING:tensorflow:Can save best model only with val_loss available, skipping.\n"
          ]
        },
        {
          "output_type": "stream",
          "name": "stdout",
          "text": [
            "34/34 - 0s - loss: 3.8285e-08 - accuracy: 1.0000 - 489ms/epoch - 14ms/step\n",
            "Epoch 291/400\n"
          ]
        },
        {
          "output_type": "stream",
          "name": "stderr",
          "text": [
            "WARNING:tensorflow:Can save best model only with val_loss available, skipping.\n"
          ]
        },
        {
          "output_type": "stream",
          "name": "stdout",
          "text": [
            "34/34 - 0s - loss: 3.7727e-08 - accuracy: 1.0000 - 482ms/epoch - 14ms/step\n",
            "Epoch 292/400\n"
          ]
        },
        {
          "output_type": "stream",
          "name": "stderr",
          "text": [
            "WARNING:tensorflow:Can save best model only with val_loss available, skipping.\n"
          ]
        },
        {
          "output_type": "stream",
          "name": "stdout",
          "text": [
            "34/34 - 1s - loss: 3.7169e-08 - accuracy: 1.0000 - 507ms/epoch - 15ms/step\n",
            "Epoch 293/400\n"
          ]
        },
        {
          "output_type": "stream",
          "name": "stderr",
          "text": [
            "WARNING:tensorflow:Can save best model only with val_loss available, skipping.\n"
          ]
        },
        {
          "output_type": "stream",
          "name": "stdout",
          "text": [
            "34/34 - 1s - loss: 3.6723e-08 - accuracy: 1.0000 - 527ms/epoch - 16ms/step\n",
            "Epoch 294/400\n"
          ]
        },
        {
          "output_type": "stream",
          "name": "stderr",
          "text": [
            "WARNING:tensorflow:Can save best model only with val_loss available, skipping.\n"
          ]
        },
        {
          "output_type": "stream",
          "name": "stdout",
          "text": [
            "34/34 - 1s - loss: 3.5607e-08 - accuracy: 1.0000 - 542ms/epoch - 16ms/step\n",
            "Epoch 295/400\n"
          ]
        },
        {
          "output_type": "stream",
          "name": "stderr",
          "text": [
            "WARNING:tensorflow:Can save best model only with val_loss available, skipping.\n"
          ]
        },
        {
          "output_type": "stream",
          "name": "stdout",
          "text": [
            "34/34 - 1s - loss: 3.4937e-08 - accuracy: 1.0000 - 536ms/epoch - 16ms/step\n",
            "Epoch 296/400\n"
          ]
        },
        {
          "output_type": "stream",
          "name": "stderr",
          "text": [
            "WARNING:tensorflow:Can save best model only with val_loss available, skipping.\n"
          ]
        },
        {
          "output_type": "stream",
          "name": "stdout",
          "text": [
            "34/34 - 1s - loss: 3.3597e-08 - accuracy: 1.0000 - 538ms/epoch - 16ms/step\n",
            "Epoch 297/400\n"
          ]
        },
        {
          "output_type": "stream",
          "name": "stderr",
          "text": [
            "WARNING:tensorflow:Can save best model only with val_loss available, skipping.\n"
          ]
        },
        {
          "output_type": "stream",
          "name": "stdout",
          "text": [
            "34/34 - 1s - loss: 3.2481e-08 - accuracy: 1.0000 - 540ms/epoch - 16ms/step\n",
            "Epoch 298/400\n"
          ]
        },
        {
          "output_type": "stream",
          "name": "stderr",
          "text": [
            "WARNING:tensorflow:Can save best model only with val_loss available, skipping.\n"
          ]
        },
        {
          "output_type": "stream",
          "name": "stdout",
          "text": [
            "34/34 - 1s - loss: 3.1923e-08 - accuracy: 1.0000 - 526ms/epoch - 15ms/step\n",
            "Epoch 299/400\n"
          ]
        },
        {
          "output_type": "stream",
          "name": "stderr",
          "text": [
            "WARNING:tensorflow:Can save best model only with val_loss available, skipping.\n"
          ]
        },
        {
          "output_type": "stream",
          "name": "stdout",
          "text": [
            "34/34 - 1s - loss: 3.1142e-08 - accuracy: 1.0000 - 502ms/epoch - 15ms/step\n",
            "Epoch 300/400\n"
          ]
        },
        {
          "output_type": "stream",
          "name": "stderr",
          "text": [
            "WARNING:tensorflow:Can save best model only with val_loss available, skipping.\n"
          ]
        },
        {
          "output_type": "stream",
          "name": "stdout",
          "text": [
            "34/34 - 0s - loss: 3.0472e-08 - accuracy: 1.0000 - 479ms/epoch - 14ms/step\n",
            "Epoch 301/400\n"
          ]
        },
        {
          "output_type": "stream",
          "name": "stderr",
          "text": [
            "WARNING:tensorflow:Can save best model only with val_loss available, skipping.\n"
          ]
        },
        {
          "output_type": "stream",
          "name": "stdout",
          "text": [
            "34/34 - 0s - loss: 2.9691e-08 - accuracy: 1.0000 - 473ms/epoch - 14ms/step\n",
            "Epoch 302/400\n"
          ]
        },
        {
          "output_type": "stream",
          "name": "stderr",
          "text": [
            "WARNING:tensorflow:Can save best model only with val_loss available, skipping.\n"
          ]
        },
        {
          "output_type": "stream",
          "name": "stdout",
          "text": [
            "34/34 - 0s - loss: 2.9467e-08 - accuracy: 1.0000 - 475ms/epoch - 14ms/step\n",
            "Epoch 303/400\n"
          ]
        },
        {
          "output_type": "stream",
          "name": "stderr",
          "text": [
            "WARNING:tensorflow:Can save best model only with val_loss available, skipping.\n"
          ]
        },
        {
          "output_type": "stream",
          "name": "stdout",
          "text": [
            "34/34 - 0s - loss: 3.0360e-08 - accuracy: 1.0000 - 474ms/epoch - 14ms/step\n",
            "Epoch 304/400\n"
          ]
        },
        {
          "output_type": "stream",
          "name": "stderr",
          "text": [
            "WARNING:tensorflow:Can save best model only with val_loss available, skipping.\n"
          ]
        },
        {
          "output_type": "stream",
          "name": "stdout",
          "text": [
            "34/34 - 0s - loss: 2.8575e-08 - accuracy: 1.0000 - 471ms/epoch - 14ms/step\n",
            "Epoch 305/400\n"
          ]
        },
        {
          "output_type": "stream",
          "name": "stderr",
          "text": [
            "WARNING:tensorflow:Can save best model only with val_loss available, skipping.\n"
          ]
        },
        {
          "output_type": "stream",
          "name": "stdout",
          "text": [
            "34/34 - 0s - loss: 2.7123e-08 - accuracy: 1.0000 - 478ms/epoch - 14ms/step\n",
            "Epoch 306/400\n"
          ]
        },
        {
          "output_type": "stream",
          "name": "stderr",
          "text": [
            "WARNING:tensorflow:Can save best model only with val_loss available, skipping.\n"
          ]
        },
        {
          "output_type": "stream",
          "name": "stdout",
          "text": [
            "34/34 - 0s - loss: 2.7458e-08 - accuracy: 1.0000 - 482ms/epoch - 14ms/step\n",
            "Epoch 307/400\n"
          ]
        },
        {
          "output_type": "stream",
          "name": "stderr",
          "text": [
            "WARNING:tensorflow:Can save best model only with val_loss available, skipping.\n"
          ]
        },
        {
          "output_type": "stream",
          "name": "stdout",
          "text": [
            "34/34 - 0s - loss: 2.6342e-08 - accuracy: 1.0000 - 468ms/epoch - 14ms/step\n",
            "Epoch 308/400\n"
          ]
        },
        {
          "output_type": "stream",
          "name": "stderr",
          "text": [
            "WARNING:tensorflow:Can save best model only with val_loss available, skipping.\n"
          ]
        },
        {
          "output_type": "stream",
          "name": "stdout",
          "text": [
            "34/34 - 0s - loss: 2.6007e-08 - accuracy: 1.0000 - 477ms/epoch - 14ms/step\n",
            "Epoch 309/400\n"
          ]
        },
        {
          "output_type": "stream",
          "name": "stderr",
          "text": [
            "WARNING:tensorflow:Can save best model only with val_loss available, skipping.\n"
          ]
        },
        {
          "output_type": "stream",
          "name": "stdout",
          "text": [
            "34/34 - 0s - loss: 2.5672e-08 - accuracy: 1.0000 - 468ms/epoch - 14ms/step\n",
            "Epoch 310/400\n"
          ]
        },
        {
          "output_type": "stream",
          "name": "stderr",
          "text": [
            "WARNING:tensorflow:Can save best model only with val_loss available, skipping.\n"
          ]
        },
        {
          "output_type": "stream",
          "name": "stdout",
          "text": [
            "34/34 - 0s - loss: 2.4779e-08 - accuracy: 1.0000 - 481ms/epoch - 14ms/step\n",
            "Epoch 311/400\n"
          ]
        },
        {
          "output_type": "stream",
          "name": "stderr",
          "text": [
            "WARNING:tensorflow:Can save best model only with val_loss available, skipping.\n"
          ]
        },
        {
          "output_type": "stream",
          "name": "stdout",
          "text": [
            "34/34 - 0s - loss: 2.4556e-08 - accuracy: 1.0000 - 481ms/epoch - 14ms/step\n",
            "Epoch 312/400\n"
          ]
        },
        {
          "output_type": "stream",
          "name": "stderr",
          "text": [
            "WARNING:tensorflow:Can save best model only with val_loss available, skipping.\n"
          ]
        },
        {
          "output_type": "stream",
          "name": "stdout",
          "text": [
            "34/34 - 0s - loss: 2.3775e-08 - accuracy: 1.0000 - 484ms/epoch - 14ms/step\n",
            "Epoch 313/400\n"
          ]
        },
        {
          "output_type": "stream",
          "name": "stderr",
          "text": [
            "WARNING:tensorflow:Can save best model only with val_loss available, skipping.\n"
          ]
        },
        {
          "output_type": "stream",
          "name": "stdout",
          "text": [
            "34/34 - 0s - loss: 2.3887e-08 - accuracy: 1.0000 - 483ms/epoch - 14ms/step\n",
            "Epoch 314/400\n"
          ]
        },
        {
          "output_type": "stream",
          "name": "stderr",
          "text": [
            "WARNING:tensorflow:Can save best model only with val_loss available, skipping.\n"
          ]
        },
        {
          "output_type": "stream",
          "name": "stdout",
          "text": [
            "34/34 - 0s - loss: 2.3552e-08 - accuracy: 1.0000 - 486ms/epoch - 14ms/step\n",
            "Epoch 315/400\n"
          ]
        },
        {
          "output_type": "stream",
          "name": "stderr",
          "text": [
            "WARNING:tensorflow:Can save best model only with val_loss available, skipping.\n"
          ]
        },
        {
          "output_type": "stream",
          "name": "stdout",
          "text": [
            "34/34 - 1s - loss: 2.2882e-08 - accuracy: 1.0000 - 501ms/epoch - 15ms/step\n",
            "Epoch 316/400\n"
          ]
        },
        {
          "output_type": "stream",
          "name": "stderr",
          "text": [
            "WARNING:tensorflow:Can save best model only with val_loss available, skipping.\n"
          ]
        },
        {
          "output_type": "stream",
          "name": "stdout",
          "text": [
            "34/34 - 0s - loss: 2.2770e-08 - accuracy: 1.0000 - 471ms/epoch - 14ms/step\n",
            "Epoch 317/400\n"
          ]
        },
        {
          "output_type": "stream",
          "name": "stderr",
          "text": [
            "WARNING:tensorflow:Can save best model only with val_loss available, skipping.\n"
          ]
        },
        {
          "output_type": "stream",
          "name": "stdout",
          "text": [
            "34/34 - 0s - loss: 2.1989e-08 - accuracy: 1.0000 - 479ms/epoch - 14ms/step\n",
            "Epoch 318/400\n"
          ]
        },
        {
          "output_type": "stream",
          "name": "stderr",
          "text": [
            "WARNING:tensorflow:Can save best model only with val_loss available, skipping.\n"
          ]
        },
        {
          "output_type": "stream",
          "name": "stdout",
          "text": [
            "34/34 - 0s - loss: 2.1208e-08 - accuracy: 1.0000 - 493ms/epoch - 14ms/step\n",
            "Epoch 319/400\n"
          ]
        },
        {
          "output_type": "stream",
          "name": "stderr",
          "text": [
            "WARNING:tensorflow:Can save best model only with val_loss available, skipping.\n"
          ]
        },
        {
          "output_type": "stream",
          "name": "stdout",
          "text": [
            "34/34 - 1s - loss: 2.0091e-08 - accuracy: 1.0000 - 502ms/epoch - 15ms/step\n",
            "Epoch 320/400\n"
          ]
        },
        {
          "output_type": "stream",
          "name": "stderr",
          "text": [
            "WARNING:tensorflow:Can save best model only with val_loss available, skipping.\n"
          ]
        },
        {
          "output_type": "stream",
          "name": "stdout",
          "text": [
            "34/34 - 1s - loss: 2.0761e-08 - accuracy: 1.0000 - 548ms/epoch - 16ms/step\n",
            "Epoch 321/400\n"
          ]
        },
        {
          "output_type": "stream",
          "name": "stderr",
          "text": [
            "WARNING:tensorflow:Can save best model only with val_loss available, skipping.\n"
          ]
        },
        {
          "output_type": "stream",
          "name": "stdout",
          "text": [
            "34/34 - 1s - loss: 2.0203e-08 - accuracy: 1.0000 - 548ms/epoch - 16ms/step\n",
            "Epoch 322/400\n"
          ]
        },
        {
          "output_type": "stream",
          "name": "stderr",
          "text": [
            "WARNING:tensorflow:Can save best model only with val_loss available, skipping.\n"
          ]
        },
        {
          "output_type": "stream",
          "name": "stdout",
          "text": [
            "34/34 - 1s - loss: 1.9422e-08 - accuracy: 1.0000 - 532ms/epoch - 16ms/step\n",
            "Epoch 323/400\n"
          ]
        },
        {
          "output_type": "stream",
          "name": "stderr",
          "text": [
            "WARNING:tensorflow:Can save best model only with val_loss available, skipping.\n"
          ]
        },
        {
          "output_type": "stream",
          "name": "stdout",
          "text": [
            "34/34 - 1s - loss: 1.9198e-08 - accuracy: 1.0000 - 524ms/epoch - 15ms/step\n",
            "Epoch 324/400\n"
          ]
        },
        {
          "output_type": "stream",
          "name": "stderr",
          "text": [
            "WARNING:tensorflow:Can save best model only with val_loss available, skipping.\n"
          ]
        },
        {
          "output_type": "stream",
          "name": "stdout",
          "text": [
            "34/34 - 1s - loss: 1.8864e-08 - accuracy: 1.0000 - 535ms/epoch - 16ms/step\n",
            "Epoch 325/400\n"
          ]
        },
        {
          "output_type": "stream",
          "name": "stderr",
          "text": [
            "WARNING:tensorflow:Can save best model only with val_loss available, skipping.\n"
          ]
        },
        {
          "output_type": "stream",
          "name": "stdout",
          "text": [
            "34/34 - 1s - loss: 1.8640e-08 - accuracy: 1.0000 - 522ms/epoch - 15ms/step\n",
            "Epoch 326/400\n"
          ]
        },
        {
          "output_type": "stream",
          "name": "stderr",
          "text": [
            "WARNING:tensorflow:Can save best model only with val_loss available, skipping.\n"
          ]
        },
        {
          "output_type": "stream",
          "name": "stdout",
          "text": [
            "34/34 - 1s - loss: 1.7747e-08 - accuracy: 1.0000 - 522ms/epoch - 15ms/step\n",
            "Epoch 327/400\n"
          ]
        },
        {
          "output_type": "stream",
          "name": "stderr",
          "text": [
            "WARNING:tensorflow:Can save best model only with val_loss available, skipping.\n"
          ]
        },
        {
          "output_type": "stream",
          "name": "stdout",
          "text": [
            "34/34 - 0s - loss: 1.8082e-08 - accuracy: 1.0000 - 486ms/epoch - 14ms/step\n",
            "Epoch 328/400\n"
          ]
        },
        {
          "output_type": "stream",
          "name": "stderr",
          "text": [
            "WARNING:tensorflow:Can save best model only with val_loss available, skipping.\n"
          ]
        },
        {
          "output_type": "stream",
          "name": "stdout",
          "text": [
            "34/34 - 0s - loss: 1.7524e-08 - accuracy: 1.0000 - 473ms/epoch - 14ms/step\n",
            "Epoch 329/400\n"
          ]
        },
        {
          "output_type": "stream",
          "name": "stderr",
          "text": [
            "WARNING:tensorflow:Can save best model only with val_loss available, skipping.\n"
          ]
        },
        {
          "output_type": "stream",
          "name": "stdout",
          "text": [
            "34/34 - 0s - loss: 1.7413e-08 - accuracy: 1.0000 - 484ms/epoch - 14ms/step\n",
            "Epoch 330/400\n"
          ]
        },
        {
          "output_type": "stream",
          "name": "stderr",
          "text": [
            "WARNING:tensorflow:Can save best model only with val_loss available, skipping.\n"
          ]
        },
        {
          "output_type": "stream",
          "name": "stdout",
          "text": [
            "34/34 - 0s - loss: 1.6743e-08 - accuracy: 1.0000 - 482ms/epoch - 14ms/step\n",
            "Epoch 331/400\n"
          ]
        },
        {
          "output_type": "stream",
          "name": "stderr",
          "text": [
            "WARNING:tensorflow:Can save best model only with val_loss available, skipping.\n"
          ]
        },
        {
          "output_type": "stream",
          "name": "stdout",
          "text": [
            "34/34 - 0s - loss: 1.6520e-08 - accuracy: 1.0000 - 488ms/epoch - 14ms/step\n",
            "Epoch 332/400\n"
          ]
        },
        {
          "output_type": "stream",
          "name": "stderr",
          "text": [
            "WARNING:tensorflow:Can save best model only with val_loss available, skipping.\n"
          ]
        },
        {
          "output_type": "stream",
          "name": "stdout",
          "text": [
            "34/34 - 0s - loss: 1.5292e-08 - accuracy: 1.0000 - 478ms/epoch - 14ms/step\n",
            "Epoch 333/400\n"
          ]
        },
        {
          "output_type": "stream",
          "name": "stderr",
          "text": [
            "WARNING:tensorflow:Can save best model only with val_loss available, skipping.\n"
          ]
        },
        {
          "output_type": "stream",
          "name": "stdout",
          "text": [
            "34/34 - 0s - loss: 1.6520e-08 - accuracy: 1.0000 - 476ms/epoch - 14ms/step\n",
            "Epoch 334/400\n"
          ]
        },
        {
          "output_type": "stream",
          "name": "stderr",
          "text": [
            "WARNING:tensorflow:Can save best model only with val_loss available, skipping.\n"
          ]
        },
        {
          "output_type": "stream",
          "name": "stdout",
          "text": [
            "34/34 - 0s - loss: 1.4845e-08 - accuracy: 1.0000 - 482ms/epoch - 14ms/step\n",
            "Epoch 335/400\n"
          ]
        },
        {
          "output_type": "stream",
          "name": "stderr",
          "text": [
            "WARNING:tensorflow:Can save best model only with val_loss available, skipping.\n"
          ]
        },
        {
          "output_type": "stream",
          "name": "stdout",
          "text": [
            "34/34 - 0s - loss: 1.5738e-08 - accuracy: 1.0000 - 482ms/epoch - 14ms/step\n",
            "Epoch 336/400\n"
          ]
        },
        {
          "output_type": "stream",
          "name": "stderr",
          "text": [
            "WARNING:tensorflow:Can save best model only with val_loss available, skipping.\n"
          ]
        },
        {
          "output_type": "stream",
          "name": "stdout",
          "text": [
            "34/34 - 0s - loss: 1.5069e-08 - accuracy: 1.0000 - 484ms/epoch - 14ms/step\n",
            "Epoch 337/400\n"
          ]
        },
        {
          "output_type": "stream",
          "name": "stderr",
          "text": [
            "WARNING:tensorflow:Can save best model only with val_loss available, skipping.\n"
          ]
        },
        {
          "output_type": "stream",
          "name": "stdout",
          "text": [
            "34/34 - 0s - loss: 1.6073e-08 - accuracy: 1.0000 - 500ms/epoch - 15ms/step\n",
            "Epoch 338/400\n"
          ]
        },
        {
          "output_type": "stream",
          "name": "stderr",
          "text": [
            "WARNING:tensorflow:Can save best model only with val_loss available, skipping.\n"
          ]
        },
        {
          "output_type": "stream",
          "name": "stdout",
          "text": [
            "34/34 - 0s - loss: 1.4622e-08 - accuracy: 1.0000 - 477ms/epoch - 14ms/step\n",
            "Epoch 339/400\n"
          ]
        },
        {
          "output_type": "stream",
          "name": "stderr",
          "text": [
            "WARNING:tensorflow:Can save best model only with val_loss available, skipping.\n"
          ]
        },
        {
          "output_type": "stream",
          "name": "stdout",
          "text": [
            "34/34 - 0s - loss: 1.3618e-08 - accuracy: 1.0000 - 481ms/epoch - 14ms/step\n",
            "Epoch 340/400\n"
          ]
        },
        {
          "output_type": "stream",
          "name": "stderr",
          "text": [
            "WARNING:tensorflow:Can save best model only with val_loss available, skipping.\n"
          ]
        },
        {
          "output_type": "stream",
          "name": "stdout",
          "text": [
            "34/34 - 0s - loss: 1.4064e-08 - accuracy: 1.0000 - 478ms/epoch - 14ms/step\n",
            "Epoch 341/400\n"
          ]
        },
        {
          "output_type": "stream",
          "name": "stderr",
          "text": [
            "WARNING:tensorflow:Can save best model only with val_loss available, skipping.\n"
          ]
        },
        {
          "output_type": "stream",
          "name": "stdout",
          "text": [
            "34/34 - 0s - loss: 1.3506e-08 - accuracy: 1.0000 - 477ms/epoch - 14ms/step\n",
            "Epoch 342/400\n"
          ]
        },
        {
          "output_type": "stream",
          "name": "stderr",
          "text": [
            "WARNING:tensorflow:Can save best model only with val_loss available, skipping.\n"
          ]
        },
        {
          "output_type": "stream",
          "name": "stdout",
          "text": [
            "34/34 - 0s - loss: 1.3171e-08 - accuracy: 1.0000 - 473ms/epoch - 14ms/step\n",
            "Epoch 343/400\n"
          ]
        },
        {
          "output_type": "stream",
          "name": "stderr",
          "text": [
            "WARNING:tensorflow:Can save best model only with val_loss available, skipping.\n"
          ]
        },
        {
          "output_type": "stream",
          "name": "stdout",
          "text": [
            "34/34 - 0s - loss: 1.2948e-08 - accuracy: 1.0000 - 495ms/epoch - 15ms/step\n",
            "Epoch 344/400\n"
          ]
        },
        {
          "output_type": "stream",
          "name": "stderr",
          "text": [
            "WARNING:tensorflow:Can save best model only with val_loss available, skipping.\n"
          ]
        },
        {
          "output_type": "stream",
          "name": "stdout",
          "text": [
            "34/34 - 0s - loss: 1.1943e-08 - accuracy: 1.0000 - 482ms/epoch - 14ms/step\n",
            "Epoch 345/400\n"
          ]
        },
        {
          "output_type": "stream",
          "name": "stderr",
          "text": [
            "WARNING:tensorflow:Can save best model only with val_loss available, skipping.\n"
          ]
        },
        {
          "output_type": "stream",
          "name": "stdout",
          "text": [
            "34/34 - 0s - loss: 1.1943e-08 - accuracy: 1.0000 - 479ms/epoch - 14ms/step\n",
            "Epoch 346/400\n"
          ]
        },
        {
          "output_type": "stream",
          "name": "stderr",
          "text": [
            "WARNING:tensorflow:Can save best model only with val_loss available, skipping.\n"
          ]
        },
        {
          "output_type": "stream",
          "name": "stdout",
          "text": [
            "34/34 - 0s - loss: 1.1943e-08 - accuracy: 1.0000 - 483ms/epoch - 14ms/step\n",
            "Epoch 347/400\n"
          ]
        },
        {
          "output_type": "stream",
          "name": "stderr",
          "text": [
            "WARNING:tensorflow:Can save best model only with val_loss available, skipping.\n"
          ]
        },
        {
          "output_type": "stream",
          "name": "stdout",
          "text": [
            "34/34 - 1s - loss: 1.0492e-08 - accuracy: 1.0000 - 527ms/epoch - 16ms/step\n",
            "Epoch 348/400\n"
          ]
        },
        {
          "output_type": "stream",
          "name": "stderr",
          "text": [
            "WARNING:tensorflow:Can save best model only with val_loss available, skipping.\n"
          ]
        },
        {
          "output_type": "stream",
          "name": "stdout",
          "text": [
            "34/34 - 1s - loss: 1.0827e-08 - accuracy: 1.0000 - 531ms/epoch - 16ms/step\n",
            "Epoch 349/400\n"
          ]
        },
        {
          "output_type": "stream",
          "name": "stderr",
          "text": [
            "WARNING:tensorflow:Can save best model only with val_loss available, skipping.\n"
          ]
        },
        {
          "output_type": "stream",
          "name": "stdout",
          "text": [
            "34/34 - 1s - loss: 1.0827e-08 - accuracy: 1.0000 - 523ms/epoch - 15ms/step\n",
            "Epoch 350/400\n"
          ]
        },
        {
          "output_type": "stream",
          "name": "stderr",
          "text": [
            "WARNING:tensorflow:Can save best model only with val_loss available, skipping.\n"
          ]
        },
        {
          "output_type": "stream",
          "name": "stdout",
          "text": [
            "34/34 - 1s - loss: 1.0381e-08 - accuracy: 1.0000 - 562ms/epoch - 17ms/step\n",
            "Epoch 351/400\n"
          ]
        },
        {
          "output_type": "stream",
          "name": "stderr",
          "text": [
            "WARNING:tensorflow:Can save best model only with val_loss available, skipping.\n"
          ]
        },
        {
          "output_type": "stream",
          "name": "stdout",
          "text": [
            "34/34 - 1s - loss: 9.9341e-09 - accuracy: 1.0000 - 523ms/epoch - 15ms/step\n",
            "Epoch 352/400\n"
          ]
        },
        {
          "output_type": "stream",
          "name": "stderr",
          "text": [
            "WARNING:tensorflow:Can save best model only with val_loss available, skipping.\n"
          ]
        },
        {
          "output_type": "stream",
          "name": "stdout",
          "text": [
            "34/34 - 1s - loss: 9.2644e-09 - accuracy: 1.0000 - 528ms/epoch - 16ms/step\n",
            "Epoch 353/400\n"
          ]
        },
        {
          "output_type": "stream",
          "name": "stderr",
          "text": [
            "WARNING:tensorflow:Can save best model only with val_loss available, skipping.\n"
          ]
        },
        {
          "output_type": "stream",
          "name": "stdout",
          "text": [
            "34/34 - 1s - loss: 8.7063e-09 - accuracy: 1.0000 - 524ms/epoch - 15ms/step\n",
            "Epoch 354/400\n"
          ]
        },
        {
          "output_type": "stream",
          "name": "stderr",
          "text": [
            "WARNING:tensorflow:Can save best model only with val_loss available, skipping.\n"
          ]
        },
        {
          "output_type": "stream",
          "name": "stdout",
          "text": [
            "34/34 - 0s - loss: 8.9295e-09 - accuracy: 1.0000 - 496ms/epoch - 15ms/step\n",
            "Epoch 355/400\n"
          ]
        },
        {
          "output_type": "stream",
          "name": "stderr",
          "text": [
            "WARNING:tensorflow:Can save best model only with val_loss available, skipping.\n"
          ]
        },
        {
          "output_type": "stream",
          "name": "stdout",
          "text": [
            "34/34 - 0s - loss: 8.9295e-09 - accuracy: 1.0000 - 483ms/epoch - 14ms/step\n",
            "Epoch 356/400\n"
          ]
        },
        {
          "output_type": "stream",
          "name": "stderr",
          "text": [
            "WARNING:tensorflow:Can save best model only with val_loss available, skipping.\n"
          ]
        },
        {
          "output_type": "stream",
          "name": "stdout",
          "text": [
            "34/34 - 0s - loss: 8.7063e-09 - accuracy: 1.0000 - 475ms/epoch - 14ms/step\n",
            "Epoch 357/400\n"
          ]
        },
        {
          "output_type": "stream",
          "name": "stderr",
          "text": [
            "WARNING:tensorflow:Can save best model only with val_loss available, skipping.\n"
          ]
        },
        {
          "output_type": "stream",
          "name": "stdout",
          "text": [
            "34/34 - 0s - loss: 7.8133e-09 - accuracy: 1.0000 - 474ms/epoch - 14ms/step\n",
            "Epoch 358/400\n"
          ]
        },
        {
          "output_type": "stream",
          "name": "stderr",
          "text": [
            "WARNING:tensorflow:Can save best model only with val_loss available, skipping.\n"
          ]
        },
        {
          "output_type": "stream",
          "name": "stdout",
          "text": [
            "34/34 - 0s - loss: 8.1482e-09 - accuracy: 1.0000 - 487ms/epoch - 14ms/step\n",
            "Epoch 359/400\n"
          ]
        },
        {
          "output_type": "stream",
          "name": "stderr",
          "text": [
            "WARNING:tensorflow:Can save best model only with val_loss available, skipping.\n"
          ]
        },
        {
          "output_type": "stream",
          "name": "stdout",
          "text": [
            "34/34 - 0s - loss: 8.1482e-09 - accuracy: 1.0000 - 474ms/epoch - 14ms/step\n",
            "Epoch 360/400\n"
          ]
        },
        {
          "output_type": "stream",
          "name": "stderr",
          "text": [
            "WARNING:tensorflow:Can save best model only with val_loss available, skipping.\n"
          ]
        },
        {
          "output_type": "stream",
          "name": "stdout",
          "text": [
            "34/34 - 0s - loss: 7.1436e-09 - accuracy: 1.0000 - 483ms/epoch - 14ms/step\n",
            "Epoch 361/400\n"
          ]
        },
        {
          "output_type": "stream",
          "name": "stderr",
          "text": [
            "WARNING:tensorflow:Can save best model only with val_loss available, skipping.\n"
          ]
        },
        {
          "output_type": "stream",
          "name": "stdout",
          "text": [
            "34/34 - 1s - loss: 7.4785e-09 - accuracy: 1.0000 - 504ms/epoch - 15ms/step\n",
            "Epoch 362/400\n"
          ]
        },
        {
          "output_type": "stream",
          "name": "stderr",
          "text": [
            "WARNING:tensorflow:Can save best model only with val_loss available, skipping.\n"
          ]
        },
        {
          "output_type": "stream",
          "name": "stdout",
          "text": [
            "34/34 - 0s - loss: 7.5901e-09 - accuracy: 1.0000 - 497ms/epoch - 15ms/step\n",
            "Epoch 363/400\n"
          ]
        },
        {
          "output_type": "stream",
          "name": "stderr",
          "text": [
            "WARNING:tensorflow:Can save best model only with val_loss available, skipping.\n"
          ]
        },
        {
          "output_type": "stream",
          "name": "stdout",
          "text": [
            "34/34 - 0s - loss: 7.1436e-09 - accuracy: 1.0000 - 496ms/epoch - 15ms/step\n",
            "Epoch 364/400\n"
          ]
        },
        {
          "output_type": "stream",
          "name": "stderr",
          "text": [
            "WARNING:tensorflow:Can save best model only with val_loss available, skipping.\n"
          ]
        },
        {
          "output_type": "stream",
          "name": "stdout",
          "text": [
            "34/34 - 0s - loss: 6.9204e-09 - accuracy: 1.0000 - 489ms/epoch - 14ms/step\n",
            "Epoch 365/400\n"
          ]
        },
        {
          "output_type": "stream",
          "name": "stderr",
          "text": [
            "WARNING:tensorflow:Can save best model only with val_loss available, skipping.\n"
          ]
        },
        {
          "output_type": "stream",
          "name": "stdout",
          "text": [
            "34/34 - 0s - loss: 6.5855e-09 - accuracy: 1.0000 - 496ms/epoch - 15ms/step\n",
            "Epoch 366/400\n"
          ]
        },
        {
          "output_type": "stream",
          "name": "stderr",
          "text": [
            "WARNING:tensorflow:Can save best model only with val_loss available, skipping.\n"
          ]
        },
        {
          "output_type": "stream",
          "name": "stdout",
          "text": [
            "34/34 - 0s - loss: 5.8042e-09 - accuracy: 1.0000 - 483ms/epoch - 14ms/step\n",
            "Epoch 367/400\n"
          ]
        },
        {
          "output_type": "stream",
          "name": "stderr",
          "text": [
            "WARNING:tensorflow:Can save best model only with val_loss available, skipping.\n"
          ]
        },
        {
          "output_type": "stream",
          "name": "stdout",
          "text": [
            "34/34 - 0s - loss: 6.8088e-09 - accuracy: 1.0000 - 490ms/epoch - 14ms/step\n",
            "Epoch 368/400\n"
          ]
        },
        {
          "output_type": "stream",
          "name": "stderr",
          "text": [
            "WARNING:tensorflow:Can save best model only with val_loss available, skipping.\n"
          ]
        },
        {
          "output_type": "stream",
          "name": "stdout",
          "text": [
            "34/34 - 0s - loss: 6.6972e-09 - accuracy: 1.0000 - 491ms/epoch - 14ms/step\n",
            "Epoch 369/400\n"
          ]
        },
        {
          "output_type": "stream",
          "name": "stderr",
          "text": [
            "WARNING:tensorflow:Can save best model only with val_loss available, skipping.\n"
          ]
        },
        {
          "output_type": "stream",
          "name": "stdout",
          "text": [
            "34/34 - 0s - loss: 6.4739e-09 - accuracy: 1.0000 - 474ms/epoch - 14ms/step\n",
            "Epoch 370/400\n"
          ]
        },
        {
          "output_type": "stream",
          "name": "stderr",
          "text": [
            "WARNING:tensorflow:Can save best model only with val_loss available, skipping.\n"
          ]
        },
        {
          "output_type": "stream",
          "name": "stdout",
          "text": [
            "34/34 - 0s - loss: 6.3623e-09 - accuracy: 1.0000 - 478ms/epoch - 14ms/step\n",
            "Epoch 371/400\n"
          ]
        },
        {
          "output_type": "stream",
          "name": "stderr",
          "text": [
            "WARNING:tensorflow:Can save best model only with val_loss available, skipping.\n"
          ]
        },
        {
          "output_type": "stream",
          "name": "stdout",
          "text": [
            "34/34 - 0s - loss: 6.5855e-09 - accuracy: 1.0000 - 484ms/epoch - 14ms/step\n",
            "Epoch 372/400\n"
          ]
        },
        {
          "output_type": "stream",
          "name": "stderr",
          "text": [
            "WARNING:tensorflow:Can save best model only with val_loss available, skipping.\n"
          ]
        },
        {
          "output_type": "stream",
          "name": "stdout",
          "text": [
            "34/34 - 0s - loss: 5.9158e-09 - accuracy: 1.0000 - 479ms/epoch - 14ms/step\n",
            "Epoch 373/400\n"
          ]
        },
        {
          "output_type": "stream",
          "name": "stderr",
          "text": [
            "WARNING:tensorflow:Can save best model only with val_loss available, skipping.\n"
          ]
        },
        {
          "output_type": "stream",
          "name": "stdout",
          "text": [
            "34/34 - 0s - loss: 7.3669e-09 - accuracy: 1.0000 - 483ms/epoch - 14ms/step\n",
            "Epoch 374/400\n"
          ]
        },
        {
          "output_type": "stream",
          "name": "stderr",
          "text": [
            "WARNING:tensorflow:Can save best model only with val_loss available, skipping.\n"
          ]
        },
        {
          "output_type": "stream",
          "name": "stdout",
          "text": [
            "34/34 - 1s - loss: 6.3623e-09 - accuracy: 1.0000 - 526ms/epoch - 15ms/step\n",
            "Epoch 375/400\n"
          ]
        },
        {
          "output_type": "stream",
          "name": "stderr",
          "text": [
            "WARNING:tensorflow:Can save best model only with val_loss available, skipping.\n"
          ]
        },
        {
          "output_type": "stream",
          "name": "stdout",
          "text": [
            "34/34 - 1s - loss: 6.9204e-09 - accuracy: 1.0000 - 521ms/epoch - 15ms/step\n",
            "Epoch 376/400\n"
          ]
        },
        {
          "output_type": "stream",
          "name": "stderr",
          "text": [
            "WARNING:tensorflow:Can save best model only with val_loss available, skipping.\n"
          ]
        },
        {
          "output_type": "stream",
          "name": "stdout",
          "text": [
            "34/34 - 1s - loss: 6.6972e-09 - accuracy: 1.0000 - 534ms/epoch - 16ms/step\n",
            "Epoch 377/400\n"
          ]
        },
        {
          "output_type": "stream",
          "name": "stderr",
          "text": [
            "WARNING:tensorflow:Can save best model only with val_loss available, skipping.\n"
          ]
        },
        {
          "output_type": "stream",
          "name": "stdout",
          "text": [
            "34/34 - 1s - loss: 6.3623e-09 - accuracy: 1.0000 - 545ms/epoch - 16ms/step\n",
            "Epoch 378/400\n"
          ]
        },
        {
          "output_type": "stream",
          "name": "stderr",
          "text": [
            "WARNING:tensorflow:Can save best model only with val_loss available, skipping.\n"
          ]
        },
        {
          "output_type": "stream",
          "name": "stdout",
          "text": [
            "34/34 - 1s - loss: 7.5901e-09 - accuracy: 1.0000 - 524ms/epoch - 15ms/step\n",
            "Epoch 379/400\n"
          ]
        },
        {
          "output_type": "stream",
          "name": "stderr",
          "text": [
            "WARNING:tensorflow:Can save best model only with val_loss available, skipping.\n"
          ]
        },
        {
          "output_type": "stream",
          "name": "stdout",
          "text": [
            "34/34 - 1s - loss: 6.2507e-09 - accuracy: 1.0000 - 526ms/epoch - 15ms/step\n",
            "Epoch 380/400\n"
          ]
        },
        {
          "output_type": "stream",
          "name": "stderr",
          "text": [
            "WARNING:tensorflow:Can save best model only with val_loss available, skipping.\n"
          ]
        },
        {
          "output_type": "stream",
          "name": "stdout",
          "text": [
            "34/34 - 1s - loss: 7.1436e-09 - accuracy: 1.0000 - 548ms/epoch - 16ms/step\n",
            "Epoch 381/400\n"
          ]
        },
        {
          "output_type": "stream",
          "name": "stderr",
          "text": [
            "WARNING:tensorflow:Can save best model only with val_loss available, skipping.\n"
          ]
        },
        {
          "output_type": "stream",
          "name": "stdout",
          "text": [
            "34/34 - 0s - loss: 6.9204e-09 - accuracy: 1.0000 - 479ms/epoch - 14ms/step\n",
            "Epoch 382/400\n"
          ]
        },
        {
          "output_type": "stream",
          "name": "stderr",
          "text": [
            "WARNING:tensorflow:Can save best model only with val_loss available, skipping.\n"
          ]
        },
        {
          "output_type": "stream",
          "name": "stdout",
          "text": [
            "34/34 - 0s - loss: 6.8088e-09 - accuracy: 1.0000 - 486ms/epoch - 14ms/step\n",
            "Epoch 383/400\n"
          ]
        },
        {
          "output_type": "stream",
          "name": "stderr",
          "text": [
            "WARNING:tensorflow:Can save best model only with val_loss available, skipping.\n"
          ]
        },
        {
          "output_type": "stream",
          "name": "stdout",
          "text": [
            "34/34 - 0s - loss: 6.1391e-09 - accuracy: 1.0000 - 486ms/epoch - 14ms/step\n",
            "Epoch 384/400\n"
          ]
        },
        {
          "output_type": "stream",
          "name": "stderr",
          "text": [
            "WARNING:tensorflow:Can save best model only with val_loss available, skipping.\n"
          ]
        },
        {
          "output_type": "stream",
          "name": "stdout",
          "text": [
            "34/34 - 0s - loss: 7.4785e-09 - accuracy: 1.0000 - 476ms/epoch - 14ms/step\n",
            "Epoch 385/400\n"
          ]
        },
        {
          "output_type": "stream",
          "name": "stderr",
          "text": [
            "WARNING:tensorflow:Can save best model only with val_loss available, skipping.\n"
          ]
        },
        {
          "output_type": "stream",
          "name": "stdout",
          "text": [
            "34/34 - 0s - loss: 6.9204e-09 - accuracy: 1.0000 - 484ms/epoch - 14ms/step\n",
            "Epoch 386/400\n"
          ]
        },
        {
          "output_type": "stream",
          "name": "stderr",
          "text": [
            "WARNING:tensorflow:Can save best model only with val_loss available, skipping.\n"
          ]
        },
        {
          "output_type": "stream",
          "name": "stdout",
          "text": [
            "34/34 - 0s - loss: 7.2552e-09 - accuracy: 1.0000 - 488ms/epoch - 14ms/step\n",
            "Epoch 387/400\n"
          ]
        },
        {
          "output_type": "stream",
          "name": "stderr",
          "text": [
            "WARNING:tensorflow:Can save best model only with val_loss available, skipping.\n"
          ]
        },
        {
          "output_type": "stream",
          "name": "stdout",
          "text": [
            "34/34 - 0s - loss: 7.5901e-09 - accuracy: 1.0000 - 474ms/epoch - 14ms/step\n",
            "Epoch 388/400\n"
          ]
        },
        {
          "output_type": "stream",
          "name": "stderr",
          "text": [
            "WARNING:tensorflow:Can save best model only with val_loss available, skipping.\n"
          ]
        },
        {
          "output_type": "stream",
          "name": "stdout",
          "text": [
            "34/34 - 0s - loss: 6.9204e-09 - accuracy: 1.0000 - 479ms/epoch - 14ms/step\n",
            "Epoch 389/400\n"
          ]
        },
        {
          "output_type": "stream",
          "name": "stderr",
          "text": [
            "WARNING:tensorflow:Can save best model only with val_loss available, skipping.\n"
          ]
        },
        {
          "output_type": "stream",
          "name": "stdout",
          "text": [
            "34/34 - 0s - loss: 6.6972e-09 - accuracy: 1.0000 - 478ms/epoch - 14ms/step\n",
            "Epoch 390/400\n"
          ]
        },
        {
          "output_type": "stream",
          "name": "stderr",
          "text": [
            "WARNING:tensorflow:Can save best model only with val_loss available, skipping.\n"
          ]
        },
        {
          "output_type": "stream",
          "name": "stdout",
          "text": [
            "34/34 - 0s - loss: 7.1436e-09 - accuracy: 1.0000 - 493ms/epoch - 14ms/step\n",
            "Epoch 391/400\n"
          ]
        },
        {
          "output_type": "stream",
          "name": "stderr",
          "text": [
            "WARNING:tensorflow:Can save best model only with val_loss available, skipping.\n"
          ]
        },
        {
          "output_type": "stream",
          "name": "stdout",
          "text": [
            "34/34 - 0s - loss: 6.5855e-09 - accuracy: 1.0000 - 480ms/epoch - 14ms/step\n",
            "Epoch 392/400\n"
          ]
        },
        {
          "output_type": "stream",
          "name": "stderr",
          "text": [
            "WARNING:tensorflow:Can save best model only with val_loss available, skipping.\n"
          ]
        },
        {
          "output_type": "stream",
          "name": "stdout",
          "text": [
            "34/34 - 0s - loss: 7.7017e-09 - accuracy: 1.0000 - 482ms/epoch - 14ms/step\n",
            "Epoch 393/400\n"
          ]
        },
        {
          "output_type": "stream",
          "name": "stderr",
          "text": [
            "WARNING:tensorflow:Can save best model only with val_loss available, skipping.\n"
          ]
        },
        {
          "output_type": "stream",
          "name": "stdout",
          "text": [
            "34/34 - 0s - loss: 6.6972e-09 - accuracy: 1.0000 - 476ms/epoch - 14ms/step\n",
            "Epoch 394/400\n"
          ]
        },
        {
          "output_type": "stream",
          "name": "stderr",
          "text": [
            "WARNING:tensorflow:Can save best model only with val_loss available, skipping.\n"
          ]
        },
        {
          "output_type": "stream",
          "name": "stdout",
          "text": [
            "34/34 - 0s - loss: 6.5855e-09 - accuracy: 1.0000 - 489ms/epoch - 14ms/step\n",
            "Epoch 395/400\n"
          ]
        },
        {
          "output_type": "stream",
          "name": "stderr",
          "text": [
            "WARNING:tensorflow:Can save best model only with val_loss available, skipping.\n"
          ]
        },
        {
          "output_type": "stream",
          "name": "stdout",
          "text": [
            "34/34 - 0s - loss: 7.1436e-09 - accuracy: 1.0000 - 478ms/epoch - 14ms/step\n",
            "Epoch 396/400\n"
          ]
        },
        {
          "output_type": "stream",
          "name": "stderr",
          "text": [
            "WARNING:tensorflow:Can save best model only with val_loss available, skipping.\n"
          ]
        },
        {
          "output_type": "stream",
          "name": "stdout",
          "text": [
            "34/34 - 0s - loss: 6.5855e-09 - accuracy: 1.0000 - 490ms/epoch - 14ms/step\n",
            "Epoch 397/400\n"
          ]
        },
        {
          "output_type": "stream",
          "name": "stderr",
          "text": [
            "WARNING:tensorflow:Can save best model only with val_loss available, skipping.\n"
          ]
        },
        {
          "output_type": "stream",
          "name": "stdout",
          "text": [
            "34/34 - 0s - loss: 6.5855e-09 - accuracy: 1.0000 - 497ms/epoch - 15ms/step\n",
            "Epoch 398/400\n"
          ]
        },
        {
          "output_type": "stream",
          "name": "stderr",
          "text": [
            "WARNING:tensorflow:Can save best model only with val_loss available, skipping.\n"
          ]
        },
        {
          "output_type": "stream",
          "name": "stdout",
          "text": [
            "34/34 - 0s - loss: 6.4739e-09 - accuracy: 1.0000 - 484ms/epoch - 14ms/step\n",
            "Epoch 399/400\n"
          ]
        },
        {
          "output_type": "stream",
          "name": "stderr",
          "text": [
            "WARNING:tensorflow:Can save best model only with val_loss available, skipping.\n"
          ]
        },
        {
          "output_type": "stream",
          "name": "stdout",
          "text": [
            "34/34 - 0s - loss: 6.9204e-09 - accuracy: 1.0000 - 473ms/epoch - 14ms/step\n",
            "Epoch 400/400\n"
          ]
        },
        {
          "output_type": "stream",
          "name": "stderr",
          "text": [
            "WARNING:tensorflow:Can save best model only with val_loss available, skipping.\n"
          ]
        },
        {
          "output_type": "stream",
          "name": "stdout",
          "text": [
            "34/34 - 0s - loss: 7.9250e-09 - accuracy: 1.0000 - 487ms/epoch - 14ms/step\n",
            "5/5 [==============================] - 1s 66ms/step - loss: 4.3599 - accuracy: 0.7273\n",
            "Test accuracy: 0.7272727489471436\n",
            "5/5 [==============================] - 0s 7ms/step\n",
            "Predictions saved to /content/result_test\n"
          ]
        }
      ],
      "source": [
        "import os\n",
        "import numpy as np\n",
        "import tensorflow as tf\n",
        "from tensorflow.keras.preprocessing.image import load_img, img_to_array\n",
        "from tensorflow.keras.utils import to_categorical\n",
        "from tensorflow.keras.callbacks import ModelCheckpoint\n",
        "\n",
        "# 데이터 경로 및 매개변수 설정\n",
        "train_data_dir = '/content/augmentation'\n",
        "test_data_dir = '/content/test'\n",
        "image_size = (150, 150)\n",
        "num_classes = 2  # \"normal\"과 \"abnormal\" 두 개의 클래스\n",
        "\n",
        "# 결과 출력 경로 설정\n",
        "output_dir = '/content/result_test'\n",
        "\n",
        "# 데이터 로드 및 전처리\n",
        "def load_and_preprocess_data(data_dir):\n",
        "    images = []\n",
        "    labels = []\n",
        "\n",
        "    for filename in os.listdir(data_dir):\n",
        "        if filename.endswith(\".jpg\") or filename.endswith(\".png\"):\n",
        "            img = load_img(os.path.join(data_dir, filename), target_size=image_size)\n",
        "            img_array = img_to_array(img)\n",
        "            images.append(img_array)\n",
        "            label = filename.split(\"_\")[0]  # 이미지 파일명에서 레이블 추출\n",
        "            labels.append(label)\n",
        "\n",
        "    images = np.array(images) / 255.0\n",
        "    labels = np.array(labels)\n",
        "\n",
        "    return images, labels\n",
        "\n",
        "# 학습 데이터 로드 및 전처리\n",
        "train_images, train_labels = load_and_preprocess_data(train_data_dir)\n",
        "train_labels = np.where(train_labels == 'normal', 0, 1)  # \"normal\"을 0으로, \"abnormal\"을 1로 변환\n",
        "train_labels = to_categorical(train_labels, num_classes)\n",
        "\n",
        "# 테스트 데이터 로드 및 전처리\n",
        "test_images, test_labels = load_and_preprocess_data(test_data_dir)\n",
        "test_labels = np.where(test_labels == 'normal', 0, 1)  # \"normal\"을 0으로, \"abnormal\"을 1로 변환\n",
        "test_labels = to_categorical(test_labels, num_classes)\n",
        "\n",
        "# 신경망 모델 구성\n",
        "model = tf.keras.Sequential([\n",
        "    tf.keras.layers.Conv2D(16, (3, 3), activation='relu', input_shape=(150, 150, 3)),\n",
        "    tf.keras.layers.MaxPooling2D((2, 2)),\n",
        "    tf.keras.layers.Conv2D(32, (3, 3), activation='relu'),\n",
        "    tf.keras.layers.MaxPooling2D((2, 2)),\n",
        "    tf.keras.layers.Conv2D(64, (3, 3), activation='relu'),\n",
        "    tf.keras.layers.Flatten(),\n",
        "    tf.keras.layers.Dense(64, activation='relu'),\n",
        "    tf.keras.layers.Dense(num_classes, activation='softmax')\n",
        "])\n",
        "\n",
        "# 모델 컴파일 및 학습\n",
        "model.compile(optimizer='adam',\n",
        "              loss='categorical_crossentropy',\n",
        "              metrics=['accuracy'])\n",
        "\n",
        "# ModelCheckpoint 콜백 설정\n",
        "checkpoint_path = os.path.join(output_dir, 'model_checkpoint.h5')\n",
        "checkpoint = ModelCheckpoint(checkpoint_path, monitor='val_loss', save_weights_only=True, save_best_only=True)\n",
        "\n",
        "# 학습\n",
        "model.fit(train_images, train_labels, epochs=400, callbacks=[checkpoint], verbose=2)\n",
        "\n",
        "# 테스트 데이터 평가\n",
        "test_loss, test_acc = model.evaluate(test_images, test_labels)\n",
        "print('Test accuracy:', test_acc)\n",
        "\n",
        "# 테스트 데이터에 대한 예측 수행\n",
        "predictions = model.predict(test_images)\n",
        "predicted_labels = np.argmax(predictions, axis=1)\n",
        "predicted_labels = np.where(predicted_labels == 0, 'normal', 'abnormal')\n",
        "\n",
        "# 예측 결과 이미지 저장\n",
        "os.makedirs(output_dir, exist_ok=True)\n",
        "\n",
        "for i in range(len(test_images)):\n",
        "    img_filename = f\"image_{i}_predicted_{predicted_labels[i]}.jpg\"\n",
        "    img_path = os.path.join(output_dir, img_filename)\n",
        "    img_array = test_images[i] * 255.0\n",
        "    img = img_array.astype(np.uint8)\n",
        "    img = Image.fromarray(img)\n",
        "    img.save(img_path)\n",
        "\n",
        "print(\"Predictions saved to\", output_dir)"
      ]
    },
    {
      "cell_type": "code",
      "execution_count": 9,
      "metadata": {
        "colab": {
          "base_uri": "https://localhost:8080/"
        },
        "id": "TJGzFuKnPcNx",
        "outputId": "10f48064-6678-4821-bbcd-e880d2873150"
      },
      "outputs": [
        {
          "output_type": "stream",
          "name": "stdout",
          "text": [
            "Downloading data from https://storage.googleapis.com/tensorflow/keras-applications/vgg16/vgg16_weights_tf_dim_ordering_tf_kernels.h5\n",
            "553467096/553467096 [==============================] - 15s 0us/step\n",
            "1/1 [==============================] - 1s 908ms/step\n",
            "1/1 [==============================] - 0s 21ms/step\n",
            "1/1 [==============================] - 0s 19ms/step\n",
            "1/1 [==============================] - 0s 18ms/step\n",
            "1/1 [==============================] - 0s 18ms/step\n",
            "1/1 [==============================] - 0s 29ms/step\n",
            "1/1 [==============================] - 0s 37ms/step\n",
            "1/1 [==============================] - 0s 94ms/step\n",
            "1/1 [==============================] - 0s 104ms/step\n",
            "1/1 [==============================] - 0s 87ms/step\n",
            "1/1 [==============================] - 0s 30ms/step\n",
            "1/1 [==============================] - 0s 54ms/step\n",
            "1/1 [==============================] - 0s 34ms/step\n",
            "1/1 [==============================] - 0s 44ms/step\n",
            "1/1 [==============================] - 0s 18ms/step\n",
            "1/1 [==============================] - 0s 21ms/step\n",
            "1/1 [==============================] - 0s 18ms/step\n",
            "1/1 [==============================] - 0s 21ms/step\n",
            "1/1 [==============================] - 0s 20ms/step\n",
            "1/1 [==============================] - 0s 18ms/step\n",
            "1/1 [==============================] - 0s 18ms/step\n",
            "1/1 [==============================] - 0s 18ms/step\n",
            "1/1 [==============================] - 0s 18ms/step\n",
            "1/1 [==============================] - 0s 19ms/step\n",
            "1/1 [==============================] - 0s 19ms/step\n",
            "1/1 [==============================] - 0s 19ms/step\n",
            "1/1 [==============================] - 0s 41ms/step\n",
            "1/1 [==============================] - 0s 31ms/step\n",
            "1/1 [==============================] - 0s 38ms/step\n",
            "1/1 [==============================] - 0s 31ms/step\n",
            "1/1 [==============================] - 0s 20ms/step\n",
            "1/1 [==============================] - 0s 21ms/step\n",
            "1/1 [==============================] - 0s 18ms/step\n",
            "1/1 [==============================] - 0s 19ms/step\n",
            "1/1 [==============================] - 0s 21ms/step\n",
            "1/1 [==============================] - 0s 19ms/step\n",
            "1/1 [==============================] - 0s 18ms/step\n",
            "1/1 [==============================] - 0s 18ms/step\n",
            "1/1 [==============================] - 0s 18ms/step\n",
            "1/1 [==============================] - 0s 20ms/step\n",
            "1/1 [==============================] - 0s 18ms/step\n",
            "1/1 [==============================] - 0s 24ms/step\n",
            "1/1 [==============================] - 0s 20ms/step\n",
            "1/1 [==============================] - 0s 25ms/step\n",
            "1/1 [==============================] - 0s 19ms/step\n",
            "1/1 [==============================] - 0s 18ms/step\n",
            "1/1 [==============================] - 0s 18ms/step\n",
            "1/1 [==============================] - 0s 19ms/step\n",
            "1/1 [==============================] - 0s 27ms/step\n",
            "1/1 [==============================] - 0s 33ms/step\n",
            "1/1 [==============================] - 0s 30ms/step\n",
            "1/1 [==============================] - 0s 30ms/step\n",
            "1/1 [==============================] - 0s 31ms/step\n",
            "1/1 [==============================] - 0s 30ms/step\n",
            "1/1 [==============================] - 0s 21ms/step\n",
            "1/1 [==============================] - 0s 18ms/step\n",
            "1/1 [==============================] - 0s 18ms/step\n",
            "1/1 [==============================] - 0s 18ms/step\n",
            "1/1 [==============================] - 0s 19ms/step\n",
            "1/1 [==============================] - 0s 19ms/step\n",
            "1/1 [==============================] - 0s 20ms/step\n",
            "1/1 [==============================] - 0s 21ms/step\n",
            "1/1 [==============================] - 0s 18ms/step\n",
            "1/1 [==============================] - 0s 18ms/step\n",
            "1/1 [==============================] - 0s 20ms/step\n",
            "1/1 [==============================] - 0s 19ms/step\n",
            "1/1 [==============================] - 0s 19ms/step\n",
            "1/1 [==============================] - 0s 22ms/step\n",
            "1/1 [==============================] - 0s 19ms/step\n",
            "1/1 [==============================] - 0s 18ms/step\n",
            "1/1 [==============================] - 0s 19ms/step\n",
            "1/1 [==============================] - 0s 18ms/step\n",
            "1/1 [==============================] - 0s 22ms/step\n",
            "1/1 [==============================] - 0s 27ms/step\n",
            "1/1 [==============================] - 0s 36ms/step\n",
            "1/1 [==============================] - 0s 30ms/step\n",
            "1/1 [==============================] - 0s 30ms/step\n",
            "1/1 [==============================] - 0s 27ms/step\n",
            "1/1 [==============================] - 0s 18ms/step\n",
            "1/1 [==============================] - 0s 18ms/step\n",
            "1/1 [==============================] - 0s 22ms/step\n",
            "1/1 [==============================] - 0s 19ms/step\n",
            "1/1 [==============================] - 0s 18ms/step\n",
            "1/1 [==============================] - 0s 19ms/step\n",
            "1/1 [==============================] - 0s 19ms/step\n",
            "1/1 [==============================] - 0s 19ms/step\n",
            "1/1 [==============================] - 0s 20ms/step\n",
            "1/1 [==============================] - 0s 19ms/step\n",
            "1/1 [==============================] - 0s 19ms/step\n",
            "1/1 [==============================] - 0s 19ms/step\n",
            "1/1 [==============================] - 0s 18ms/step\n",
            "1/1 [==============================] - 0s 20ms/step\n",
            "1/1 [==============================] - 0s 20ms/step\n",
            "1/1 [==============================] - 0s 19ms/step\n",
            "1/1 [==============================] - 0s 18ms/step\n",
            "1/1 [==============================] - 0s 19ms/step\n",
            "1/1 [==============================] - 0s 21ms/step\n",
            "1/1 [==============================] - 0s 18ms/step\n",
            "1/1 [==============================] - 0s 35ms/step\n",
            "1/1 [==============================] - 0s 30ms/step\n",
            "1/1 [==============================] - 0s 45ms/step\n",
            "1/1 [==============================] - 0s 39ms/step\n",
            "1/1 [==============================] - 0s 18ms/step\n",
            "1/1 [==============================] - 0s 22ms/step\n",
            "1/1 [==============================] - 0s 20ms/step\n",
            "1/1 [==============================] - 0s 19ms/step\n",
            "1/1 [==============================] - 0s 18ms/step\n",
            "1/1 [==============================] - 0s 19ms/step\n",
            "1/1 [==============================] - 0s 19ms/step\n",
            "1/1 [==============================] - 0s 19ms/step\n",
            "1/1 [==============================] - 0s 18ms/step\n",
            "1/1 [==============================] - 0s 18ms/step\n",
            "1/1 [==============================] - 0s 19ms/step\n",
            "1/1 [==============================] - 0s 20ms/step\n",
            "1/1 [==============================] - 0s 21ms/step\n",
            "1/1 [==============================] - 0s 77ms/step\n",
            "1/1 [==============================] - 0s 19ms/step\n",
            "1/1 [==============================] - 0s 22ms/step\n",
            "1/1 [==============================] - 0s 20ms/step\n",
            "1/1 [==============================] - 0s 18ms/step\n",
            "1/1 [==============================] - 0s 18ms/step\n",
            "1/1 [==============================] - 0s 29ms/step\n",
            "1/1 [==============================] - 0s 29ms/step\n",
            "1/1 [==============================] - 0s 32ms/step\n",
            "1/1 [==============================] - 0s 33ms/step\n",
            "1/1 [==============================] - 0s 27ms/step\n",
            "1/1 [==============================] - 0s 21ms/step\n",
            "1/1 [==============================] - 0s 19ms/step\n",
            "1/1 [==============================] - 0s 20ms/step\n",
            "1/1 [==============================] - 0s 18ms/step\n",
            "1/1 [==============================] - 0s 18ms/step\n",
            "1/1 [==============================] - 0s 18ms/step\n",
            "1/1 [==============================] - 0s 19ms/step\n",
            "1/1 [==============================] - 0s 19ms/step\n",
            "1/1 [==============================] - 0s 21ms/step\n",
            "1/1 [==============================] - 0s 18ms/step\n",
            "1/1 [==============================] - 0s 18ms/step\n",
            "1/1 [==============================] - 0s 18ms/step\n",
            "1/1 [==============================] - 0s 21ms/step\n",
            "1/1 [==============================] - 0s 18ms/step\n",
            "1/1 [==============================] - 0s 19ms/step\n",
            "1/1 [==============================] - 0s 19ms/step\n",
            "1/1 [==============================] - 0s 19ms/step\n",
            "1/1 [==============================] - 0s 19ms/step\n",
            "1/1 [==============================] - 0s 18ms/step\n",
            "1/1 [==============================] - 0s 31ms/step\n",
            "1/1 [==============================] - 0s 29ms/step\n",
            "1/1 [==============================] - 0s 31ms/step\n",
            "1/1 [==============================] - 0s 31ms/step\n",
            "1/1 [==============================] - 0s 33ms/step\n",
            "1/1 [==============================] - 0s 19ms/step\n",
            "1/1 [==============================] - 0s 19ms/step\n",
            "1/1 [==============================] - 0s 22ms/step\n",
            "1/1 [==============================] - 0s 18ms/step\n",
            "Grad-CAM 결과가 저장되었습니다.\n"
          ]
        }
      ],
      "source": [
        "# 폴더 경로 설정\n",
        "input_folder = '/content/result_test'\n",
        "output_folder = '/content/result'\n",
        "\n",
        "# 입력 폴더에서 이미지 파일 목록을 가져옴\n",
        "image_files = os.listdir(input_folder)\n",
        "\n",
        "# 결과를 저장할 폴더 생성\n",
        "os.makedirs(output_folder, exist_ok=True)\n",
        "\n",
        "# 예측에 사용할 모델 정의\n",
        "vgg_model = tf.keras.applications.VGG16(input_shape=(224, 224, 3), include_top=True)\n",
        "grad_cam_model = tf.keras.models.Model([vgg_model.input],\n",
        "                                       [vgg_model.get_layer('block5_conv3').output, vgg_model.output])\n",
        "\n",
        "# 이미지 파일을 순회하며 Grad-CAM 수행\n",
        "for image_file in image_files:\n",
        "    # 이미지 경로 생성\n",
        "    image_path = os.path.join(input_folder, image_file)\n",
        "\n",
        "    # 이미지 불러오기\n",
        "    img = cv2.imread(image_path)\n",
        "    img = cv2.resize(img, (224, 224))\n",
        "    rgb_img = cv2.cvtColor(img, cv2.COLOR_BGR2RGB)\n",
        "\n",
        "    # Grad-CAM 수행\n",
        "    conv_outputs, predictions = grad_cam_model.predict(np.reshape(rgb_img, (1, 224, 224, 3)))\n",
        "    img_index = np.argmax(predictions)\n",
        "\n",
        "    # Grad-CAM 결과 생성\n",
        "    with tf.GradientTape() as tape:\n",
        "        conv_outputs, predictions = grad_cam_model(np.reshape(rgb_img, (1, 224, 224, 3)))\n",
        "        loss = predictions[:, img_index]\n",
        "    output = conv_outputs[0]\n",
        "    grads = tape.gradient(loss, conv_outputs)[0]\n",
        "\n",
        "    grad_weights = tf.reduce_mean(grads, axis=(0, 1))\n",
        "    cam = np.ones(output.shape[0:2], dtype=np.float32)\n",
        "    for i, w in enumerate(grad_weights):\n",
        "        cam += w * output[:, :, i]\n",
        "\n",
        "    cam = cv2.resize(cam.numpy(), (224, 224))\n",
        "    grad_cam = (cam - cam.min()) / (cam.max() - cam.min())\n",
        "\n",
        "    # 결과 이미지 저장 경로 생성\n",
        "    output_path = os.path.join(output_folder, image_file)\n",
        "\n",
        "    # 결과 이미지 저장\n",
        "    cam = cv2.applyColorMap(np.uint8(255 * grad_cam), cv2.COLORMAP_JET)\n",
        "    cam = cv2.cvtColor(cam, cv2.COLOR_RGB2BGR)\n",
        "    result_img = cv2.add(cam, img)\n",
        "    cv2.imwrite(output_path, result_img)\n",
        "\n",
        "print(\"Grad-CAM 결과가 저장되었습니다.\")\n"
      ]
    }
  ],
  "metadata": {
    "colab": {
      "provenance": [],
      "gpuType": "T4",
      "mount_file_id": "1cpk_M_Kp9aPFdLEwRf6oYyWo0V-vP8q1",
      "authorship_tag": "ABX9TyNC6soHRraCf0Xu2Lf0LDmd",
      "include_colab_link": true
    },
    "kernelspec": {
      "display_name": "Python 3",
      "name": "python3"
    },
    "language_info": {
      "name": "python"
    },
    "accelerator": "GPU"
  },
  "nbformat": 4,
  "nbformat_minor": 0
}